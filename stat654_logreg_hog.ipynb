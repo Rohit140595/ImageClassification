{
 "cells": [
  {
   "cell_type": "markdown",
   "metadata": {
    "colab_type": "text",
    "id": "4cX1sVWMDS1R"
   },
   "source": [
    "# Importing Libraries and Pre-Processing"
   ]
  },
  {
   "cell_type": "code",
   "execution_count": 10,
   "metadata": {
    "colab": {
     "base_uri": "https://localhost:8080/",
     "height": 126
    },
    "colab_type": "code",
    "id": "tRqeDkxgAzKJ",
    "outputId": "4c173bed-3cff-4f56-c464-9c2329095466"
   },
   "outputs": [],
   "source": [
    "### Importing Libraries\n",
    "# basic libraries\n",
    "import numpy as np\n",
    "import pandas as pd\n",
    "import matplotlib.pyplot as plt\n",
    "import seaborn as sns\n",
    "\n",
    "# modeling libraries\n",
    "from sklearn.decomposition import PCA\n",
    "from sklearn.neighbors import KNeighborsClassifier\n",
    "from sklearn.experimental import enable_hist_gradient_boosting\n",
    "from sklearn.ensemble import HistGradientBoostingClassifier\n",
    "from sklearn.linear_model import LogisticRegression\n",
    "from sklearn.svm import SVC\n",
    "from sklearn.ensemble import RandomForestClassifier\n",
    "from sklearn.naive_bayes import GaussianNB\n",
    "from sklearn.naive_bayes import MultinomialNB\n",
    "from sklearn.ensemble import VotingClassifier\n",
    "from sklearn.pipeline import make_pipeline\n",
    "\n",
    "# Preprocessing and cross-validation\n",
    "from sklearn.preprocessing import StandardScaler\n",
    "from sklearn.model_selection import cross_val_score, cross_val_predict\n",
    "from sklearn.model_selection import train_test_split\n",
    "from sklearn.model_selection import GridSearchCV, RandomizedSearchCV\n",
    "from sklearn.model_selection import StratifiedShuffleSplit, RepeatedKFold\n",
    "\n",
    "# Model saving\n",
    "import pickle\n",
    "\n",
    "# Model evaluation\n",
    "from sklearn.metrics import accuracy_score\n",
    "from sklearn.metrics import classification_report\n",
    "from sklearn.metrics import confusion_matrix, plot_confusion_matrix\n",
    "from sklearn.metrics import ConfusionMatrixDisplay\n",
    "from matplotlib.colors import Normalize\n",
    "\n",
    "import timeit\n",
    "from datetime import timedelta\n",
    "\n",
    "plt.rcParams[\"savefig.dpi\"] = 300\n",
    "plt.rcParams[\"savefig.bbox\"] = 'tight'"
   ]
  },
  {
   "cell_type": "code",
   "execution_count": 11,
   "metadata": {},
   "outputs": [
    {
     "name": "stdout",
     "output_type": "stream",
     "text": [
      "Full train data: X = (50000, 32, 32, 3), y = (50000,)\n",
      "Full test data:  X = (10000, 32, 32, 3), y = (10000,)\n"
     ]
    }
   ],
   "source": [
    "### Importing and Preparing Data\n",
    "# load dataset\n",
    "training_data = pd.read_csv('train_x.csv').to_numpy()\n",
    "training_label = pd.read_csv('train_y.csv').to_numpy().flatten()\n",
    "testing_data = pd.read_csv('test_x.csv').to_numpy()\n",
    "testing_label = pd.read_csv(\"test_y.csv\").to_numpy().flatten()\n",
    "\n",
    "print(f'Full train data: X = {training_data.shape}, y = {training_label.shape}')\n",
    "print(f'Full test data:  X = {testing_data.shape}, y = {testing_label.shape}')"
   ]
  },
  {
   "cell_type": "code",
   "execution_count": 12,
   "metadata": {},
   "outputs": [
    {
     "name": "stdout",
     "output_type": "stream",
     "text": [
      "Full train data: X = (50000, 32, 32, 3), y = (50000,)\n",
      "Full test data:  X = (10000, 32, 32, 3), y = (10000,)\n"
     ]
    }
   ],
   "source": [
    "full_train_data = np.reshape(training_data, (training_data.shape[0], 32, 32, 3))\n",
    "test_data = np.reshape(testing_data, (testing_data.shape[0], 32, 32, 3))\n",
    "full_train_label = training_label\n",
    "test_label = testing_label\n",
    "print(f'Full train data: X = {full_train_data.shape}, y = {full_train_label.shape}')\n",
    "print(f'Full test data:  X = {test_data.shape}, y = {test_label.shape}')"
   ]
  },
  {
   "cell_type": "code",
   "execution_count": 13,
   "metadata": {
    "colab": {},
    "colab_type": "code",
    "id": "kWirS4KkkVXQ"
   },
   "outputs": [],
   "source": [
    "# Histogram of Oriented Gradients\n",
    "from skimage.io import imread, imshow\n",
    "from skimage.transform import resize\n",
    "from skimage.feature import hog\n",
    "from skimage import exposure\n",
    "\n",
    "def extract_hog(data):\n",
    "    fd_array = np.empty(shape=(len(data), 3780), dtype='float')\n",
    "    for i in range(len(data)):\n",
    "        img = data[i]\n",
    "        resized_img = resize(img, (128, 64))\n",
    "        fd = hog(resized_img, orientations=9, pixels_per_cell=(8,8), \n",
    "                 cells_per_block=(2,2), visualize=False, multichannel=True, \n",
    "                 block_norm='L2-Hys')\n",
    "        fd_array[i] = fd\n",
    "    return fd_array"
   ]
  },
  {
   "cell_type": "code",
   "execution_count": 15,
   "metadata": {
    "colab": {
     "base_uri": "https://localhost:8080/",
     "height": 35
    },
    "colab_type": "code",
    "id": "evbBDcpvlRMy",
    "outputId": "9423118a-49b8-4b76-aaf3-b8dad99a465d"
   },
   "outputs": [
    {
     "name": "stdout",
     "output_type": "stream",
     "text": [
      "time elapsed: 0:05:41.142814\n"
     ]
    }
   ],
   "source": [
    "tic = timeit.default_timer()\n",
    "full_train_data_hog = extract_hog(full_train_data)\n",
    "test_data_hog = extract_hog(test_data)\n",
    "toc = timeit.default_timer()\n",
    "print(f\"time elapsed: {timedelta(seconds=toc-tic)}\")"
   ]
  },
  {
   "cell_type": "code",
   "execution_count": 16,
   "metadata": {
    "colab": {
     "base_uri": "https://localhost:8080/",
     "height": 54
    },
    "colab_type": "code",
    "id": "sqmJqO_clRRi",
    "outputId": "46a925c4-ebf9-46de-990a-d0a93460391c"
   },
   "outputs": [
    {
     "name": "stdout",
     "output_type": "stream",
     "text": [
      "Train data:       X = (35000, 3780), y = (35000,)\n",
      "Validation data:  X = (15000, 3780), y = (15000,)\n"
     ]
    }
   ],
   "source": [
    "# Training and Validation Set Split\n",
    "train_data_hg, val_data_hg, train_label, val_label = train_test_split(\n",
    "    full_train_data_hog, full_train_label, test_size = 0.3,\n",
    "    stratify = full_train_label, random_state = 40)\n",
    "print(f'Train data:       X = {train_data_hg.shape}, y = {train_label.shape}')\n",
    "print(f'Validation data:  X = {val_data_hg.shape}, y = {val_label.shape}')"
   ]
  },
  {
   "cell_type": "code",
   "execution_count": 17,
   "metadata": {
    "colab": {
     "base_uri": "https://localhost:8080/",
     "height": 72
    },
    "colab_type": "code",
    "id": "UoTchgcPlSHl",
    "outputId": "de34529c-f8a1-4c5e-805c-11ff3b8d92c2"
   },
   "outputs": [
    {
     "name": "stdout",
     "output_type": "stream",
     "text": [
      "time elapsed:              0:01:49.957988\n",
      "PCA train data shape:      (35000, 460)\n",
      "PCA validation data shape: (15000, 460)\n"
     ]
    }
   ],
   "source": [
    "# Dimensionality Reduction - PCA\n",
    "pca_scaled2 = make_pipeline(StandardScaler(), \n",
    "                           PCA(n_components = 0.8, whiten=True, random_state=0))\n",
    "tic = timeit.default_timer()\n",
    "X_train_hg = pca_scaled2.fit_transform(train_data_hg)\n",
    "X_val_hg = pca_scaled2.transform(val_data_hg)\n",
    "toc = timeit.default_timer()\n",
    "print(f\"time elapsed:              {timedelta(seconds=toc-tic)}\")\n",
    "print(f\"PCA train data shape:      {X_train_hg.shape}\")\n",
    "print(f\"PCA validation data shape: {X_val_hg.shape}\")"
   ]
  },
  {
   "cell_type": "markdown",
   "metadata": {
    "colab_type": "text",
    "id": "qUT6rTZFmD5N"
   },
   "source": [
    "# Classification"
   ]
  },
  {
   "cell_type": "markdown",
   "metadata": {
    "colab_type": "text",
    "id": "csjgeXfADKLr"
   },
   "source": [
    "### Logistic Regression"
   ]
  },
  {
   "cell_type": "code",
   "execution_count": 25,
   "metadata": {
    "colab": {},
    "colab_type": "code",
    "id": "sYSVXSrUHfLD"
   },
   "outputs": [],
   "source": [
    "# GridSearch Search with several parameters using training data\n",
    "C = [int(x) for x in np.logspace(-1, 3, num = 5)]\n",
    "fit_intercept = [True, False]\n",
    "parameters = {\n",
    " 'C': C,\n",
    " 'fit_intercept': fit_intercept\n",
    " }"
   ]
  },
  {
   "cell_type": "code",
   "execution_count": 27,
   "metadata": {
    "colab": {},
    "colab_type": "code",
    "id": "dqyk5fGFH3Ro"
   },
   "outputs": [
    {
     "name": "stdout",
     "output_type": "stream",
     "text": [
      "Fitting 4 folds for each of 10 candidates, totalling 40 fits\n"
     ]
    },
    {
     "name": "stderr",
     "output_type": "stream",
     "text": [
      "[Parallel(n_jobs=-1)]: Using backend LokyBackend with 8 concurrent workers.\n",
      "[Parallel(n_jobs=-1)]: Done  25 tasks      | elapsed:   23.8s\n",
      "[Parallel(n_jobs=-1)]: Done  40 out of  40 | elapsed:   26.8s finished\n"
     ]
    },
    {
     "name": "stdout",
     "output_type": "stream",
     "text": [
      "time elapsed: 0:00:29.767536\n"
     ]
    }
   ],
   "source": [
    "lr = LogisticRegression()\n",
    "lr_grid = GridSearchCV(\n",
    "    estimator = lr, param_grid = parameters, cv = 4, verbose = 2, n_jobs = -1)\n",
    "tic = timeit.default_timer()\n",
    "lr_grid.fit(X_train_hg, train_label)\n",
    "toc = timeit.default_timer()\n",
    "print(f\"time elapsed: {timedelta(seconds=toc-tic)}\")"
   ]
  },
  {
   "cell_type": "code",
   "execution_count": 28,
   "metadata": {
    "colab": {},
    "colab_type": "code",
    "id": "7dhWQCXxH3U4"
   },
   "outputs": [
    {
     "name": "stdout",
     "output_type": "stream",
     "text": [
      "{'C': 1, 'fit_intercept': True}\n",
      "0.5223142857142857\n",
      "0.5415333333333333\n"
     ]
    }
   ],
   "source": [
    "lr_results = pd.DataFrame(lr_grid.cv_results_)\n",
    "print(lr_grid.best_params_)\n",
    "print(lr_grid.best_score_)                  # 0.5223142857142857\n",
    "print(lr_grid.score(X_val_hg, val_label))  # 0.5415333333333333\n",
    "# "
   ]
  },
  {
   "cell_type": "code",
   "execution_count": 29,
   "metadata": {
    "colab": {},
    "colab_type": "code",
    "id": "smMIxGqtKcEa"
   },
   "outputs": [
    {
     "name": "stdout",
     "output_type": "stream",
     "text": [
      "time elapsed: 0:02:51.082740\n"
     ]
    }
   ],
   "source": [
    "# Building a model with all the training and validation data and testing with test data\n",
    "pca_pipe = make_pipeline(PCA(n_components=0.8, whiten=True, random_state=0))\n",
    "lrmod = LogisticRegression(C=1, fit_intercept=True)\n",
    "lr_pipe = make_pipeline(pca_pipe, lrmod)\n",
    "tic = timeit.default_timer()\n",
    "lr_pipe.fit(full_train_data_hog, full_train_label)\n",
    "toc = timeit.default_timer()\n",
    "print(f\"time elapsed: {timedelta(seconds=toc-tic)}\") # 1149.32 seconds"
   ]
  },
  {
   "cell_type": "code",
   "execution_count": 30,
   "metadata": {
    "colab": {},
    "colab_type": "code",
    "id": "6f_AgZQQKcRf"
   },
   "outputs": [
    {
     "name": "stdout",
     "output_type": "stream",
     "text": [
      "Train accuracy: 0.54794\n",
      "Test accuracy:  0.5313\n"
     ]
    }
   ],
   "source": [
    "print(f\"Train accuracy: {lr_pipe.score(full_train_data_hog, full_train_label)}\") # 0.54794\n",
    "print(f\"Test accuracy:  {lr_pipe.score(test_data_hog, test_label)}\")             # 0.5313"
   ]
  },
  {
   "cell_type": "code",
   "execution_count": 31,
   "metadata": {},
   "outputs": [],
   "source": [
    "# Model prediction\n",
    "pred = lr_pipe.predict(test_data_hog)"
   ]
  },
  {
   "cell_type": "code",
   "execution_count": 32,
   "metadata": {},
   "outputs": [
    {
     "name": "stdout",
     "output_type": "stream",
     "text": [
      "Accuracy: 0.531\n",
      "Confusion matrix:\n",
      "[[573  30  74  17  66  11  35  21 146  27]\n",
      " [ 34 698   9  14  13   4  47   9  62 110]\n",
      " [ 74  12 411  70 117 118  86  42  52  18]\n",
      " [ 35  28 109 280 141 143 127  58  31  48]\n",
      " [ 70  17 120  84 455  59  61  84  33  17]\n",
      " [ 15   7 125 126  79 407  97  96  22  26]\n",
      " [ 30  25  86  73  45  58 620  20  32  11]\n",
      " [ 23  15  51  44  74  82  26 635  15  35]\n",
      " [135  77  29   7  30   8  32  13 603  66]\n",
      " [ 44  97  11  27  25  23  18  55  69 631]]\n"
     ]
    },
    {
     "data": {
      "image/png": "[encoded data removed]",
      "text/plain": [
       "<Figure size 720x720 with 2 Axes>"
      ]
     },
     "metadata": {
      "needs_background": "light"
     },
     "output_type": "display_data"
    }
   ],
   "source": [
    "print(f\"Accuracy: {accuracy_score(test_label, pred):.3f}\")\n",
    "print(f\"Confusion matrix:\\n{confusion_matrix(test_label, pred)}\")\n",
    "fig, ax = plt.subplots(figsize=(10, 10))\n",
    "ConfusionMatrixDisplay(confusion_matrix(test_label, pred), \n",
    "                       display_labels=['0', '1', '2', '3', '4', '5', '6', '7', '8', '9']).plot(ax=ax, cmap=plt.cm.Blues, values_format='.0f')\n",
    "plt.savefig(\"confusion_lr.png\")"
   ]
  },
  {
   "cell_type": "code",
   "execution_count": 33,
   "metadata": {},
   "outputs": [
    {
     "name": "stdout",
     "output_type": "stream",
     "text": [
      "              precision    recall  f1-score   support\n",
      "\n",
      "           0       0.55      0.57      0.56      1000\n",
      "           1       0.69      0.70      0.70      1000\n",
      "           2       0.40      0.41      0.41      1000\n",
      "           3       0.38      0.28      0.32      1000\n",
      "           4       0.44      0.46      0.44      1000\n",
      "           5       0.45      0.41      0.43      1000\n",
      "           6       0.54      0.62      0.58      1000\n",
      "           7       0.61      0.64      0.62      1000\n",
      "           8       0.57      0.60      0.58      1000\n",
      "           9       0.64      0.63      0.63      1000\n",
      "\n",
      "    accuracy                           0.53     10000\n",
      "   macro avg       0.53      0.53      0.53     10000\n",
      "weighted avg       0.53      0.53      0.53     10000\n",
      "\n"
     ]
    }
   ],
   "source": [
    "# Classification report\n",
    "print(classification_report(test_label, pred))"
   ]
  },
  {
   "cell_type": "code",
   "execution_count": 34,
   "metadata": {},
   "outputs": [],
   "source": [
    "# Save model file with pickle\n",
    "lr_pickle = \"Pickle_LR_hfull.pkl\"  \n",
    "\n",
    "with open(lr_pickle, 'wb') as file:  \n",
    "    pickle.dump(lr_pipe, file)"
   ]
  },
  {
   "cell_type": "code",
   "execution_count": 5,
   "metadata": {},
   "outputs": [
    {
     "data": {
      "text/plain": [
       "Pipeline(memory=None,\n",
       "         steps=[('pipeline',\n",
       "                 Pipeline(memory=None,\n",
       "                          steps=[('standardscaler',\n",
       "                                  StandardScaler(copy=True, with_mean=True,\n",
       "                                                 with_std=True)),\n",
       "                                 ('pca',\n",
       "                                  PCA(copy=True, iterated_power='auto',\n",
       "                                      n_components=100, random_state=0,\n",
       "                                      svd_solver='auto', tol=0.0,\n",
       "                                      whiten=True))],\n",
       "                          verbose=False)),\n",
       "                ('histgradientboostingclassifier',\n",
       "                 HistGradientBoostingClassifier(l2_regularization=1,\n",
       "                                                learning_rate=0.1, loss='auto',\n",
       "                                                max_bins=255, max_depth=10,\n",
       "                                                max_iter=2000,\n",
       "                                                max_leaf_nodes=31,\n",
       "                                                min_samples_leaf=20,\n",
       "                                                n_iter_no_change=None,\n",
       "                                                random_state=None, scoring=None,\n",
       "                                                tol=1e-07,\n",
       "                                                validation_fraction=0.1,\n",
       "                                                verbose=0, warm_start=False))],\n",
       "         verbose=False)"
      ]
     },
     "execution_count": 5,
     "metadata": {},
     "output_type": "execute_result"
    }
   ],
   "source": [
    "# Load model from file with pickle\n",
    "lr_pickle = \"Pickle_LR_hfull.pkl\" \n",
    "with open(lr_pickle, 'rb') as file:  \n",
    "    pickled_lr = pickle.load(file)\n",
    "\n",
    "pickled_lr"
   ]
  },
  {
   "cell_type": "code",
   "execution_count": null,
   "metadata": {},
   "outputs": [],
   "source": []
  }
 ],
 "metadata": {
  "colab": {
   "name": "stat654_xgboost.ipynb",
   "provenance": []
  },
  "kernelspec": {
   "display_name": "Python 3",
   "language": "python",
   "name": "python3"
  },
  "language_info": {
   "codemirror_mode": {
    "name": "ipython",
    "version": 3
   },
   "file_extension": ".py",
   "mimetype": "text/x-python",
   "name": "python",
   "nbconvert_exporter": "python",
   "pygments_lexer": "ipython3",
   "version": "3.8.2"
  }
 },
 "nbformat": 4,
 "nbformat_minor": 4
}
