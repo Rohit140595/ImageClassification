{
 "cells": [
  {
   "cell_type": "markdown",
   "metadata": {
    "colab_type": "text",
    "id": "4cX1sVWMDS1R"
   },
   "source": [
    "# Importing Libraries and Pre-Processing"
   ]
  },
  {
   "cell_type": "code",
   "execution_count": 1,
   "metadata": {
    "colab": {
     "base_uri": "https://localhost:8080/",
     "height": 126
    },
    "colab_type": "code",
    "id": "tRqeDkxgAzKJ",
    "outputId": "4c173bed-3cff-4f56-c464-9c2329095466"
   },
   "outputs": [],
   "source": [
    "### Importing Libraries\n",
    "# basic libraries\n",
    "import numpy as np\n",
    "import pandas as pd\n",
    "import matplotlib.pyplot as plt\n",
    "import seaborn as sns\n",
    "\n",
    "# modeling libraries\n",
    "from sklearn.decomposition import PCA\n",
    "from sklearn.neighbors import KNeighborsClassifier\n",
    "from sklearn.experimental import enable_hist_gradient_boosting\n",
    "from sklearn.ensemble import HistGradientBoostingClassifier\n",
    "from sklearn.linear_model import LogisticRegression\n",
    "from sklearn.svm import SVC\n",
    "from sklearn.ensemble import RandomForestClassifier\n",
    "from sklearn.naive_bayes import GaussianNB\n",
    "from sklearn.naive_bayes import MultinomialNB\n",
    "from sklearn.ensemble import VotingClassifier\n",
    "from sklearn.pipeline import make_pipeline\n",
    "\n",
    "# Preprocessing and cross-validation\n",
    "from sklearn.preprocessing import StandardScaler\n",
    "from sklearn.model_selection import cross_val_score, cross_val_predict\n",
    "from sklearn.model_selection import train_test_split\n",
    "from sklearn.model_selection import GridSearchCV, RandomizedSearchCV\n",
    "from sklearn.model_selection import StratifiedShuffleSplit, RepeatedKFold\n",
    "\n",
    "# Model saving\n",
    "import pickle\n",
    "\n",
    "# Model evaluation\n",
    "from sklearn.metrics import accuracy_score\n",
    "from sklearn.metrics import classification_report\n",
    "from sklearn.metrics import confusion_matrix, plot_confusion_matrix\n",
    "from sklearn.metrics import ConfusionMatrixDisplay\n",
    "from matplotlib.colors import Normalize\n",
    "\n",
    "import timeit\n",
    "from datetime import timedelta\n",
    "\n",
    "plt.rcParams[\"savefig.dpi\"] = 300\n",
    "plt.rcParams[\"savefig.bbox\"] = 'tight'"
   ]
  },
  {
   "cell_type": "code",
   "execution_count": 2,
   "metadata": {},
   "outputs": [
    {
     "name": "stdout",
     "output_type": "stream",
     "text": [
      "Full train data: X = (50000, 3072), y = (50000,)\n",
      "Full test data:  X = (10000, 3072), y = (10000,)\n"
     ]
    }
   ],
   "source": [
    "### Importing and Preparing Data\n",
    "# load dataset\n",
    "full_train_data = pd.read_csv('train_x.csv').to_numpy()\n",
    "full_train_label = pd.read_csv('train_y.csv').to_numpy().flatten()\n",
    "test_data = pd.read_csv('test_x.csv').to_numpy()\n",
    "test_label = pd.read_csv(\"test_y.csv\").to_numpy().flatten()\n",
    "\n",
    "print(f'Full train data: X = {full_train_data.shape}, y = {full_train_label.shape}')\n",
    "print(f'Full test data:  X = {test_data.shape}, y = {test_label.shape}')"
   ]
  },
  {
   "cell_type": "code",
   "execution_count": 3,
   "metadata": {},
   "outputs": [
    {
     "name": "stdout",
     "output_type": "stream",
     "text": [
      "Train data:       X = (35000, 3072), y = (35000,)\n",
      "Validation data:  X = (15000, 3072), y = (15000,)\n"
     ]
    }
   ],
   "source": [
    "# Training and Validation Set Split\n",
    "train_data, val_data, train_label, val_label = train_test_split(\n",
    "    full_train_data, full_train_label, test_size = 0.3, \n",
    "    stratify = full_train_label, random_state = 40)\n",
    "print(f'Train data:       X = {train_data.shape}, y = {train_label.shape}')\n",
    "print(f'Validation data:  X = {val_data.shape}, y = {val_label.shape}')"
   ]
  },
  {
   "cell_type": "code",
   "execution_count": 4,
   "metadata": {
    "colab": {
     "base_uri": "https://localhost:8080/",
     "height": 54
    },
    "colab_type": "code",
    "id": "DwuuxCCQA8NO",
    "outputId": "0f001bae-6696-4a50-8961-b8d35f93c6c2"
   },
   "outputs": [
    {
     "name": "stdout",
     "output_type": "stream",
     "text": [
      "PCA train data shape:      (35000, 34)\n",
      "PCA validation data shape: (15000, 34)\n"
     ]
    }
   ],
   "source": [
    "# Dimensionality Reduction - PCA\n",
    "pca_scaled = make_pipeline(StandardScaler(), \n",
    "                           PCA(n_components=0.8, whiten=True, random_state=0))\n",
    "X_train_pca = pca_scaled.fit_transform(train_data)\n",
    "X_val_pca = pca_scaled.transform(val_data)\n",
    "print(\"PCA train data shape:      {}\".format(X_train_pca.shape))\n",
    "print(\"PCA validation data shape: {}\".format(X_val_pca.shape))"
   ]
  },
  {
   "cell_type": "code",
   "execution_count": 5,
   "metadata": {},
   "outputs": [],
   "source": [
    "# Histogram of Oriented Gradients\n",
    "from skimage.io import imread, imshow\n",
    "from skimage.transform import resize\n",
    "from skimage.feature import hog\n",
    "from skimage import exposure\n",
    "\n",
    "def extract_hog(data):\n",
    "    fd_array = np.empty(shape=(len(data), 3780), dtype='float')\n",
    "    for i in range(len(data)):\n",
    "        img = data[i]\n",
    "        resized_img = resize(img, (128, 64))\n",
    "        fd = hog(resized_img, orientations=9, pixels_per_cell=(8,8), \n",
    "                 cells_per_block=(2,2), transform_sqrt=True, block_norm=\"L1\")\n",
    "        fd_array[i] = fd\n",
    "    return fd_array"
   ]
  },
  {
   "cell_type": "code",
   "execution_count": 6,
   "metadata": {},
   "outputs": [],
   "source": [
    "X_train_hog = extract_hog(train_data)\n",
    "X_val_hog = extract_hog(val_data)"
   ]
  },
  {
   "cell_type": "code",
   "execution_count": 7,
   "metadata": {},
   "outputs": [],
   "source": [
    "X_full_train_hog = extract_hog(full_train_data)"
   ]
  },
  {
   "cell_type": "code",
   "execution_count": 8,
   "metadata": {},
   "outputs": [
    {
     "name": "stdout",
     "output_type": "stream",
     "text": [
      "PCA train data shape:      (42500, 150)\n",
      "PCA validation data shape: (7500, 150)\n"
     ]
    }
   ],
   "source": [
    "# Dimensionality Reduction - HOG-PCA\n",
    "pca_scaled2 = make_pipeline(StandardScaler(), \n",
    "                           PCA(n_components=150, whiten=False, random_state=0))\n",
    "X_train_hg = pca_scaled2.fit_transform(X_train_hog)\n",
    "X_val_hg = pca_scaled2.transform(X_val_hog)\n",
    "print(\"PCA train data shape:      {}\".format(X_train_hg.shape))\n",
    "print(\"PCA validation data shape: {}\".format(X_val_hg.shape))"
   ]
  },
  {
   "cell_type": "markdown",
   "metadata": {
    "colab_type": "text",
    "id": "qUT6rTZFmD5N"
   },
   "source": [
    "# Classification"
   ]
  },
  {
   "cell_type": "markdown",
   "metadata": {
    "colab_type": "text",
    "id": "csjgeXfADKLr"
   },
   "source": [
    "### SVM"
   ]
  },
  {
   "cell_type": "code",
   "execution_count": 5,
   "metadata": {
    "colab": {
     "base_uri": "https://localhost:8080/",
     "height": 217
    },
    "colab_type": "code",
    "id": "aJVbRO9JFjzH",
    "outputId": "bb576fa4-1c92-426b-f5f9-3c460f810eb4"
   },
   "outputs": [
    {
     "data": {
      "text/plain": [
       "GridSearchCV(cv=5, error_score=nan,\n",
       "             estimator=SVC(C=1.0, break_ties=False, cache_size=200,\n",
       "                           class_weight=None, coef0=0.0,\n",
       "                           decision_function_shape='ovr', degree=3,\n",
       "                           gamma='scale', kernel='rbf', max_iter=-1,\n",
       "                           probability=False, random_state=None, shrinking=True,\n",
       "                           tol=0.001, verbose=False),\n",
       "             iid='deprecated', n_jobs=-1,\n",
       "             param_grid={'C': array([1.e-02, 1.e-01, 1.e+00, 1.e+01, 1.e+02, 1.e+03])},\n",
       "             pre_dispatch='2*n_jobs', refit=True, return_train_score=False,\n",
       "             scoring=None, verbose=0)"
      ]
     },
     "execution_count": 5,
     "metadata": {},
     "output_type": "execute_result"
    }
   ],
   "source": [
    "# GridSearch with kernel = 'rbf' using training data\n",
    "param_grid1 = {'C': np.logspace(-2, 3, 6)}\n",
    "svm_grid = GridSearchCV(SVC(kernel='rbf'), param_grid=param_grid1, cv=5, n_jobs=-1)\n",
    "svm_grid.fit(X_train_pca, train_label)"
   ]
  },
  {
   "cell_type": "code",
   "execution_count": 6,
   "metadata": {
    "colab": {
     "base_uri": "https://localhost:8080/",
     "height": 217
    },
    "colab_type": "code",
    "id": "JyjAwlpXFr2r",
    "outputId": "6ff7d5fe-6070-4123-ab59-3231b523c8ff"
   },
   "outputs": [
    {
     "name": "stdout",
     "output_type": "stream",
     "text": [
      "   mean_fit_time  std_fit_time  mean_score_time  std_score_time param_C  \\\n",
      "0     573.035780     59.444001        46.226117        3.611012    0.01   \n",
      "1     492.429160     16.435071        52.833729        4.262307     0.1   \n",
      "2     359.499111     52.097687        45.433052        6.351976       1   \n",
      "3     572.566504     59.158784        51.121939        4.538654      10   \n",
      "4     658.539254     53.078888        53.371070        4.841547     100   \n",
      "5     562.790938     16.334074        46.153757        2.416183    1000   \n",
      "\n",
      "          params  split0_test_score  split1_test_score  split2_test_score  \\\n",
      "0    {'C': 0.01}           0.299882           0.304235           0.306353   \n",
      "1     {'C': 0.1}           0.434353           0.433059           0.441529   \n",
      "2     {'C': 1.0}           0.541294           0.541765           0.552706   \n",
      "3    {'C': 10.0}           0.543412           0.546235           0.560118   \n",
      "4   {'C': 100.0}           0.531765           0.534353           0.538471   \n",
      "5  {'C': 1000.0}           0.530235           0.532824           0.536235   \n",
      "\n",
      "   split3_test_score  split4_test_score  mean_test_score  std_test_score  \\\n",
      "0           0.303059           0.307176         0.304141        0.002585   \n",
      "1           0.427765           0.437294         0.434800        0.004566   \n",
      "2           0.544824           0.542000         0.544518        0.004277   \n",
      "3           0.548824           0.549059         0.549529        0.005676   \n",
      "4           0.536000           0.539882         0.536094        0.002891   \n",
      "5           0.535059           0.538235         0.534518        0.002767   \n",
      "\n",
      "   rank_test_score  \n",
      "0                6  \n",
      "1                5  \n",
      "2                2  \n",
      "3                1  \n",
      "4                3  \n",
      "5                4  \n",
      "best parameters:     {'C': 10.0}\n",
      "Train accuracy:      0.9880941176470588\n",
      "Validation accuracy: 0.554\n"
     ]
    }
   ],
   "source": [
    "svm_results = pd.DataFrame(svm_grid.cv_results_)\n",
    "print(f\"best parameters:     {svm_grid.best_params_}\")                    # {'C': 10.0}\n",
    "print(f\"Train accuracy:      {svm_grid.score(X_train_pca, train_label)}\") # 0.9880941176470588\n",
    "print(f\"Validation accuracy: {svm_grid.score(X_val_pca, val_label)}\")     # 0.554"
   ]
  },
  {
   "cell_type": "code",
   "execution_count": 5,
   "metadata": {
    "colab": {
     "base_uri": "https://localhost:8080/",
     "height": 363
    },
    "colab_type": "code",
    "id": "c6VZ_VOVl8zf",
    "outputId": "2947ec24-3d4f-4667-b942-c5ae5c28f3c8"
   },
   "outputs": [
    {
     "name": "stdout",
     "output_type": "stream",
     "text": [
      "time elapsed: 0:07:16.354765\n"
     ]
    }
   ],
   "source": [
    "# Building a model with all the training and validation data and testing with test data\n",
    "pca_pipe = make_pipeline(StandardScaler(), \n",
    "                           PCA(n_components=0.8, whiten=True, random_state=0))\n",
    "svmod = SVC(C = 10)\n",
    "svm_pipe = make_pipeline(pca_pipe, svmod)\n",
    "tic = timeit.default_timer()\n",
    "svm_pipe.fit(full_train_data, full_train_label)\n",
    "toc = timeit.default_timer()\n",
    "print(f\"time elapsed: {timedelta(seconds=toc-tic)}\") # 739.97 seconds 0:07:16.354765"
   ]
  },
  {
   "cell_type": "code",
   "execution_count": 6,
   "metadata": {
    "colab": {
     "base_uri": "https://localhost:8080/",
     "height": 54
    },
    "colab_type": "code",
    "id": "lXQGExTfnUtn",
    "outputId": "4ace8945-6b12-48e5-bd2c-468a71ea7de3"
   },
   "outputs": [
    {
     "name": "stdout",
     "output_type": "stream",
     "text": [
      "Train accuracy: 0.92318\n",
      "Test accuracy:  0.5313\n"
     ]
    }
   ],
   "source": [
    "print(f\"Train accuracy: {svm_pipe.score(full_train_data, full_train_label)}\") # 0.92318\n",
    "print(f\"Test accuracy:  {svm_pipe.score(test_data, test_label)}\")             # 0.5313"
   ]
  },
  {
   "cell_type": "code",
   "execution_count": 7,
   "metadata": {},
   "outputs": [],
   "source": [
    "# Model prediction\n",
    "pred = svm_pipe.predict(test_data)"
   ]
  },
  {
   "cell_type": "code",
   "execution_count": 8,
   "metadata": {},
   "outputs": [
    {
     "name": "stdout",
     "output_type": "stream",
     "text": [
      "Accuracy: 0.531\n",
      "Confusion matrix:\n",
      "[[652  37  52  20  35  24  18  16 104  42]\n",
      " [ 45 637  15  29  12  19  14  20  66 143]\n",
      " [ 95  22 411  94 140  59  90  51  21  17]\n",
      " [ 35  37 104 366  63 187 105  44  17  42]\n",
      " [ 44  20 142  60 464  50 118  61  27  14]\n",
      " [ 28  17  83 210  58 419  72  65  23  25]\n",
      " [ 17  24  91  82  96  40 600  20  12  18]\n",
      " [ 41  27  56  66  86  73  34 558   7  52]\n",
      " [114  75  20  36  17  18  13  14 638  55]\n",
      " [ 45 170  22  42  15  27  12  38  61 568]]\n"
     ]
    },
    {
     "data": {
      "image/png": "[encoded data removed]",
      "text/plain": [
       "<Figure size 720x720 with 2 Axes>"
      ]
     },
     "metadata": {
      "needs_background": "light"
     },
     "output_type": "display_data"
    }
   ],
   "source": [
    "print(f\"Accuracy: {accuracy_score(test_label, pred):.3f}\")\n",
    "print(f\"Confusion matrix:\\n{confusion_matrix(test_label, pred)}\")\n",
    "fig, ax = plt.subplots(figsize=(10, 10))\n",
    "ConfusionMatrixDisplay(confusion_matrix(test_label, pred), \n",
    "                       display_labels=['0', '1', '2', '3', '4', '5', '6', '7', '8', '9']).plot(ax=ax, cmap=plt.cm.Blues, values_format='.0f')\n",
    "plt.savefig(\"confusion_svm.png\")"
   ]
  },
  {
   "cell_type": "code",
   "execution_count": 9,
   "metadata": {},
   "outputs": [
    {
     "name": "stdout",
     "output_type": "stream",
     "text": [
      "              precision    recall  f1-score   support\n",
      "\n",
      "           0       0.58      0.65      0.62      1000\n",
      "           1       0.60      0.64      0.62      1000\n",
      "           2       0.41      0.41      0.41      1000\n",
      "           3       0.36      0.37      0.37      1000\n",
      "           4       0.47      0.46      0.47      1000\n",
      "           5       0.46      0.42      0.44      1000\n",
      "           6       0.56      0.60      0.58      1000\n",
      "           7       0.63      0.56      0.59      1000\n",
      "           8       0.65      0.64      0.65      1000\n",
      "           9       0.58      0.57      0.57      1000\n",
      "\n",
      "    accuracy                           0.53     10000\n",
      "   macro avg       0.53      0.53      0.53     10000\n",
      "weighted avg       0.53      0.53      0.53     10000\n",
      "\n"
     ]
    }
   ],
   "source": [
    "# Classification report\n",
    "print(classification_report(test_label, pred))"
   ]
  },
  {
   "cell_type": "code",
   "execution_count": 10,
   "metadata": {},
   "outputs": [],
   "source": [
    "# Save model file with pickle\n",
    "svm_pickle = \"Pickle_SVM.pkl\"  \n",
    "\n",
    "with open(svm_pickle, 'wb') as file:  \n",
    "    pickle.dump(svm_pipe, file)"
   ]
  },
  {
   "cell_type": "code",
   "execution_count": 5,
   "metadata": {},
   "outputs": [
    {
     "data": {
      "text/plain": [
       "Pipeline(memory=None,\n",
       "         steps=[('pipeline',\n",
       "                 Pipeline(memory=None,\n",
       "                          steps=[('standardscaler',\n",
       "                                  StandardScaler(copy=True, with_mean=True,\n",
       "                                                 with_std=True)),\n",
       "                                 ('pca',\n",
       "                                  PCA(copy=True, iterated_power='auto',\n",
       "                                      n_components=100, random_state=0,\n",
       "                                      svd_solver='auto', tol=0.0,\n",
       "                                      whiten=True))],\n",
       "                          verbose=False)),\n",
       "                ('svc',\n",
       "                 SVC(C=10, break_ties=False, cache_size=200, class_weight=None,\n",
       "                     coef0=0.0, decision_function_shape='ovr', degree=3,\n",
       "                     gamma='scale', kernel='rbf', max_iter=-1,\n",
       "                     probability=False, random_state=None, shrinking=True,\n",
       "                     tol=0.001, verbose=False))],\n",
       "         verbose=False)"
      ]
     },
     "execution_count": 5,
     "metadata": {},
     "output_type": "execute_result"
    }
   ],
   "source": [
    "# Load model from file with pickle\n",
    "svm_pickle = \"Pickle_SVM.pkl\" \n",
    "with open(svm_pickle, 'rb') as file:  \n",
    "    pickled_svm = pickle.load(file)\n",
    "\n",
    "pickled_svm"
   ]
  },
  {
   "cell_type": "code",
   "execution_count": null,
   "metadata": {},
   "outputs": [],
   "source": []
  }
 ],
 "metadata": {
  "colab": {
   "name": "stat654_svm.ipynb",
   "provenance": []
  },
  "kernelspec": {
   "display_name": "Python 3",
   "language": "python",
   "name": "python3"
  },
  "language_info": {
   "codemirror_mode": {
    "name": "ipython",
    "version": 3
   },
   "file_extension": ".py",
   "mimetype": "text/x-python",
   "name": "python",
   "nbconvert_exporter": "python",
   "pygments_lexer": "ipython3",
   "version": "3.8.2"
  }
 },
 "nbformat": 4,
 "nbformat_minor": 4
}
