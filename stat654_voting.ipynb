{
 "cells": [
  {
   "cell_type": "markdown",
   "metadata": {
    "colab_type": "text",
    "id": "4cX1sVWMDS1R"
   },
   "source": [
    "# Importing Libraries and Pre-Processing"
   ]
  },
  {
   "cell_type": "code",
   "execution_count": 5,
   "metadata": {
    "colab": {
     "base_uri": "https://localhost:8080/",
     "height": 126
    },
    "colab_type": "code",
    "id": "tRqeDkxgAzKJ",
    "outputId": "4c173bed-3cff-4f56-c464-9c2329095466"
   },
   "outputs": [],
   "source": [
    "### Importing Libraries\n",
    "# basic libraries\n",
    "import numpy as np\n",
    "import pandas as pd\n",
    "import matplotlib.pyplot as plt\n",
    "import seaborn as sns\n",
    "\n",
    "# modeling libraries\n",
    "from sklearn.decomposition import PCA\n",
    "from sklearn.neighbors import KNeighborsClassifier\n",
    "from sklearn.experimental import enable_hist_gradient_boosting\n",
    "from sklearn.ensemble import HistGradientBoostingClassifier\n",
    "from sklearn.linear_model import LogisticRegression\n",
    "from sklearn.svm import SVC\n",
    "from sklearn.ensemble import RandomForestClassifier\n",
    "from sklearn.naive_bayes import GaussianNB\n",
    "from sklearn.naive_bayes import MultinomialNB\n",
    "from sklearn.ensemble import VotingClassifier\n",
    "from sklearn.pipeline import make_pipeline\n",
    "\n",
    "# Preprocessing and cross-validation\n",
    "from sklearn.preprocessing import StandardScaler\n",
    "from sklearn.model_selection import cross_val_score, cross_val_predict\n",
    "from sklearn.model_selection import train_test_split\n",
    "from sklearn.model_selection import GridSearchCV, RandomizedSearchCV\n",
    "from sklearn.model_selection import StratifiedShuffleSplit, RepeatedKFold\n",
    "\n",
    "# Model saving\n",
    "import pickle\n",
    "\n",
    "# Model evaluation\n",
    "from sklearn.metrics import accuracy_score\n",
    "from sklearn.metrics import classification_report\n",
    "from sklearn.metrics import confusion_matrix, plot_confusion_matrix\n",
    "from sklearn.metrics import ConfusionMatrixDisplay\n",
    "from matplotlib.colors import Normalize\n",
    "\n",
    "import timeit\n",
    "from datetime import timedelta\n",
    "\n",
    "plt.rcParams[\"savefig.dpi\"] = 300\n",
    "plt.rcParams[\"savefig.bbox\"] = 'tight'"
   ]
  },
  {
   "cell_type": "code",
   "execution_count": 6,
   "metadata": {},
   "outputs": [
    {
     "name": "stdout",
     "output_type": "stream",
     "text": [
      "Full train data: X = (50000, 3072), y = (50000,)\n",
      "Full test data:  X = (10000, 3072), y = (10000,)\n"
     ]
    }
   ],
   "source": [
    "### Importing and Preparing Data\n",
    "# load dataset\n",
    "full_train_data = pd.read_csv('train_x.csv').to_numpy()\n",
    "full_train_label = pd.read_csv('train_y.csv').to_numpy().flatten()\n",
    "test_data = pd.read_csv('test_x.csv').to_numpy()\n",
    "test_label = pd.read_csv(\"test_y.csv\").to_numpy().flatten()\n",
    "\n",
    "print(f'Full train data: X = {full_train_data.shape}, y = {full_train_label.shape}')\n",
    "print(f'Full test data:  X = {test_data.shape}, y = {test_label.shape}')"
   ]
  },
  {
   "cell_type": "code",
   "execution_count": 7,
   "metadata": {},
   "outputs": [
    {
     "name": "stdout",
     "output_type": "stream",
     "text": [
      "Train data:       X = (35000, 3072), y = (35000,)\n",
      "Validation data:  X = (15000, 3072), y = (15000,)\n"
     ]
    }
   ],
   "source": [
    "# Training and Validation Set Split\n",
    "train_data, val_data, train_label, val_label = train_test_split(\n",
    "    full_train_data, full_train_label, test_size = 0.3, \n",
    "    stratify = full_train_label, random_state = 40)\n",
    "print(f'Train data:       X = {train_data.shape}, y = {train_label.shape}')\n",
    "print(f'Validation data:  X = {val_data.shape}, y = {val_label.shape}')"
   ]
  },
  {
   "cell_type": "code",
   "execution_count": 8,
   "metadata": {
    "colab": {
     "base_uri": "https://localhost:8080/",
     "height": 54
    },
    "colab_type": "code",
    "id": "DwuuxCCQA8NO",
    "outputId": "0f001bae-6696-4a50-8961-b8d35f93c6c2"
   },
   "outputs": [
    {
     "name": "stdout",
     "output_type": "stream",
     "text": [
      "PCA train data shape:      (35000, 34)\n",
      "PCA validation data shape: (15000, 34)\n"
     ]
    }
   ],
   "source": [
    "# Dimensionality Reduction - PCA\n",
    "pca_scaled = make_pipeline(StandardScaler(), \n",
    "                           PCA(n_components=0.8, whiten=True, random_state=0))\n",
    "X_train_pca = pca_scaled.fit_transform(train_data)\n",
    "X_val_pca = pca_scaled.transform(val_data)\n",
    "print(\"PCA train data shape:      {}\".format(X_train_pca.shape))\n",
    "print(\"PCA validation data shape: {}\".format(X_val_pca.shape))"
   ]
  },
  {
   "cell_type": "code",
   "execution_count": 5,
   "metadata": {},
   "outputs": [],
   "source": [
    "# Histogram of Oriented Gradients\n",
    "from skimage.io import imread, imshow\n",
    "from skimage.transform import resize\n",
    "from skimage.feature import hog\n",
    "from skimage import exposure\n",
    "\n",
    "def extract_hog(data):\n",
    "    fd_array = np.empty(shape=(len(data), 3780), dtype='float')\n",
    "    for i in range(len(data)):\n",
    "        img = data[i]\n",
    "        resized_img = resize(img, (128, 64))\n",
    "        fd = hog(resized_img, orientations=9, pixels_per_cell=(8,8), \n",
    "                 cells_per_block=(2,2), transform_sqrt=True, block_norm=\"L1\")\n",
    "        fd_array[i] = fd\n",
    "    return fd_array"
   ]
  },
  {
   "cell_type": "code",
   "execution_count": 6,
   "metadata": {},
   "outputs": [],
   "source": [
    "X_train_hog = extract_hog(train_data)\n",
    "X_val_hog = extract_hog(val_data)"
   ]
  },
  {
   "cell_type": "code",
   "execution_count": 7,
   "metadata": {},
   "outputs": [],
   "source": [
    "X_full_train_hog = extract_hog(full_train_data)"
   ]
  },
  {
   "cell_type": "code",
   "execution_count": 8,
   "metadata": {},
   "outputs": [
    {
     "name": "stdout",
     "output_type": "stream",
     "text": [
      "PCA train data shape:      (42500, 150)\n",
      "PCA validation data shape: (7500, 150)\n"
     ]
    }
   ],
   "source": [
    "# Dimensionality Reduction - HOG-PCA\n",
    "pca_scaled2 = make_pipeline(StandardScaler(), \n",
    "                           PCA(n_components=150, whiten=False, random_state=0))\n",
    "X_train_hg = pca_scaled2.fit_transform(X_train_hog)\n",
    "X_val_hg = pca_scaled2.transform(X_val_hog)\n",
    "print(\"PCA train data shape:      {}\".format(X_train_hg.shape))\n",
    "print(\"PCA validation data shape: {}\".format(X_val_hg.shape))"
   ]
  },
  {
   "cell_type": "markdown",
   "metadata": {
    "colab_type": "text",
    "id": "qUT6rTZFmD5N"
   },
   "source": [
    "# Classification"
   ]
  },
  {
   "cell_type": "markdown",
   "metadata": {
    "colab_type": "text",
    "id": "FtXikGsJXWue"
   },
   "source": [
    "### Voting Classifier"
   ]
  },
  {
   "cell_type": "code",
   "execution_count": 10,
   "metadata": {
    "colab": {},
    "colab_type": "code",
    "id": "8OiauV5DXZRO"
   },
   "outputs": [],
   "source": [
    "# SVM model\n",
    "svm_model = SVC(C=10, kernel='rbf', probability=True)\n",
    "\n",
    "# XGBoost model\n",
    "hgb_model = HistGradientBoostingClassifier(\n",
    "    l2_regularization = 1, learning_rate = 0.1, max_iter = 2000, max_depth = 10)\n",
    "\n",
    "# Random Forest Model\n",
    "rf_model = RandomForestClassifier(\n",
    "    n_estimators=2000, min_samples_split=5, min_samples_leaf=2, \n",
    "    max_features='sqrt', max_depth=90, criterion='gini', bootstrap=True, n_jobs = -1)"
   ]
  },
  {
   "cell_type": "markdown",
   "metadata": {},
   "source": [
    "Voting Hard 1"
   ]
  },
  {
   "cell_type": "code",
   "execution_count": 8,
   "metadata": {
    "colab": {},
    "colab_type": "code",
    "id": "pxWMtuA4Xcq2"
   },
   "outputs": [
    {
     "data": {
      "text/plain": [
       "GridSearchCV(cv=5, error_score=nan,\n",
       "             estimator=VotingClassifier(estimators=[('svm',\n",
       "                                                     SVC(C=10, break_ties=False,\n",
       "                                                         cache_size=200,\n",
       "                                                         class_weight=None,\n",
       "                                                         coef0=0.0,\n",
       "                                                         decision_function_shape='ovr',\n",
       "                                                         degree=3,\n",
       "                                                         gamma='scale',\n",
       "                                                         kernel='rbf',\n",
       "                                                         max_iter=-1,\n",
       "                                                         probability=True,\n",
       "                                                         random_state=None,\n",
       "                                                         shrinking=True,\n",
       "                                                         tol=0.001,\n",
       "                                                         verbose=False)),\n",
       "                                                    ('hgb',\n",
       "                                                     HistGradientBoostingClassifier(l2_regula...\n",
       "                                                                            min_samples_split=5,\n",
       "                                                                            min_weight_fraction_leaf=0.0,\n",
       "                                                                            n_estimators=1200,\n",
       "                                                                            n_jobs=None,\n",
       "                                                                            oob_score=False,\n",
       "                                                                            random_state=None,\n",
       "                                                                            verbose=0,\n",
       "                                                                            warm_start=False))],\n",
       "                                        flatten_transform=True, n_jobs=-1,\n",
       "                                        voting='hard', weights=None),\n",
       "             iid='deprecated', n_jobs=5,\n",
       "             param_grid={'weights': [[1, 2, 3], [2, 1, 3], None]},\n",
       "             pre_dispatch='2*n_jobs', refit=True, return_train_score=False,\n",
       "             scoring=None, verbose=0)"
      ]
     },
     "execution_count": 8,
     "metadata": {},
     "output_type": "execute_result"
    }
   ],
   "source": [
    "# Voting Classifier - hard \n",
    "vote_model1 = VotingClassifier(\n",
    "    estimators = [('svm', svm_model), ('hgb', hgb_model), ('rf', rf_model)], \n",
    "    voting = 'hard', n_jobs = -1)\n",
    "params1 = {'weights': [[1, 2, 3], [2, 1, 3], None]}\n",
    "vote_grid1 = GridSearchCV(estimator = vote_model1, param_grid = params1, cv=5, n_jobs=-1)\n",
    "vote_grid1.fit(X_train_pca, train_label)"
   ]
  },
  {
   "cell_type": "code",
   "execution_count": 9,
   "metadata": {},
   "outputs": [
    {
     "name": "stdout",
     "output_type": "stream",
     "text": [
      "best parameters:     {'weights': None}\n",
      "Train accuracy:      0.9999764705882352\n",
      "Validation accuracy: 0.5617333333333333\n"
     ]
    }
   ],
   "source": [
    "vote_results1 = pd.DataFrame(vote_grid1.cv_results_)\n",
    "print(f\"best parameters:     {vote_grid1.best_params_}\")                    \n",
    "print(f\"Train accuracy:      {vote_grid1.score(X_train_pca, train_label)}\") # 0.9999764705882352\n",
    "print(f\"Validation accuracy: {vote_grid1.score(X_val_pca, val_label)}\")     # 0.5617333333333333"
   ]
  },
  {
   "cell_type": "markdown",
   "metadata": {},
   "source": [
    "Voting Soft 2"
   ]
  },
  {
   "cell_type": "code",
   "execution_count": 7,
   "metadata": {
    "colab": {
     "base_uri": "https://localhost:8080/",
     "height": 563
    },
    "colab_type": "code",
    "id": "XBsPZp77ykrK",
    "outputId": "3c7fa8c4-8af9-4ee8-dc1a-dd8e295b35d2"
   },
   "outputs": [
    {
     "data": {
      "text/plain": [
       "GridSearchCV(cv=5, error_score=nan,\n",
       "             estimator=VotingClassifier(estimators=[('svm',\n",
       "                                                     SVC(C=10, break_ties=False,\n",
       "                                                         cache_size=200,\n",
       "                                                         class_weight=None,\n",
       "                                                         coef0=0.0,\n",
       "                                                         decision_function_shape='ovr',\n",
       "                                                         degree=3,\n",
       "                                                         gamma='scale',\n",
       "                                                         kernel='rbf',\n",
       "                                                         max_iter=-1,\n",
       "                                                         probability=True,\n",
       "                                                         random_state=None,\n",
       "                                                         shrinking=True,\n",
       "                                                         tol=0.001,\n",
       "                                                         verbose=False)),\n",
       "                                                    ('hgb',\n",
       "                                                     HistGradientBoostingClassifier(l2_regula...\n",
       "                                                                            min_samples_leaf=4,\n",
       "                                                                            min_samples_split=5,\n",
       "                                                                            min_weight_fraction_leaf=0.0,\n",
       "                                                                            n_estimators=1200,\n",
       "                                                                            n_jobs=-1,\n",
       "                                                                            oob_score=False,\n",
       "                                                                            random_state=None,\n",
       "                                                                            verbose=0,\n",
       "                                                                            warm_start=False))],\n",
       "                                        flatten_transform=True, n_jobs=-1,\n",
       "                                        voting='soft', weights=None),\n",
       "             iid='deprecated', n_jobs=-1, param_grid={'weights': [None]},\n",
       "             pre_dispatch='2*n_jobs', refit=True, return_train_score=False,\n",
       "             scoring=None, verbose=0)"
      ]
     },
     "execution_count": 7,
     "metadata": {},
     "output_type": "execute_result"
    }
   ],
   "source": [
    "# Voting Classifier - soft\n",
    "vote_model2 = VotingClassifier(\n",
    "    estimators = [('svm', svm_model), ('hgb', hgb_model), ('rf', rf_model)], \n",
    "    voting = 'soft', n_jobs = -1)\n",
    "params2 = {'weights': [None]}\n",
    "vote_grid2 = GridSearchCV(estimator = vote_model2, param_grid = params2, cv=5, n_jobs=-1)\n",
    "vote_grid2.fit(X_train_pca, train_label)"
   ]
  },
  {
   "cell_type": "code",
   "execution_count": 8,
   "metadata": {
    "colab": {
     "base_uri": "https://localhost:8080/",
     "height": 54
    },
    "colab_type": "code",
    "id": "07XIg3wlya93",
    "outputId": "151525d7-efc2-472c-a22a-bba5c0869ec0"
   },
   "outputs": [
    {
     "name": "stdout",
     "output_type": "stream",
     "text": [
      "best parameters:     {'weights': None}\n",
      "Train accuracy:      1.0\n",
      "Validation accuracy: 0.5785333333333333\n"
     ]
    }
   ],
   "source": [
    "vote_results2 = pd.DataFrame(vote_grid2.cv_results_)\n",
    "print(f\"best parameters:     {vote_grid2.best_params_}\")                    \n",
    "print(f\"Train accuracy:      {vote_grid2.score(X_train_pca, train_label)}\") # 1\n",
    "print(f\"Validation accuracy: {vote_grid2.score(X_val_pca, val_label)}\")     # 0.5785333333333333"
   ]
  },
  {
   "cell_type": "code",
   "execution_count": 6,
   "metadata": {
    "colab": {},
    "colab_type": "code",
    "id": "pxWMtuA4Xcq2"
   },
   "outputs": [
    {
     "data": {
      "text/plain": [
       "GridSearchCV(cv=5, error_score=nan,\n",
       "             estimator=VotingClassifier(estimators=[('svm',\n",
       "                                                     SVC(C=10, break_ties=False,\n",
       "                                                         cache_size=200,\n",
       "                                                         class_weight=None,\n",
       "                                                         coef0=0.0,\n",
       "                                                         decision_function_shape='ovr',\n",
       "                                                         degree=3,\n",
       "                                                         gamma='scale',\n",
       "                                                         kernel='rbf',\n",
       "                                                         max_iter=-1,\n",
       "                                                         probability=True,\n",
       "                                                         random_state=None,\n",
       "                                                         shrinking=True,\n",
       "                                                         tol=0.001,\n",
       "                                                         verbose=False)),\n",
       "                                                    ('hgb',\n",
       "                                                     HistGradientBoostingClassifier(l2_regula...\n",
       "                                                                            min_samples_split=5,\n",
       "                                                                            min_weight_fraction_leaf=0.0,\n",
       "                                                                            n_estimators=1200,\n",
       "                                                                            n_jobs=None,\n",
       "                                                                            oob_score=False,\n",
       "                                                                            random_state=None,\n",
       "                                                                            verbose=0,\n",
       "                                                                            warm_start=False))],\n",
       "                                        flatten_transform=True, n_jobs=-1,\n",
       "                                        voting='hard', weights=None),\n",
       "             iid='deprecated', n_jobs=4,\n",
       "             param_grid={'weights': [[0.35, 0.35, 0.3]]},\n",
       "             pre_dispatch='2*n_jobs', refit=True, return_train_score=False,\n",
       "             scoring=None, verbose=0)"
      ]
     },
     "execution_count": 6,
     "metadata": {},
     "output_type": "execute_result"
    }
   ],
   "source": [
    "# Voting Classifier - 3 \n",
    "vote_model3 = VotingClassifier(\n",
    "    estimators = [('svm', svm_model), ('hgb', hgb_model), ('rf', rf_model)], \n",
    "    voting = 'hard', n_jobs = -1)\n",
    "params3 = {'weights': [[0.35, 0.35, 0.30]]}\n",
    "vote_grid3 = GridSearchCV(estimator = vote_model3, param_grid = params3, cv=5, n_jobs=4)\n",
    "vote_grid3.fit(X_train_pca, train_label)"
   ]
  },
  {
   "cell_type": "code",
   "execution_count": 7,
   "metadata": {},
   "outputs": [
    {
     "name": "stdout",
     "output_type": "stream",
     "text": [
      "best parameters:     {'weights': [0.35, 0.35, 0.3]}\n",
      "Train accuracy:      0.9999764705882352\n",
      "Validation accuracy: 0.5608\n"
     ]
    }
   ],
   "source": [
    "vote_results3 = pd.DataFrame(vote_grid3.cv_results_)\n",
    "print(f\"best parameters:     {vote_grid3.best_params_}\")                    \n",
    "print(f\"Train accuracy:      {vote_grid3.score(X_train_pca, train_label)}\") # 0.9999764705882352\n",
    "print(f\"Validation accuracy: {vote_grid3.score(X_val_pca, val_label)}\")     # 0.5608"
   ]
  },
  {
   "cell_type": "markdown",
   "metadata": {},
   "source": [
    "Voting Final"
   ]
  },
  {
   "cell_type": "code",
   "execution_count": 11,
   "metadata": {
    "colab": {},
    "colab_type": "code",
    "id": "QpOD6kjSLTyx"
   },
   "outputs": [
    {
     "name": "stdout",
     "output_type": "stream",
     "text": [
      "time elapsed: 0:24:52.858274\n"
     ]
    }
   ],
   "source": [
    "# Building a model with all the training and validation data and testing with test data\n",
    "pca_pipe = make_pipeline(StandardScaler(), \n",
    "                           PCA(n_components=0.8, whiten=True, random_state=0))\n",
    "vote_mod = VotingClassifier(\n",
    "    estimators = [('svm', svm_model), ('hgb', hgb_model), ('rf', rf_model)], \n",
    "    voting = 'soft', n_jobs = -1)\n",
    "vote_pipe = make_pipeline(pca_pipe, vote_mod)\n",
    "tic = timeit.default_timer()\n",
    "vote_pipe.fit(full_train_data, full_train_label)\n",
    "toc = timeit.default_timer()\n",
    "print(f\"time elapsed: {timedelta(seconds=toc-tic)}\") # 3529.08 seconds"
   ]
  },
  {
   "cell_type": "code",
   "execution_count": 12,
   "metadata": {
    "colab": {},
    "colab_type": "code",
    "id": "YTCqKSG0LbwT"
   },
   "outputs": [
    {
     "name": "stdout",
     "output_type": "stream",
     "text": [
      "Train accuracy: 1.0\n",
      "Test accuracy:  0.5501\n"
     ]
    }
   ],
   "source": [
    "print(f\"Train accuracy: {vote_pipe.score(full_train_data, full_train_label)}\") # 1.0\n",
    "print(f\"Test accuracy:  {vote_pipe.score(test_data, test_label)}\")             # 0.5845"
   ]
  },
  {
   "cell_type": "code",
   "execution_count": 13,
   "metadata": {},
   "outputs": [],
   "source": [
    "# Model prediction\n",
    "pred = vote_pipe.predict(test_data)"
   ]
  },
  {
   "cell_type": "code",
   "execution_count": 14,
   "metadata": {},
   "outputs": [
    {
     "name": "stdout",
     "output_type": "stream",
     "text": [
      "Accuracy: 0.550\n",
      "Confusion matrix:\n",
      "[[634  35  44  23  25   9  27  27 126  50]\n",
      " [ 31 652  11  21  11  19  20  26  59 150]\n",
      " [ 85  28 422  85 117  59 104  52  29  19]\n",
      " [ 31  32  78 360  50 214 111  53  23  48]\n",
      " [ 43  14 116  61 462  55 117  83  30  19]\n",
      " [ 15  14  65 206  41 445  83  84  27  20]\n",
      " [ 12  25  69  62  88  48 640  23  12  21]\n",
      " [ 32  23  43  56  54  75  53 590  15  59]\n",
      " [ 78  64  17  21  14  20  13  14 695  64]\n",
      " [ 32 163   8  36  11  22  13  38  76 601]]\n"
     ]
    },
    {
     "data": {
      "image/png": "[encoded data removed]",
      "text/plain": [
       "<Figure size 720x720 with 2 Axes>"
      ]
     },
     "metadata": {
      "needs_background": "light"
     },
     "output_type": "display_data"
    }
   ],
   "source": [
    "print(f\"Accuracy: {accuracy_score(test_label, pred):.3f}\")\n",
    "print(f\"Confusion matrix:\\n{confusion_matrix(test_label, pred)}\")\n",
    "fig, ax = plt.subplots(figsize=(10, 10))\n",
    "ConfusionMatrixDisplay(confusion_matrix(test_label, pred), \n",
    "                       display_labels=['0', '1', '2', '3', '4', '5', '6', '7', '8', '9']).plot(ax=ax, cmap=plt.cm.Blues, values_format='.0f')\n",
    "plt.savefig(\"confusion_vote.png\")"
   ]
  },
  {
   "cell_type": "code",
   "execution_count": 15,
   "metadata": {},
   "outputs": [
    {
     "name": "stdout",
     "output_type": "stream",
     "text": [
      "              precision    recall  f1-score   support\n",
      "\n",
      "           0       0.64      0.63      0.64      1000\n",
      "           1       0.62      0.65      0.64      1000\n",
      "           2       0.48      0.42      0.45      1000\n",
      "           3       0.39      0.36      0.37      1000\n",
      "           4       0.53      0.46      0.49      1000\n",
      "           5       0.46      0.45      0.45      1000\n",
      "           6       0.54      0.64      0.59      1000\n",
      "           7       0.60      0.59      0.59      1000\n",
      "           8       0.64      0.69      0.66      1000\n",
      "           9       0.57      0.60      0.59      1000\n",
      "\n",
      "    accuracy                           0.55     10000\n",
      "   macro avg       0.55      0.55      0.55     10000\n",
      "weighted avg       0.55      0.55      0.55     10000\n",
      "\n"
     ]
    }
   ],
   "source": [
    "# Classification report\n",
    "print(classification_report(test_label, pred))"
   ]
  },
  {
   "cell_type": "code",
   "execution_count": 16,
   "metadata": {},
   "outputs": [],
   "source": [
    "# Save model file with pickle\n",
    "vote_pickle = \"Pickle_Vote.pkl\"  \n",
    "\n",
    "with open(vote_pickle, 'wb') as file:  \n",
    "    pickle.dump(vote_pipe, file)"
   ]
  },
  {
   "cell_type": "code",
   "execution_count": 20,
   "metadata": {},
   "outputs": [
    {
     "data": {
      "text/plain": [
       "Pipeline(memory=None,\n",
       "         steps=[('pipeline',\n",
       "                 Pipeline(memory=None,\n",
       "                          steps=[('standardscaler',\n",
       "                                  StandardScaler(copy=True, with_mean=True,\n",
       "                                                 with_std=True)),\n",
       "                                 ('pca',\n",
       "                                  PCA(copy=True, iterated_power='auto',\n",
       "                                      n_components=100, random_state=0,\n",
       "                                      svd_solver='auto', tol=0.0,\n",
       "                                      whiten=True))],\n",
       "                          verbose=False)),\n",
       "                ('votingclassifier',\n",
       "                 VotingClassifier(estimators=[('svm',\n",
       "                                               SVC(C=10, break_ties=...\n",
       "                                                                      max_depth=None,\n",
       "                                                                      max_features='auto',\n",
       "                                                                      max_leaf_nodes=None,\n",
       "                                                                      max_samples=None,\n",
       "                                                                      min_impurity_decrease=0.0,\n",
       "                                                                      min_impurity_split=None,\n",
       "                                                                      min_samples_leaf=4,\n",
       "                                                                      min_samples_split=5,\n",
       "                                                                      min_weight_fraction_leaf=0.0,\n",
       "                                                                      n_estimators=1200,\n",
       "                                                                      n_jobs=-1,\n",
       "                                                                      oob_score=False,\n",
       "                                                                      random_state=None,\n",
       "                                                                      verbose=0,\n",
       "                                                                      warm_start=False))],\n",
       "                                  flatten_transform=True, n_jobs=-1,\n",
       "                                  voting='soft', weights=None))],\n",
       "         verbose=False)"
      ]
     },
     "execution_count": 20,
     "metadata": {},
     "output_type": "execute_result"
    }
   ],
   "source": [
    "# Load model from file with pickle\n",
    "vote_pickle = \"Pickle_Vote.pkl\" \n",
    "with open(vote_pickle, 'rb') as file:  \n",
    "    pickled_vote = pickle.load(file)\n",
    "\n",
    "pickled_vote"
   ]
  },
  {
   "cell_type": "code",
   "execution_count": null,
   "metadata": {},
   "outputs": [],
   "source": []
  }
 ],
 "metadata": {
  "colab": {
   "name": "stat654_voting.ipynb",
   "provenance": []
  },
  "kernelspec": {
   "display_name": "Python 3",
   "language": "python",
   "name": "python3"
  },
  "language_info": {
   "codemirror_mode": {
    "name": "ipython",
    "version": 3
   },
   "file_extension": ".py",
   "mimetype": "text/x-python",
   "name": "python",
   "nbconvert_exporter": "python",
   "pygments_lexer": "ipython3",
   "version": "3.8.2"
  }
 },
 "nbformat": 4,
 "nbformat_minor": 4
}
