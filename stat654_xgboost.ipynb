{
 "cells": [
  {
   "cell_type": "markdown",
   "metadata": {
    "colab_type": "text",
    "id": "4cX1sVWMDS1R"
   },
   "source": [
    "# Importing Libraries and Pre-Processing"
   ]
  },
  {
   "cell_type": "code",
   "execution_count": 1,
   "metadata": {
    "colab": {
     "base_uri": "https://localhost:8080/",
     "height": 126
    },
    "colab_type": "code",
    "id": "tRqeDkxgAzKJ",
    "outputId": "4c173bed-3cff-4f56-c464-9c2329095466"
   },
   "outputs": [],
   "source": [
    "### Importing Libraries\n",
    "# basic libraries\n",
    "import numpy as np\n",
    "import pandas as pd\n",
    "import matplotlib.pyplot as plt\n",
    "import seaborn as sns\n",
    "\n",
    "# modeling libraries\n",
    "from sklearn.decomposition import PCA\n",
    "from sklearn.neighbors import KNeighborsClassifier\n",
    "from sklearn.experimental import enable_hist_gradient_boosting\n",
    "from sklearn.ensemble import HistGradientBoostingClassifier\n",
    "from sklearn.linear_model import LogisticRegression\n",
    "from sklearn.svm import SVC\n",
    "from sklearn.ensemble import RandomForestClassifier\n",
    "from sklearn.naive_bayes import GaussianNB\n",
    "from sklearn.naive_bayes import MultinomialNB\n",
    "from sklearn.ensemble import VotingClassifier\n",
    "from sklearn.pipeline import make_pipeline\n",
    "\n",
    "# Preprocessing and cross-validation\n",
    "from sklearn.preprocessing import StandardScaler\n",
    "from sklearn.model_selection import cross_val_score, cross_val_predict\n",
    "from sklearn.model_selection import train_test_split\n",
    "from sklearn.model_selection import GridSearchCV, RandomizedSearchCV\n",
    "from sklearn.model_selection import StratifiedShuffleSplit, RepeatedKFold\n",
    "\n",
    "# Model saving\n",
    "import pickle\n",
    "\n",
    "# Model evaluation\n",
    "from sklearn.metrics import accuracy_score\n",
    "from sklearn.metrics import classification_report\n",
    "from sklearn.metrics import confusion_matrix, plot_confusion_matrix\n",
    "from sklearn.metrics import ConfusionMatrixDisplay\n",
    "from matplotlib.colors import Normalize\n",
    "\n",
    "import timeit\n",
    "from datetime import timedelta\n",
    "\n",
    "plt.rcParams[\"savefig.dpi\"] = 300\n",
    "plt.rcParams[\"savefig.bbox\"] = 'tight'"
   ]
  },
  {
   "cell_type": "code",
   "execution_count": 2,
   "metadata": {},
   "outputs": [
    {
     "name": "stdout",
     "output_type": "stream",
     "text": [
      "Full train data: X = (50000, 3072), y = (50000,)\n",
      "Full test data:  X = (10000, 3072), y = (10000,)\n"
     ]
    }
   ],
   "source": [
    "### Importing and Preparing Data\n",
    "# load dataset\n",
    "full_train_data = pd.read_csv('train_x.csv').to_numpy()\n",
    "full_train_label = pd.read_csv('train_y.csv').to_numpy().flatten()\n",
    "test_data = pd.read_csv('test_x.csv').to_numpy()\n",
    "test_label = pd.read_csv(\"test_y.csv\").to_numpy().flatten()\n",
    "\n",
    "print(f'Full train data: X = {full_train_data.shape}, y = {full_train_label.shape}')\n",
    "print(f'Full test data:  X = {test_data.shape}, y = {test_label.shape}')"
   ]
  },
  {
   "cell_type": "code",
   "execution_count": 3,
   "metadata": {},
   "outputs": [
    {
     "name": "stdout",
     "output_type": "stream",
     "text": [
      "Train data:       X = (35000, 3072), y = (35000,)\n",
      "Validation data:  X = (15000, 3072), y = (15000,)\n"
     ]
    }
   ],
   "source": [
    "# Training and Validation Set Split\n",
    "train_data, val_data, train_label, val_label = train_test_split(\n",
    "    full_train_data, full_train_label, test_size = 0.3, \n",
    "    stratify = full_train_label, random_state = 40)\n",
    "print(f'Train data:       X = {train_data.shape}, y = {train_label.shape}')\n",
    "print(f'Validation data:  X = {val_data.shape}, y = {val_label.shape}')"
   ]
  },
  {
   "cell_type": "code",
   "execution_count": 4,
   "metadata": {
    "colab": {
     "base_uri": "https://localhost:8080/",
     "height": 54
    },
    "colab_type": "code",
    "id": "DwuuxCCQA8NO",
    "outputId": "0f001bae-6696-4a50-8961-b8d35f93c6c2"
   },
   "outputs": [
    {
     "name": "stdout",
     "output_type": "stream",
     "text": [
      "PCA train data shape:      (35000, 34)\n",
      "PCA validation data shape: (15000, 34)\n"
     ]
    }
   ],
   "source": [
    "# Dimensionality Reduction - PCA\n",
    "pca_scaled = make_pipeline(StandardScaler(), \n",
    "                           PCA(n_components=0.8, whiten=True, random_state=0))\n",
    "X_train_pca = pca_scaled.fit_transform(train_data)\n",
    "X_val_pca = pca_scaled.transform(val_data)\n",
    "print(\"PCA train data shape:      {}\".format(X_train_pca.shape))\n",
    "print(\"PCA validation data shape: {}\".format(X_val_pca.shape))"
   ]
  },
  {
   "cell_type": "code",
   "execution_count": 5,
   "metadata": {},
   "outputs": [],
   "source": [
    "# Histogram of Oriented Gradients\n",
    "from skimage.io import imread, imshow\n",
    "from skimage.transform import resize\n",
    "from skimage.feature import hog\n",
    "from skimage import exposure\n",
    "\n",
    "def extract_hog(data):\n",
    "    fd_array = np.empty(shape=(len(data), 3780), dtype='float')\n",
    "    for i in range(len(data)):\n",
    "        img = data[i]\n",
    "        resized_img = resize(img, (128, 64))\n",
    "        fd = hog(resized_img, orientations=9, pixels_per_cell=(8,8), \n",
    "                 cells_per_block=(2,2), transform_sqrt=True, block_norm=\"L1\")\n",
    "        fd_array[i] = fd\n",
    "    return fd_array"
   ]
  },
  {
   "cell_type": "code",
   "execution_count": 6,
   "metadata": {},
   "outputs": [],
   "source": [
    "X_train_hog = extract_hog(train_data)\n",
    "X_val_hog = extract_hog(val_data)"
   ]
  },
  {
   "cell_type": "code",
   "execution_count": 7,
   "metadata": {},
   "outputs": [],
   "source": [
    "X_full_train_hog = extract_hog(full_train_data)"
   ]
  },
  {
   "cell_type": "code",
   "execution_count": 8,
   "metadata": {},
   "outputs": [
    {
     "name": "stdout",
     "output_type": "stream",
     "text": [
      "PCA train data shape:      (42500, 150)\n",
      "PCA validation data shape: (7500, 150)\n"
     ]
    }
   ],
   "source": [
    "# Dimensionality Reduction - HOG-PCA\n",
    "pca_scaled2 = make_pipeline(StandardScaler(), \n",
    "                           PCA(n_components=150, whiten=False, random_state=0))\n",
    "X_train_hg = pca_scaled2.fit_transform(X_train_hog)\n",
    "X_val_hg = pca_scaled2.transform(X_val_hog)\n",
    "print(\"PCA train data shape:      {}\".format(X_train_hg.shape))\n",
    "print(\"PCA validation data shape: {}\".format(X_val_hg.shape))"
   ]
  },
  {
   "cell_type": "markdown",
   "metadata": {
    "colab_type": "text",
    "id": "qUT6rTZFmD5N"
   },
   "source": [
    "# Classification"
   ]
  },
  {
   "cell_type": "markdown",
   "metadata": {
    "colab_type": "text",
    "id": "csjgeXfADKLr"
   },
   "source": [
    "### Gradient Boosting"
   ]
  },
  {
   "cell_type": "code",
   "execution_count": 5,
   "metadata": {
    "colab": {},
    "colab_type": "code",
    "id": "sYSVXSrUHfLD"
   },
   "outputs": [],
   "source": [
    "# Random Search with several parameters using training data\n",
    "max_iter = [int(x) for x in np.linspace(start = 200, stop = 2000, num = 10)]\n",
    "learning_rate = [0.1, 0.2, 0.3]\n",
    "max_depth = [int(x) for x in np.linspace(10, 110, num = 11)]\n",
    "l2_regularization = [int(x) for x in np.linspace(1, 2, num = 11)]\n",
    "parameters = {\n",
    " 'max_iter': max_iter,\n",
    " 'learning_rate': learning_rate,\n",
    " 'max_depth' : max_depth,\n",
    " 'l2_regularization': l2_regularization\n",
    " }"
   ]
  },
  {
   "cell_type": "code",
   "execution_count": 6,
   "metadata": {
    "colab": {},
    "colab_type": "code",
    "id": "dqyk5fGFH3Ro"
   },
   "outputs": [
    {
     "name": "stdout",
     "output_type": "stream",
     "text": [
      "Fitting 4 folds for each of 10 candidates, totalling 40 fits\n"
     ]
    },
    {
     "name": "stderr",
     "output_type": "stream",
     "text": [
      "[Parallel(n_jobs=-1)]: Using backend LokyBackend with 8 concurrent workers.\n",
      "[Parallel(n_jobs=-1)]: Done  25 tasks      | elapsed: 10.1min\n",
      "[Parallel(n_jobs=-1)]: Done  40 out of  40 | elapsed: 17.1min finished\n"
     ]
    },
    {
     "name": "stdout",
     "output_type": "stream",
     "text": [
      "time elapsed: 0:24:22.379787\n"
     ]
    }
   ],
   "source": [
    "hgbr = HistGradientBoostingClassifier()\n",
    "hgb_random = RandomizedSearchCV(\n",
    "    estimator = hgbr, param_distributions = parameters, \n",
    "    n_iter = 10, cv = 4, verbose = 2, random_state = 32, n_jobs = -1)\n",
    "tic = timeit.default_timer()\n",
    "hgb_random.fit(X_train_pca, train_label)\n",
    "toc = timeit.default_timer()\n",
    "print(f\"time elapsed: {timedelta(seconds=toc-tic)}\")"
   ]
  },
  {
   "cell_type": "code",
   "execution_count": 7,
   "metadata": {
    "colab": {},
    "colab_type": "code",
    "id": "7dhWQCXxH3U4"
   },
   "outputs": [
    {
     "name": "stdout",
     "output_type": "stream",
     "text": [
      "{'max_iter': 2000, 'max_depth': 10, 'learning_rate': 0.1, 'l2_regularization': 1}\n",
      "0.5061142857142857\n",
      "0.5204\n"
     ]
    }
   ],
   "source": [
    "hgb_results = pd.DataFrame(hgb_random.cv_results_)\n",
    "print(hgb_random.best_params_)\n",
    "print(hgb_random.best_score_)                  # 0.5147529411764706 0.5061142857142857\n",
    "print(hgb_random.score(X_val_pca, val_label))  # 0.5292             0.5204\n",
    "# {'max_iter': 2000, 'max_depth': 10, 'learning_rate': 0.1, 'l2_regularization': 1}"
   ]
  },
  {
   "cell_type": "code",
   "execution_count": 8,
   "metadata": {
    "colab": {},
    "colab_type": "code",
    "id": "smMIxGqtKcEa"
   },
   "outputs": [
    {
     "name": "stdout",
     "output_type": "stream",
     "text": [
      "time elapsed: 0:10:03.546192\n"
     ]
    }
   ],
   "source": [
    "# Building a model with all the training and validation data and testing with test data\n",
    "pca_pipe = make_pipeline(StandardScaler(), \n",
    "                           PCA(n_components=0.8, whiten=True, random_state=0))\n",
    "xgbmod = HistGradientBoostingClassifier(l2_regularization = 1, learning_rate = 0.1,\n",
    "                                       max_iter = 2000, max_depth = 10)\n",
    "xgb_pipe = make_pipeline(pca_pipe, xgbmod)\n",
    "tic = timeit.default_timer()\n",
    "xgb_pipe.fit(full_train_data, full_train_label)\n",
    "toc = timeit.default_timer()\n",
    "print(f\"time elapsed: {timedelta(seconds=toc-tic)}\") # 1149.32 seconds"
   ]
  },
  {
   "cell_type": "code",
   "execution_count": 9,
   "metadata": {
    "colab": {},
    "colab_type": "code",
    "id": "6f_AgZQQKcRf"
   },
   "outputs": [
    {
     "name": "stdout",
     "output_type": "stream",
     "text": [
      "Train accuracy: 1.0\n",
      "Test accuracy:  0.5337\n"
     ]
    }
   ],
   "source": [
    "print(f\"Train accuracy: {xgb_pipe.score(full_train_data, full_train_label)}\") # 1\n",
    "print(f\"Test accuracy:  {xgb_pipe.score(test_data, test_label)}\")             # 0.5647"
   ]
  },
  {
   "cell_type": "code",
   "execution_count": 10,
   "metadata": {},
   "outputs": [],
   "source": [
    "# Model prediction\n",
    "pred = xgb_pipe.predict(test_data)"
   ]
  },
  {
   "cell_type": "code",
   "execution_count": 11,
   "metadata": {},
   "outputs": [
    {
     "name": "stdout",
     "output_type": "stream",
     "text": [
      "Accuracy: 0.534\n",
      "Confusion matrix:\n",
      "[[614  39  54  27  30  12  24  31 117  52]\n",
      " [ 35 641  10  22  13  22  24  26  57 150]\n",
      " [ 82  32 413  87 115  63 104  51  34  19]\n",
      " [ 30  36  80 334  60 219 107  60  25  49]\n",
      " [ 43  15 118  73 455  59 110  79  27  21]\n",
      " [ 19  14  68 210  43 425  83  83  28  27]\n",
      " [ 11  26  70  69  86  48 623  30  12  25]\n",
      " [ 33  23  42  60  68  74  53 567  17  63]\n",
      " [ 79  64  18  25  15  19  11  22 683  64]\n",
      " [ 38 158   9  41  12  24  16  43  77 582]]\n"
     ]
    },
    {
     "data": {
      "image/png": "[encoded data removed]",
      "text/plain": [
       "<Figure size 720x720 with 2 Axes>"
      ]
     },
     "metadata": {
      "needs_background": "light"
     },
     "output_type": "display_data"
    }
   ],
   "source": [
    "print(f\"Accuracy: {accuracy_score(test_label, pred):.3f}\")\n",
    "print(f\"Confusion matrix:\\n{confusion_matrix(test_label, pred)}\")\n",
    "fig, ax = plt.subplots(figsize=(10, 10))\n",
    "ConfusionMatrixDisplay(confusion_matrix(test_label, pred), \n",
    "                       display_labels=['0', '1', '2', '3', '4', '5', '6', '7', '8', '9']).plot(ax=ax, cmap=plt.cm.Blues, values_format='.0f')\n",
    "plt.savefig(\"confusion_xgb.png\")"
   ]
  },
  {
   "cell_type": "code",
   "execution_count": 12,
   "metadata": {},
   "outputs": [
    {
     "name": "stdout",
     "output_type": "stream",
     "text": [
      "              precision    recall  f1-score   support\n",
      "\n",
      "           0       0.62      0.61      0.62      1000\n",
      "           1       0.61      0.64      0.63      1000\n",
      "           2       0.47      0.41      0.44      1000\n",
      "           3       0.35      0.33      0.34      1000\n",
      "           4       0.51      0.46      0.48      1000\n",
      "           5       0.44      0.42      0.43      1000\n",
      "           6       0.54      0.62      0.58      1000\n",
      "           7       0.57      0.57      0.57      1000\n",
      "           8       0.63      0.68      0.66      1000\n",
      "           9       0.55      0.58      0.57      1000\n",
      "\n",
      "    accuracy                           0.53     10000\n",
      "   macro avg       0.53      0.53      0.53     10000\n",
      "weighted avg       0.53      0.53      0.53     10000\n",
      "\n"
     ]
    }
   ],
   "source": [
    "# Classification report\n",
    "print(classification_report(test_label, pred))"
   ]
  },
  {
   "cell_type": "code",
   "execution_count": 13,
   "metadata": {},
   "outputs": [],
   "source": [
    "# Save model file with pickle\n",
    "xgb_pickle = \"Pickle_XGB.pkl\"  \n",
    "\n",
    "with open(xgb_pickle, 'wb') as file:  \n",
    "    pickle.dump(xgb_pipe, file)"
   ]
  },
  {
   "cell_type": "code",
   "execution_count": 5,
   "metadata": {},
   "outputs": [
    {
     "data": {
      "text/plain": [
       "Pipeline(memory=None,\n",
       "         steps=[('pipeline',\n",
       "                 Pipeline(memory=None,\n",
       "                          steps=[('standardscaler',\n",
       "                                  StandardScaler(copy=True, with_mean=True,\n",
       "                                                 with_std=True)),\n",
       "                                 ('pca',\n",
       "                                  PCA(copy=True, iterated_power='auto',\n",
       "                                      n_components=100, random_state=0,\n",
       "                                      svd_solver='auto', tol=0.0,\n",
       "                                      whiten=True))],\n",
       "                          verbose=False)),\n",
       "                ('histgradientboostingclassifier',\n",
       "                 HistGradientBoostingClassifier(l2_regularization=1,\n",
       "                                                learning_rate=0.1, loss='auto',\n",
       "                                                max_bins=255, max_depth=10,\n",
       "                                                max_iter=2000,\n",
       "                                                max_leaf_nodes=31,\n",
       "                                                min_samples_leaf=20,\n",
       "                                                n_iter_no_change=None,\n",
       "                                                random_state=None, scoring=None,\n",
       "                                                tol=1e-07,\n",
       "                                                validation_fraction=0.1,\n",
       "                                                verbose=0, warm_start=False))],\n",
       "         verbose=False)"
      ]
     },
     "execution_count": 5,
     "metadata": {},
     "output_type": "execute_result"
    }
   ],
   "source": [
    "# Load model from file with pickle\n",
    "xgb_pickle = \"Pickle_XGB.pkl\" \n",
    "with open(xgb_pickle, 'rb') as file:  \n",
    "    pickled_xgb = pickle.load(file)\n",
    "\n",
    "pickled_xgb"
   ]
  },
  {
   "cell_type": "code",
   "execution_count": null,
   "metadata": {},
   "outputs": [],
   "source": []
  }
 ],
 "metadata": {
  "colab": {
   "name": "stat654_xgboost.ipynb",
   "provenance": []
  },
  "kernelspec": {
   "display_name": "Python 3",
   "language": "python",
   "name": "python3"
  },
  "language_info": {
   "codemirror_mode": {
    "name": "ipython",
    "version": 3
   },
   "file_extension": ".py",
   "mimetype": "text/x-python",
   "name": "python",
   "nbconvert_exporter": "python",
   "pygments_lexer": "ipython3",
   "version": "3.8.2"
  }
 },
 "nbformat": 4,
 "nbformat_minor": 4
}
