{
 "cells": [
  {
   "cell_type": "markdown",
   "metadata": {
    "colab_type": "text",
    "id": "4cX1sVWMDS1R"
   },
   "source": [
    "# Importing Libraries and Pre-Processing"
   ]
  },
  {
   "cell_type": "code",
   "execution_count": 3,
   "metadata": {
    "colab": {
     "base_uri": "https://localhost:8080/",
     "height": 126
    },
    "colab_type": "code",
    "id": "tRqeDkxgAzKJ",
    "outputId": "4c173bed-3cff-4f56-c464-9c2329095466"
   },
   "outputs": [],
   "source": [
    "### Importing Libraries\n",
    "# basic libraries\n",
    "import numpy as np\n",
    "import pandas as pd\n",
    "import matplotlib.pyplot as plt\n",
    "import seaborn as sns\n",
    "\n",
    "# modeling libraries\n",
    "from sklearn.decomposition import PCA\n",
    "from sklearn.neighbors import KNeighborsClassifier\n",
    "from sklearn.experimental import enable_hist_gradient_boosting\n",
    "from sklearn.ensemble import HistGradientBoostingClassifier\n",
    "from sklearn.linear_model import LogisticRegression\n",
    "from sklearn.svm import SVC\n",
    "from sklearn.ensemble import RandomForestClassifier\n",
    "from sklearn.naive_bayes import GaussianNB\n",
    "from sklearn.naive_bayes import MultinomialNB\n",
    "from sklearn.ensemble import VotingClassifier\n",
    "from sklearn.pipeline import make_pipeline\n",
    "\n",
    "# Preprocessing and cross-validation\n",
    "from sklearn.preprocessing import StandardScaler\n",
    "from sklearn.model_selection import cross_val_score, cross_val_predict\n",
    "from sklearn.model_selection import train_test_split\n",
    "from sklearn.model_selection import GridSearchCV, RandomizedSearchCV\n",
    "from sklearn.model_selection import StratifiedShuffleSplit, RepeatedKFold\n",
    "\n",
    "# Model saving\n",
    "import pickle\n",
    "\n",
    "# Model evaluation\n",
    "from sklearn.metrics import accuracy_score\n",
    "from sklearn.metrics import classification_report\n",
    "from sklearn.metrics import confusion_matrix, plot_confusion_matrix\n",
    "from sklearn.metrics import ConfusionMatrixDisplay\n",
    "from matplotlib.colors import Normalize\n",
    "\n",
    "import timeit\n",
    "from datetime import timedelta\n",
    "\n",
    "plt.rcParams[\"savefig.dpi\"] = 300\n",
    "plt.rcParams[\"savefig.bbox\"] = 'tight'"
   ]
  },
  {
   "cell_type": "code",
   "execution_count": 5,
   "metadata": {},
   "outputs": [
    {
     "name": "stdout",
     "output_type": "stream",
     "text": [
      "Full train data: X = (50000, 3072), y = (50000,)\n",
      "Full test data:  X = (10000, 3072), y = (10000,)\n"
     ]
    }
   ],
   "source": [
    "### Importing and Preparing Data\n",
    "# load dataset\n",
    "training_data = pd.read_csv('train_x.csv').to_numpy()\n",
    "training_label = pd.read_csv('train_y.csv').to_numpy().flatten()\n",
    "testing_data = pd.read_csv('test_x.csv').to_numpy()\n",
    "testing_label = pd.read_csv(\"test_y.csv\").to_numpy().flatten()\n",
    "\n",
    "print(f'Full train data: X = {training_data.shape}, y = {training_label.shape}')\n",
    "print(f'Full test data:  X = {testing_data.shape}, y = {testing_label.shape}')"
   ]
  },
  {
   "cell_type": "code",
   "execution_count": 7,
   "metadata": {},
   "outputs": [
    {
     "name": "stdout",
     "output_type": "stream",
     "text": [
      "Full train data: X = (50000, 32, 32, 3), y = (50000,)\n",
      "Full test data:  X = (10000, 32, 32, 3), y = (10000,)\n"
     ]
    }
   ],
   "source": [
    "full_train_data = np.reshape(training_data, (training_data.shape[0], 32, 32, 3))\n",
    "test_data = np.reshape(testing_data, (testing_data.shape[0], 32, 32, 3))\n",
    "full_train_label = training_label\n",
    "test_label = testing_label\n",
    "print(f'Full train data: X = {full_train_data.shape}, y = {full_train_label.shape}')\n",
    "print(f'Full test data:  X = {test_data.shape}, y = {test_label.shape}')"
   ]
  },
  {
   "cell_type": "code",
   "execution_count": 8,
   "metadata": {
    "colab": {},
    "colab_type": "code",
    "id": "kWirS4KkkVXQ"
   },
   "outputs": [],
   "source": [
    "# Histogram of Oriented Gradients\n",
    "from skimage.io import imread, imshow\n",
    "from skimage.transform import resize\n",
    "from skimage.feature import hog\n",
    "from skimage import exposure\n",
    "\n",
    "def extract_hog(data):\n",
    "    fd_array = np.empty(shape=(len(data), 3780), dtype='float')\n",
    "    for i in range(len(data)):\n",
    "        img = data[i]\n",
    "        resized_img = resize(img, (128, 64))\n",
    "        fd = hog(resized_img, orientations=9, pixels_per_cell=(8,8), \n",
    "                 cells_per_block=(2,2), visualize=False, multichannel=True, \n",
    "                 block_norm='L2-Hys')\n",
    "        fd_array[i] = fd\n",
    "    return fd_array"
   ]
  },
  {
   "cell_type": "code",
   "execution_count": 9,
   "metadata": {
    "colab": {
     "base_uri": "https://localhost:8080/",
     "height": 35
    },
    "colab_type": "code",
    "id": "evbBDcpvlRMy",
    "outputId": "9423118a-49b8-4b76-aaf3-b8dad99a465d"
   },
   "outputs": [
    {
     "name": "stdout",
     "output_type": "stream",
     "text": [
      "time elapsed: 0:06:22.246217\n"
     ]
    }
   ],
   "source": [
    "tic = timeit.default_timer()\n",
    "full_train_data_hog = extract_hog(full_train_data)\n",
    "test_data_hog = extract_hog(test_data)\n",
    "toc = timeit.default_timer()\n",
    "print(f\"time elapsed: {timedelta(seconds=toc-tic)}\")"
   ]
  },
  {
   "cell_type": "code",
   "execution_count": 10,
   "metadata": {
    "colab": {
     "base_uri": "https://localhost:8080/",
     "height": 54
    },
    "colab_type": "code",
    "id": "sqmJqO_clRRi",
    "outputId": "46a925c4-ebf9-46de-990a-d0a93460391c"
   },
   "outputs": [
    {
     "name": "stdout",
     "output_type": "stream",
     "text": [
      "Train data:       X = (35000, 3780), y = (35000,)\n",
      "Validation data:  X = (15000, 3780), y = (15000,)\n"
     ]
    }
   ],
   "source": [
    "# Training and Validation Set Split\n",
    "train_data_hg, val_data_hg, train_label, val_label = train_test_split(\n",
    "    full_train_data_hog, full_train_label, test_size = 0.3,\n",
    "    stratify = full_train_label, random_state = 40)\n",
    "print(f'Train data:       X = {train_data_hg.shape}, y = {train_label.shape}')\n",
    "print(f'Validation data:  X = {val_data_hg.shape}, y = {val_label.shape}')"
   ]
  },
  {
   "cell_type": "code",
   "execution_count": 11,
   "metadata": {
    "colab": {
     "base_uri": "https://localhost:8080/",
     "height": 72
    },
    "colab_type": "code",
    "id": "UoTchgcPlSHl",
    "outputId": "de34529c-f8a1-4c5e-805c-11ff3b8d92c2"
   },
   "outputs": [
    {
     "name": "stdout",
     "output_type": "stream",
     "text": [
      "time elapsed:              0:02:08.057676\n",
      "PCA train data shape:      (35000, 460)\n",
      "PCA validation data shape: (15000, 460)\n"
     ]
    }
   ],
   "source": [
    "# Dimensionality Reduction - PCA\n",
    "pca_scaled2 = make_pipeline(StandardScaler(), \n",
    "                           PCA(n_components = 0.8, whiten=True, random_state=0))\n",
    "tic = timeit.default_timer()\n",
    "X_train_hg = pca_scaled2.fit_transform(train_data_hg)\n",
    "X_val_hg = pca_scaled2.transform(val_data_hg)\n",
    "toc = timeit.default_timer()\n",
    "print(f\"time elapsed:              {timedelta(seconds=toc-tic)}\")\n",
    "print(f\"PCA train data shape:      {X_train_hg.shape}\")\n",
    "print(f\"PCA validation data shape: {X_val_hg.shape}\")"
   ]
  },
  {
   "cell_type": "markdown",
   "metadata": {
    "colab_type": "text",
    "id": "qUT6rTZFmD5N"
   },
   "source": [
    "# Classification"
   ]
  },
  {
   "cell_type": "markdown",
   "metadata": {
    "colab_type": "text",
    "id": "csjgeXfADKLr"
   },
   "source": [
    "### Naive Bayes"
   ]
  },
  {
   "cell_type": "code",
   "execution_count": 14,
   "metadata": {
    "colab": {},
    "colab_type": "code",
    "id": "sYSVXSrUHfLD"
   },
   "outputs": [],
   "source": [
    "# GridSearch Search\n",
    "parameters = {\n",
    " 'priors': [None]\n",
    " }"
   ]
  },
  {
   "cell_type": "code",
   "execution_count": 17,
   "metadata": {
    "colab": {},
    "colab_type": "code",
    "id": "dqyk5fGFH3Ro"
   },
   "outputs": [
    {
     "name": "stdout",
     "output_type": "stream",
     "text": [
      "Fitting 10 folds for each of 1 candidates, totalling 10 fits\n"
     ]
    },
    {
     "name": "stderr",
     "output_type": "stream",
     "text": [
      "[Parallel(n_jobs=-1)]: Using backend LokyBackend with 8 concurrent workers.\n",
      "[Parallel(n_jobs=-1)]: Done   7 out of  10 | elapsed:    1.1s remaining:    0.5s\n",
      "[Parallel(n_jobs=-1)]: Done  10 out of  10 | elapsed:    1.3s finished\n"
     ]
    },
    {
     "name": "stdout",
     "output_type": "stream",
     "text": [
      "time elapsed: 0:00:01.639836\n"
     ]
    }
   ],
   "source": [
    "gnb = GaussianNB()\n",
    "gnb_grid = GridSearchCV(\n",
    "    estimator = gnb, param_grid = parameters, cv = 10, verbose = 2, n_jobs = -1)\n",
    "tic = timeit.default_timer()\n",
    "gnb_grid.fit(X_train_hg, train_label)\n",
    "toc = timeit.default_timer()\n",
    "print(f\"time elapsed: {timedelta(seconds=toc-tic)}\")"
   ]
  },
  {
   "cell_type": "code",
   "execution_count": 18,
   "metadata": {
    "colab": {},
    "colab_type": "code",
    "id": "7dhWQCXxH3U4"
   },
   "outputs": [
    {
     "name": "stdout",
     "output_type": "stream",
     "text": [
      "{'priors': None}\n",
      "0.26420000000000005\n",
      "0.2674\n"
     ]
    }
   ],
   "source": [
    "gnb_results = pd.DataFrame(gnb_grid.cv_results_)\n",
    "print(gnb_grid.best_params_)\n",
    "print(gnb_grid.best_score_)                 # 0.26420000000000005\n",
    "print(gnb_grid.score(X_val_hg, val_label))  # 0.2674\n",
    "# "
   ]
  },
  {
   "cell_type": "code",
   "execution_count": 20,
   "metadata": {
    "colab": {},
    "colab_type": "code",
    "id": "smMIxGqtKcEa"
   },
   "outputs": [
    {
     "name": "stdout",
     "output_type": "stream",
     "text": [
      "time elapsed: 0:02:35.640003\n"
     ]
    }
   ],
   "source": [
    "# Building a model with all the training and validation data and testing with test data\n",
    "pca_pipe = make_pipeline(PCA(n_components=0.8, whiten=True, random_state=0))\n",
    "gnbmod = GaussianNB()\n",
    "gnb_pipe = make_pipeline(pca_pipe, gnbmod)\n",
    "tic = timeit.default_timer()\n",
    "gnb_pipe.fit(full_train_data_hog, full_train_label)\n",
    "toc = timeit.default_timer()\n",
    "print(f\"time elapsed: {timedelta(seconds=toc-tic)}\") # 1149.32 seconds"
   ]
  },
  {
   "cell_type": "code",
   "execution_count": 21,
   "metadata": {
    "colab": {},
    "colab_type": "code",
    "id": "6f_AgZQQKcRf"
   },
   "outputs": [
    {
     "name": "stdout",
     "output_type": "stream",
     "text": [
      "Train accuracy: 0.33788\n",
      "Test accuracy:  0.3304\n"
     ]
    }
   ],
   "source": [
    "print(f\"Train accuracy: {gnb_pipe.score(full_train_data_hog, full_train_label)}\") # 1\n",
    "print(f\"Test accuracy:  {gnb_pipe.score(test_data_hog, test_label)}\")             # 0.5647"
   ]
  },
  {
   "cell_type": "code",
   "execution_count": 22,
   "metadata": {},
   "outputs": [],
   "source": [
    "# Model prediction\n",
    "pred = gnb_pipe.predict(test_data_hog)"
   ]
  },
  {
   "cell_type": "code",
   "execution_count": 23,
   "metadata": {},
   "outputs": [
    {
     "name": "stdout",
     "output_type": "stream",
     "text": [
      "Accuracy: 0.330\n",
      "Confusion matrix:\n",
      "[[147  85  36  18 249  73  11  62 269  50]\n",
      " [ 30 461  14  22  64  56  70  37 178  68]\n",
      " [ 27  33 100  48 415 169  54  71  64  19]\n",
      " [ 23  45  50 120 273 236  96  67  43  47]\n",
      " [  9  23  56  50 652  74  36  58  29  13]\n",
      " [ 10  24  74  75 250 366  63  76  21  41]\n",
      " [ 11  59  31  39 390  82 256  46  57  29]\n",
      " [ 15  20  66  41 227 138  50 377  23  43]\n",
      " [ 49  96  24  24 203  32  19  19 490  44]\n",
      " [ 50  86  37  27 125  98  40  55 147 335]]\n"
     ]
    },
    {
     "data": {
      "image/png": "[encoded data removed]",
      "text/plain": [
       "<Figure size 720x720 with 2 Axes>"
      ]
     },
     "metadata": {
      "needs_background": "light"
     },
     "output_type": "display_data"
    }
   ],
   "source": [
    "print(f\"Accuracy: {accuracy_score(test_label, pred):.3f}\")\n",
    "print(f\"Confusion matrix:\\n{confusion_matrix(test_label, pred)}\")\n",
    "fig, ax = plt.subplots(figsize=(10, 10))\n",
    "ConfusionMatrixDisplay(confusion_matrix(test_label, pred), \n",
    "                       display_labels=['0', '1', '2', '3', '4', '5', '6', '7', '8', '9']).plot(ax=ax, cmap=plt.cm.Blues, values_format='.0f')\n",
    "plt.savefig(\"confusion_gnb.png\")"
   ]
  },
  {
   "cell_type": "code",
   "execution_count": 24,
   "metadata": {},
   "outputs": [
    {
     "name": "stdout",
     "output_type": "stream",
     "text": [
      "              precision    recall  f1-score   support\n",
      "\n",
      "           0       0.40      0.15      0.21      1000\n",
      "           1       0.49      0.46      0.48      1000\n",
      "           2       0.20      0.10      0.13      1000\n",
      "           3       0.26      0.12      0.16      1000\n",
      "           4       0.23      0.65      0.34      1000\n",
      "           5       0.28      0.37      0.31      1000\n",
      "           6       0.37      0.26      0.30      1000\n",
      "           7       0.43      0.38      0.40      1000\n",
      "           8       0.37      0.49      0.42      1000\n",
      "           9       0.49      0.34      0.40      1000\n",
      "\n",
      "    accuracy                           0.33     10000\n",
      "   macro avg       0.35      0.33      0.32     10000\n",
      "weighted avg       0.35      0.33      0.32     10000\n",
      "\n"
     ]
    }
   ],
   "source": [
    "# Classification report\n",
    "print(classification_report(test_label, pred))"
   ]
  },
  {
   "cell_type": "code",
   "execution_count": 25,
   "metadata": {},
   "outputs": [],
   "source": [
    "# Save model file with pickle\n",
    "gnb_pickle = \"Pickle_GNB_hfull.pkl\"  \n",
    "\n",
    "with open(gnb_pickle, 'wb') as file:  \n",
    "    pickle.dump(gnb_pipe, file)"
   ]
  },
  {
   "cell_type": "code",
   "execution_count": 5,
   "metadata": {},
   "outputs": [
    {
     "data": {
      "text/plain": [
       "Pipeline(memory=None,\n",
       "         steps=[('pipeline',\n",
       "                 Pipeline(memory=None,\n",
       "                          steps=[('standardscaler',\n",
       "                                  StandardScaler(copy=True, with_mean=True,\n",
       "                                                 with_std=True)),\n",
       "                                 ('pca',\n",
       "                                  PCA(copy=True, iterated_power='auto',\n",
       "                                      n_components=100, random_state=0,\n",
       "                                      svd_solver='auto', tol=0.0,\n",
       "                                      whiten=True))],\n",
       "                          verbose=False)),\n",
       "                ('histgradientboostingclassifier',\n",
       "                 HistGradientBoostingClassifier(l2_regularization=1,\n",
       "                                                learning_rate=0.1, loss='auto',\n",
       "                                                max_bins=255, max_depth=10,\n",
       "                                                max_iter=2000,\n",
       "                                                max_leaf_nodes=31,\n",
       "                                                min_samples_leaf=20,\n",
       "                                                n_iter_no_change=None,\n",
       "                                                random_state=None, scoring=None,\n",
       "                                                tol=1e-07,\n",
       "                                                validation_fraction=0.1,\n",
       "                                                verbose=0, warm_start=False))],\n",
       "         verbose=False)"
      ]
     },
     "execution_count": 5,
     "metadata": {},
     "output_type": "execute_result"
    }
   ],
   "source": [
    "# Load model from file with pickle\n",
    "gnb_pickle = \"Pickle_GNB_hfull.pkl\" \n",
    "with open(gnb_pickle, 'rb') as file:  \n",
    "    pickled_gnb = pickle.load(file)\n",
    "\n",
    "pickled_gnb"
   ]
  },
  {
   "cell_type": "code",
   "execution_count": null,
   "metadata": {},
   "outputs": [],
   "source": []
  }
 ],
 "metadata": {
  "colab": {
   "name": "stat654_xgboost.ipynb",
   "provenance": []
  },
  "kernelspec": {
   "display_name": "Python 3",
   "language": "python",
   "name": "python3"
  },
  "language_info": {
   "codemirror_mode": {
    "name": "ipython",
    "version": 3
   },
   "file_extension": ".py",
   "mimetype": "text/x-python",
   "name": "python",
   "nbconvert_exporter": "python",
   "pygments_lexer": "ipython3",
   "version": "3.8.2"
  }
 },
 "nbformat": 4,
 "nbformat_minor": 4
}
