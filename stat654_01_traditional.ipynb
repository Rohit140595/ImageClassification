{
  "nbformat": 4,
  "nbformat_minor": 0,
  "metadata": {
    "kernelspec": {
      "display_name": "Python 3",
      "language": "python",
      "name": "python3"
    },
    "language_info": {
      "codemirror_mode": {
        "name": "ipython",
        "version": 3
      },
      "file_extension": ".py",
      "mimetype": "text/x-python",
      "name": "python",
      "nbconvert_exporter": "python",
      "pygments_lexer": "ipython3",
      "version": "3.8.2"
    },
    "colab": {
      "name": "Copy of Copy of stat654_01.ipynb",
      "provenance": [],
      "collapsed_sections": [
        "zl0t3w7vqGKf",
        "fllxdHcIwtNK"
      ],
      "toc_visible": true,
      "machine_shape": "hm"
    }
  },
  "cells": [
    {
      "cell_type": "markdown",
      "metadata": {
        "colab_type": "text",
        "id": "4cX1sVWMDS1R"
      },
      "source": [
        "# Importing Libraries and Pre-Processing"
      ]
    },
    {
      "cell_type": "code",
      "metadata": {
        "colab_type": "code",
        "id": "tRqeDkxgAzKJ",
        "outputId": "73e6e270-6310-44dc-c3f5-a3bfc919d834",
        "colab": {
          "base_uri": "https://localhost:8080/",
          "height": 92
        }
      },
      "source": [
        "### Importing Libraries\n",
        "# basic libraries\n",
        "import numpy as np\n",
        "import pandas as pd\n",
        "import matplotlib.pyplot as plt\n",
        "import seaborn as sns\n",
        "\n",
        "# Dataset library\n",
        "from keras.datasets import cifar10\n",
        "\n",
        "# Modeling libraries\n",
        "from sklearn.decomposition import PCA\n",
        "from sklearn.neighbors import KNeighborsClassifier\n",
        "from sklearn.experimental import enable_hist_gradient_boosting\n",
        "from sklearn.ensemble import HistGradientBoostingClassifier\n",
        "from sklearn.linear_model import LogisticRegression\n",
        "from sklearn.svm import SVC\n",
        "from sklearn.ensemble import RandomForestClassifier\n",
        "from sklearn.naive_bayes import GaussianNB\n",
        "from sklearn.naive_bayes import MultinomialNB\n",
        "from sklearn.ensemble import VotingClassifier\n",
        "from sklearn.pipeline import make_pipeline\n",
        "\n",
        "# Preprocessing and cross-validation\n",
        "from sklearn.preprocessing import StandardScaler\n",
        "from sklearn.model_selection import cross_val_score, cross_val_predict\n",
        "from sklearn.model_selection import train_test_split\n",
        "from sklearn.model_selection import GridSearchCV, RandomizedSearchCV\n",
        "from sklearn.model_selection import StratifiedShuffleSplit, RepeatedKFold\n",
        "\n",
        "# Model saving\n",
        "import pickle\n",
        "\n",
        "# Model evaluation\n",
        "from sklearn.metrics import accuracy_score\n",
        "from sklearn.metrics import classification_report\n",
        "from sklearn.metrics import confusion_matrix, plot_confusion_matrix\n",
        "from sklearn.metrics import ConfusionMatrixDisplay\n",
        "from matplotlib.colors import Normalize\n",
        "\n",
        "import timeit\n",
        "from datetime import timedelta\n",
        "\n",
        "plt.rcParams[\"savefig.dpi\"] = 300\n",
        "plt.rcParams[\"savefig.bbox\"] = 'tight'"
      ],
      "execution_count": 0,
      "outputs": [
        {
          "output_type": "stream",
          "text": [
            "/usr/local/lib/python3.6/dist-packages/statsmodels/tools/_testing.py:19: FutureWarning: pandas.util.testing is deprecated. Use the functions in the public API at pandas.testing instead.\n",
            "  import pandas.util.testing as tm\n",
            "Using TensorFlow backend.\n"
          ],
          "name": "stderr"
        }
      ]
    },
    {
      "cell_type": "code",
      "metadata": {
        "id": "8e1vv6L3zZX7",
        "colab_type": "code",
        "outputId": "ce43799f-2c58-4e10-f265-37ca47382016",
        "colab": {
          "base_uri": "https://localhost:8080/",
          "height": 90
        }
      },
      "source": [
        "### Importing and Preparing Data\n",
        "# load dataset\n",
        "(training_data, training_label), (testing_data, testing_label) = cifar10.load_data()\n",
        "\n",
        "# summarize loaded dataset\n",
        "print(f'Train: x = {training_data.shape}, y = {training_label.shape}')\n",
        "print(f'Test:  x = {testing_data.shape}, y = {testing_label.shape}')"
      ],
      "execution_count": 0,
      "outputs": [
        {
          "output_type": "stream",
          "text": [
            "Downloading data from https://www.cs.toronto.edu/~kriz/cifar-10-python.tar.gz\n",
            "170500096/170498071 [==============================] - 6s 0us/step\n",
            "Train: x = (50000, 32, 32, 3), y = (50000, 1)\n",
            "Test:  x = (10000, 32, 32, 3), y = (10000, 1)\n"
          ],
          "name": "stdout"
        }
      ]
    },
    {
      "cell_type": "code",
      "metadata": {
        "id": "sFxUcIGxIxsf",
        "colab_type": "code",
        "outputId": "e0081eda-209d-4e49-f313-1cbe5e91c43b",
        "colab": {
          "base_uri": "https://localhost:8080/",
          "height": 54
        }
      },
      "source": [
        "# Reshape Data\n",
        "full_train_data = np.reshape(\n",
        "    np.array(training_data),\n",
        "    newshape=(np.array(training_data).shape[0], 32 * 32 * 3))\n",
        "test_data = np.reshape(\n",
        "    np.array(testing_data), newshape=(np.array(testing_data).shape[0], 32 * 32 * 3))\n",
        "full_train_label = training_label.flatten()\n",
        "test_label = testing_label.flatten()\n",
        "print(f'Full train data: X = {full_train_data.shape}, y = {full_train_label.shape}')\n",
        "print(f'Full test data:  X = {test_data.shape}, y = {test_label.shape}')"
      ],
      "execution_count": 0,
      "outputs": [
        {
          "output_type": "stream",
          "text": [
            "Full train data: X = (50000, 3072), y = (50000,)\n",
            "Full test data:  X = (10000, 3072), y = (10000,)\n"
          ],
          "name": "stdout"
        }
      ]
    },
    {
      "cell_type": "code",
      "metadata": {
        "id": "_foAs92ZzZYA",
        "colab_type": "code",
        "outputId": "2b92d5e0-ec78-4285-e4a4-fc94d532b025",
        "colab": {
          "base_uri": "https://localhost:8080/",
          "height": 54
        }
      },
      "source": [
        "# Training and Validation Set Split\n",
        "train_data, val_data, train_label, val_label = train_test_split(\n",
        "    full_train_data, full_train_label, test_size = 0.3,\n",
        "    stratify = full_train_label, random_state = 40)\n",
        "print(f'Train data:       X = {train_data.shape}, y = {train_label.shape}')\n",
        "print(f'Validation data:  X = {val_data.shape}, y = {val_label.shape}')"
      ],
      "execution_count": 0,
      "outputs": [
        {
          "output_type": "stream",
          "text": [
            "Train data:       X = (35000, 3072), y = (35000,)\n",
            "Validation data:  X = (15000, 3072), y = (15000,)\n"
          ],
          "name": "stdout"
        }
      ]
    },
    {
      "cell_type": "markdown",
      "metadata": {
        "id": "ZQubAG4uzZYE",
        "colab_type": "text"
      },
      "source": [
        "# Visualization"
      ]
    },
    {
      "cell_type": "code",
      "metadata": {
        "id": "C5r-DqLizZYF",
        "colab_type": "code",
        "colab": {}
      },
      "source": [
        "datx = np.reshape(full_train_data, (full_train_data.shape[0], 32, 32, 3))"
      ],
      "execution_count": 0,
      "outputs": []
    },
    {
      "cell_type": "code",
      "metadata": {
        "id": "LXCQOpD7zZYK",
        "colab_type": "code",
        "outputId": "1d93cd17-7684-433b-91f1-889baeb929ac",
        "colab": {
          "base_uri": "https://localhost:8080/",
          "height": 297
        }
      },
      "source": [
        "# plot some images\n",
        "for i in range(9):\n",
        "    plt.subplot(330 + 1 + i)\n",
        "    plt.title(full_train_label[i])\n",
        "    fig = plt.imshow(datx[i])\n",
        "    fig.axes.get_xaxis().set_visible(False)\n",
        "    fig.axes.get_yaxis().set_visible(False)\n",
        "plt.tight_layout();"
      ],
      "execution_count": 0,
      "outputs": [
        {
          "output_type": "display_data",
          "data": {
            "image/png": "[encoded data removed]",
            "text/plain": [
              "<Figure size 432x288 with 9 Axes>"
            ]
          },
          "metadata": {
            "tags": [],
            "needs_background": "light"
          }
        }
      ]
    },
    {
      "cell_type": "markdown",
      "metadata": {
        "id": "COXKVmrxzZYP",
        "colab_type": "text"
      },
      "source": [
        "# Dimensionality Reduction - Principal Component Analysis"
      ]
    },
    {
      "cell_type": "code",
      "metadata": {
        "id": "KbQ_onS-zZYP",
        "colab_type": "code",
        "colab": {}
      },
      "source": [
        "# PCA\n",
        "scaled = StandardScaler().fit_transform(train_data)\n",
        "pca =  PCA(n_components = 0.8, whiten=True, random_state=0).fit(scaled)"
      ],
      "execution_count": 0,
      "outputs": []
    },
    {
      "cell_type": "code",
      "metadata": {
        "id": "JFB9ORzQzZYT",
        "colab_type": "code",
        "outputId": "d44d06ed-c95a-4a8b-e5f9-5fdb458e7c05",
        "colab": {
          "base_uri": "https://localhost:8080/",
          "height": 54
        }
      },
      "source": [
        "print(np.sum(pca.explained_variance_ratio_)) # 0.8986370641398359\n",
        "print(pca.n_components_)"
      ],
      "execution_count": 0,
      "outputs": [
        {
          "output_type": "stream",
          "text": [
            "0.8003071525770684\n",
            "34\n"
          ],
          "name": "stdout"
        }
      ]
    },
    {
      "cell_type": "code",
      "metadata": {
        "id": "RCMJ6VBvzZYX",
        "colab_type": "code",
        "outputId": "892683cf-0f02-4405-e265-ac0fffbc2b5b",
        "colab": {
          "base_uri": "https://localhost:8080/",
          "height": 35
        }
      },
      "source": [
        "pca_scaled = make_pipeline(StandardScaler(), PCA())\n",
        "tic = timeit.default_timer()\n",
        "pca_scaled.fit(train_data, train_label)\n",
        "toc = timeit.default_timer()\n",
        "print(f\"time elapsed: {timedelta(seconds=toc-tic)}\")\n",
        "pca = pca_scaled.named_steps['pca']"
      ],
      "execution_count": 0,
      "outputs": [
        {
          "output_type": "stream",
          "text": [
            "time elapsed: 0:00:51.603833\n"
          ],
          "name": "stdout"
        }
      ]
    },
    {
      "cell_type": "code",
      "metadata": {
        "id": "9q8IF0EIzZYb",
        "colab_type": "code",
        "outputId": "7a113da9-f9d3-406b-a44c-989aff82f689",
        "colab": {
          "base_uri": "https://localhost:8080/",
          "height": 297
        }
      },
      "source": [
        "fig, axes = plt.subplots(1, 2, figsize=(10, 4))\n",
        "axes[0].plot(pca.explained_variance_ratio_[:400])\n",
        "plt.axvline(34, 0.05, 1, label='34 PCs', c='r', ls='--')\n",
        "axes[1].plot(np.cumsum(pca.explained_variance_ratio_[:400]))\n",
        "for ax in axes:\n",
        "    ax.set_xlabel(\"component index\")\n",
        "    ax.set_ylabel(\"explained variance ratio\")\n",
        "plt.legend()\n",
        "plt.tight_layout()\n",
        "plt.savefig(\"pca.png\")"
      ],
      "execution_count": 0,
      "outputs": [
        {
          "output_type": "display_data",
          "data": {
            "image/png": "[encoded data removed]",
            "text/plain": [
              "<Figure size 720x288 with 2 Axes>"
            ]
          },
          "metadata": {
            "tags": [],
            "needs_background": "light"
          }
        }
      ]
    },
    {
      "cell_type": "code",
      "metadata": {
        "colab_type": "code",
        "id": "DwuuxCCQA8NO",
        "outputId": "4f18dcd8-9c5f-428b-c3c3-f0c1268d30d7",
        "colab": {
          "base_uri": "https://localhost:8080/",
          "height": 72
        }
      },
      "source": [
        "# Dimensionality Reduction - PCA\n",
        "pca_scaled = make_pipeline(StandardScaler(), \n",
        "                           PCA(n_components = 0.8, whiten=True, random_state=0))\n",
        "tic = timeit.default_timer()\n",
        "X_train_pca = pca_scaled.fit_transform(train_data)\n",
        "X_val_pca = pca_scaled.transform(val_data)\n",
        "toc = timeit.default_timer()\n",
        "print(f\"time elapsed:              {timedelta(seconds=toc-tic)}\")\n",
        "print(f\"PCA train data shape:      {X_train_pca.shape}\")\n",
        "print(f\"PCA validation data shape: {X_val_pca.shape}\")"
      ],
      "execution_count": 0,
      "outputs": [
        {
          "output_type": "stream",
          "text": [
            "time elapsed:              0:00:51.930381\n",
            "PCA train data shape:      (35000, 34)\n",
            "PCA validation data shape: (15000, 34)\n"
          ],
          "name": "stdout"
        }
      ]
    },
    {
      "cell_type": "markdown",
      "metadata": {
        "id": "nkjxc_vEkNOx",
        "colab_type": "text"
      },
      "source": [
        "# Dimensionality Reduction - Histogram of Oriented Gradients"
      ]
    },
    {
      "cell_type": "code",
      "metadata": {
        "id": "kWirS4KkkVXQ",
        "colab_type": "code",
        "colab": {}
      },
      "source": [
        "# Histogram of Oriented Gradients\n",
        "from skimage.io import imread, imshow\n",
        "from skimage.transform import resize\n",
        "from skimage.feature import hog\n",
        "from skimage import exposure\n",
        "\n",
        "def extract_hog(data):\n",
        "    fd_array = np.empty(shape=(len(data), 3780), dtype='float')\n",
        "    for i in range(len(data)):\n",
        "        img = data[i]\n",
        "        resized_img = resize(img, (128, 64))\n",
        "        fd = hog(resized_img, orientations=9, pixels_per_cell=(8,8), \n",
        "                 cells_per_block=(2,2), visualize=False, multichannel=True, \n",
        "                 block_norm='L2-Hys')\n",
        "        fd_array[i] = fd\n",
        "    return fd_array"
      ],
      "execution_count": 0,
      "outputs": []
    },
    {
      "cell_type": "code",
      "metadata": {
        "id": "evbBDcpvlRMy",
        "colab_type": "code",
        "outputId": "1f4a5276-c8ca-4998-8106-1cbb7520f5f2",
        "colab": {
          "base_uri": "https://localhost:8080/",
          "height": 35
        }
      },
      "source": [
        "tic = timeit.default_timer()\n",
        "full_train_data_hog = extract_hog(training_data)\n",
        "test_data_hog = extract_hog(testing_data)\n",
        "toc = timeit.default_timer()\n",
        "print(f\"time elapsed: {timedelta(seconds=toc-tic)}\")"
      ],
      "execution_count": 0,
      "outputs": [
        {
          "output_type": "stream",
          "text": [
            "time elapsed: 0:08:04.094953\n"
          ],
          "name": "stdout"
        }
      ]
    },
    {
      "cell_type": "code",
      "metadata": {
        "id": "sqmJqO_clRRi",
        "colab_type": "code",
        "outputId": "6d9a0553-2464-4e9a-9d1c-3ba279cb36f4",
        "colab": {
          "base_uri": "https://localhost:8080/",
          "height": 54
        }
      },
      "source": [
        "# Training and Validation Set Split\n",
        "train_data_hg, val_data_hg, train_label, val_label = train_test_split(\n",
        "    full_train_data_hog, full_train_label, test_size = 0.3,\n",
        "    stratify = full_train_label, random_state = 40)\n",
        "print(f'Train data:       X = {train_data_hg.shape}, y = {train_label.shape}')\n",
        "print(f'Validation data:  X = {val_data_hg.shape}, y = {val_label.shape}')"
      ],
      "execution_count": 0,
      "outputs": [
        {
          "output_type": "stream",
          "text": [
            "Train data:       X = (35000, 3780), y = (35000,)\n",
            "Validation data:  X = (15000, 3780), y = (15000,)\n"
          ],
          "name": "stdout"
        }
      ]
    },
    {
      "cell_type": "code",
      "metadata": {
        "id": "UoTchgcPlSHl",
        "colab_type": "code",
        "outputId": "e7c2d8c6-44bc-4d73-8c16-64f07dbc9bfe",
        "colab": {
          "base_uri": "https://localhost:8080/",
          "height": 72
        }
      },
      "source": [
        "# Dimensionality Reduction - PCA\n",
        "pca_scaled2 = make_pipeline(StandardScaler(), \n",
        "                           PCA(n_components = 0.8, whiten=True, random_state=0))\n",
        "tic = timeit.default_timer()\n",
        "X_train_hg = pca_scaled2.fit_transform(train_data_hg)\n",
        "X_val_hg = pca_scaled2.transform(val_data_hg)\n",
        "toc = timeit.default_timer()\n",
        "print(f\"time elapsed:              {timedelta(seconds=toc-tic)}\")\n",
        "print(f\"PCA train data shape:      {X_train_hg.shape}\")\n",
        "print(f\"PCA validation data shape: {X_val_hg.shape}\")"
      ],
      "execution_count": 0,
      "outputs": [
        {
          "output_type": "stream",
          "text": [
            "time elapsed:              0:01:21.148698\n",
            "PCA train data shape:      (35000, 469)\n",
            "PCA validation data shape: (15000, 469)\n"
          ],
          "name": "stdout"
        }
      ]
    },
    {
      "cell_type": "markdown",
      "metadata": {
        "id": "v58EPYoVzZYj",
        "colab_type": "text"
      },
      "source": [
        "# Classification"
      ]
    },
    {
      "cell_type": "markdown",
      "metadata": {
        "id": "Np8VyPdhzZYk",
        "colab_type": "text"
      },
      "source": [
        "### Naive Bayes"
      ]
    },
    {
      "cell_type": "markdown",
      "metadata": {
        "id": "mfVdeEazqiZA",
        "colab_type": "text"
      },
      "source": [
        "##### Without HOG"
      ]
    },
    {
      "cell_type": "code",
      "metadata": {
        "id": "mNpnnpqhzZYl",
        "colab_type": "code",
        "outputId": "1894e31b-d49f-4312-d67d-a3903673945a",
        "colab": {
          "base_uri": "https://localhost:8080/",
          "height": 35
        }
      },
      "source": [
        "%%timeit\n",
        "gnb = GaussianNB()\n",
        "gnb.fit(X_train_pca, train_label)"
      ],
      "execution_count": 0,
      "outputs": [
        {
          "output_type": "stream",
          "text": [
            "100 loops, best of 3: 16.5 ms per loop\n"
          ],
          "name": "stdout"
        }
      ]
    },
    {
      "cell_type": "code",
      "metadata": {
        "id": "Jh4_nteEzZYq",
        "colab_type": "code",
        "outputId": "1d0f8b7a-257d-4b37-eff3-921823e059bb",
        "colab": {
          "base_uri": "https://localhost:8080/",
          "height": 54
        }
      },
      "source": [
        "gnb = GaussianNB()\n",
        "gnb.fit(X_train_pca, train_label)\n",
        "toc = timeit.default_timer()\n",
        "print(f\"Train accuracy: {gnb.score(X_train_pca, train_label)}\") # 0.3435764705882353\n",
        "print(f\"Test accuracy:  {gnb.score(X_val_pca, val_label)}\")     # 0.33413333333333334"
      ],
      "execution_count": 0,
      "outputs": [
        {
          "output_type": "stream",
          "text": [
            "Train accuracy: 0.37102857142857143\n",
            "Test accuracy:  0.3702666666666667\n"
          ],
          "name": "stdout"
        }
      ]
    },
    {
      "cell_type": "code",
      "metadata": {
        "id": "F6h2Hfj8zZYt",
        "colab_type": "code",
        "colab": {}
      },
      "source": [
        "# Save model file with pickle\n",
        "nb_pickle = \"Pickle_NaiveBayes.pkl\"  \n",
        "\n",
        "with open(nb_pickle, 'wb') as file:  \n",
        "    pickle.dump(gnb, file)"
      ],
      "execution_count": 0,
      "outputs": []
    },
    {
      "cell_type": "code",
      "metadata": {
        "id": "RGUUHK6AzZYw",
        "colab_type": "code",
        "outputId": "f5739dc6-2770-41e4-e546-86ad2e7fb15a",
        "colab": {
          "base_uri": "https://localhost:8080/",
          "height": 35
        }
      },
      "source": [
        "# Load model from file with pickle\n",
        "with open(nb_pickle, 'rb') as file:  \n",
        "    pickled_gnb = pickle.load(file)\n",
        "\n",
        "pickled_gnb"
      ],
      "execution_count": 0,
      "outputs": [
        {
          "output_type": "execute_result",
          "data": {
            "text/plain": [
              "GaussianNB(priors=None, var_smoothing=1e-09)"
            ]
          },
          "metadata": {
            "tags": []
          },
          "execution_count": 33
        }
      ]
    },
    {
      "cell_type": "markdown",
      "metadata": {
        "id": "twIQQpzgqrtm",
        "colab_type": "text"
      },
      "source": [
        "##### With HOG"
      ]
    },
    {
      "cell_type": "code",
      "metadata": {
        "id": "erYXaoEEquiD",
        "colab_type": "code",
        "outputId": "a7140c4d-af0d-4455-9fbf-88aa86c3fdbe",
        "colab": {
          "base_uri": "https://localhost:8080/",
          "height": 35
        }
      },
      "source": [
        "%%timeit\n",
        "gnb_h = GaussianNB()\n",
        "gnb_h.fit(X_train_hg, train_label)"
      ],
      "execution_count": 0,
      "outputs": [
        {
          "output_type": "stream",
          "text": [
            "1 loop, best of 3: 292 ms per loop\n"
          ],
          "name": "stdout"
        }
      ]
    },
    {
      "cell_type": "code",
      "metadata": {
        "id": "GZ1u5JnKquok",
        "colab_type": "code",
        "outputId": "0585b0a8-e5d0-44d8-84e1-ea8a5e192bac",
        "colab": {
          "base_uri": "https://localhost:8080/",
          "height": 54
        }
      },
      "source": [
        "gnb_h = GaussianNB()\n",
        "gnb_h.fit(X_train_hg, train_label)\n",
        "print(f\"Train accuracy: {gnb_h.score(X_train_hg, train_label)}\") # 0.11195294117647059\n",
        "print(f\"Test accuracy:  {gnb_h.score(X_val_hg, val_label)}\")     # 0.1104"
      ],
      "execution_count": 0,
      "outputs": [
        {
          "output_type": "stream",
          "text": [
            "Train accuracy: 0.5090571428571429\n",
            "Test accuracy:  0.4829333333333333\n"
          ],
          "name": "stdout"
        }
      ]
    },
    {
      "cell_type": "code",
      "metadata": {
        "id": "T9h35maEqumh",
        "colab_type": "code",
        "colab": {}
      },
      "source": [
        "# Save model file with pickle\n",
        "nb_pickle_h = \"Pickle_NaiveBayes_h.pkl\"  \n",
        "\n",
        "with open(nb_pickle_h, 'wb') as file:  \n",
        "    pickle.dump(gnb_h, file)"
      ],
      "execution_count": 0,
      "outputs": []
    },
    {
      "cell_type": "code",
      "metadata": {
        "id": "oSaCXAoqq12u",
        "colab_type": "code",
        "outputId": "a0e33677-0cb2-4c21-d6dc-b2f4ad8f42f7",
        "colab": {
          "base_uri": "https://localhost:8080/",
          "height": 35
        }
      },
      "source": [
        "# Load model from file with pickle\n",
        "with open(nb_pickle_h, 'rb') as file:  \n",
        "    pickled_gnb_h = pickle.load(file)\n",
        "\n",
        "pickled_gnb_h"
      ],
      "execution_count": 0,
      "outputs": [
        {
          "output_type": "execute_result",
          "data": {
            "text/plain": [
              "GaussianNB(priors=None, var_smoothing=1e-09)"
            ]
          },
          "metadata": {
            "tags": []
          },
          "execution_count": 37
        }
      ]
    },
    {
      "cell_type": "markdown",
      "metadata": {
        "id": "769ApZy6zZY0",
        "colab_type": "text"
      },
      "source": [
        "### KNN"
      ]
    },
    {
      "cell_type": "markdown",
      "metadata": {
        "id": "Aeri1N51spHT",
        "colab_type": "text"
      },
      "source": [
        "##### Without HOG"
      ]
    },
    {
      "cell_type": "code",
      "metadata": {
        "id": "KL0eCdW4zZY0",
        "colab_type": "code",
        "outputId": "f319258c-7c37-4c6d-aa8e-308491100e66",
        "colab": {
          "base_uri": "https://localhost:8080/",
          "height": 35
        }
      },
      "source": [
        "%%timeit\n",
        "knn_mod = KNeighborsClassifier(n_neighbors=1)\n",
        "knn_mod.fit(X_train_pca, train_label)"
      ],
      "execution_count": 0,
      "outputs": [
        {
          "output_type": "stream",
          "text": [
            "10 loops, best of 3: 168 ms per loop\n"
          ],
          "name": "stdout"
        }
      ]
    },
    {
      "cell_type": "code",
      "metadata": {
        "id": "ia-1jTiUzZY4",
        "colab_type": "code",
        "outputId": "9f28318f-e109-4d3e-f12f-2c581a7920b5",
        "colab": {
          "base_uri": "https://localhost:8080/",
          "height": 54
        }
      },
      "source": [
        "knn_mod = KNeighborsClassifier(n_neighbors=1)\n",
        "knn_mod.fit(X_train_pca, train_label)\n",
        "print(f\"Train accuracy: {knn_mod.score(X_train_pca, train_label)}\") # 1.0\n",
        "print(f\"Test accuracy:  {knn_mod.score(X_val_pca, val_label):.4f}\") # 0.3251"
      ],
      "execution_count": 0,
      "outputs": [
        {
          "output_type": "stream",
          "text": [
            "Train accuracy: 1.0\n",
            "Test accuracy:  0.3878\n"
          ],
          "name": "stdout"
        }
      ]
    },
    {
      "cell_type": "code",
      "metadata": {
        "id": "QkV7gvo0zZY9",
        "colab_type": "code",
        "colab": {}
      },
      "source": [
        "# Save model file with pickle\n",
        "knn_pickle = \"Pickle_KNN.pkl\"  \n",
        "\n",
        "with open(knn_pickle, 'wb') as file:  \n",
        "    pickle.dump(knn_mod, file)"
      ],
      "execution_count": 0,
      "outputs": []
    },
    {
      "cell_type": "code",
      "metadata": {
        "id": "mLH3ct0rzZZA",
        "colab_type": "code",
        "outputId": "5b7ba7ad-8836-40f1-a0aa-00c594bbccd0",
        "colab": {
          "base_uri": "https://localhost:8080/",
          "height": 72
        }
      },
      "source": [
        "# Load model from file with pickle\n",
        "with open(knn_pickle, 'rb') as file:  \n",
        "    pickled_knn = pickle.load(file)\n",
        "\n",
        "pickled_knn"
      ],
      "execution_count": 0,
      "outputs": [
        {
          "output_type": "execute_result",
          "data": {
            "text/plain": [
              "KNeighborsClassifier(algorithm='auto', leaf_size=30, metric='minkowski',\n",
              "                     metric_params=None, n_jobs=None, n_neighbors=1, p=2,\n",
              "                     weights='uniform')"
            ]
          },
          "metadata": {
            "tags": []
          },
          "execution_count": 41
        }
      ]
    },
    {
      "cell_type": "markdown",
      "metadata": {
        "id": "pyVC43jxssdf",
        "colab_type": "text"
      },
      "source": [
        "##### With HOG"
      ]
    },
    {
      "cell_type": "code",
      "metadata": {
        "id": "qpNLqh1csvA3",
        "colab_type": "code",
        "outputId": "4ccb4c24-882e-42d5-a5a5-f20532cfe2a8",
        "colab": {
          "base_uri": "https://localhost:8080/",
          "height": 35
        }
      },
      "source": [
        "%%timeit\n",
        "knn_mod_h = KNeighborsClassifier(n_neighbors=1)\n",
        "knn_mod_h.fit(X_train_hg, train_label)"
      ],
      "execution_count": 0,
      "outputs": [
        {
          "output_type": "stream",
          "text": [
            "1 loop, best of 3: 3.15 s per loop\n"
          ],
          "name": "stdout"
        }
      ]
    },
    {
      "cell_type": "code",
      "metadata": {
        "id": "kSn9FhewsvNh",
        "colab_type": "code",
        "outputId": "8586445f-8923-49f4-a566-521773af6330",
        "colab": {
          "base_uri": "https://localhost:8080/",
          "height": 54
        }
      },
      "source": [
        "knn_mod_h = KNeighborsClassifier(n_neighbors=1)\n",
        "knn_mod_h.fit(X_train_hg, train_label)\n",
        "print(f\"Train accuracy: {knn_mod_h.score(X_train_hg, train_label)}\") # 1.0\n",
        "print(f\"Test accuracy:  {knn_mod_h.score(X_val_hg, val_label):.4f}\") # 0.1719"
      ],
      "execution_count": 0,
      "outputs": [
        {
          "output_type": "stream",
          "text": [
            "Train accuracy: 1.0\n",
            "Test accuracy:  0.1557\n"
          ],
          "name": "stdout"
        }
      ]
    },
    {
      "cell_type": "code",
      "metadata": {
        "id": "gi4x_7TBsvJl",
        "colab_type": "code",
        "colab": {}
      },
      "source": [
        "# Save model file with pickle\n",
        "knn_pickle_h = \"Pickle_KNN_h.pkl\"  \n",
        "\n",
        "with open(knn_pickle_h, 'wb') as file:  \n",
        "    pickle.dump(knn_mod_h, file)"
      ],
      "execution_count": 0,
      "outputs": []
    },
    {
      "cell_type": "code",
      "metadata": {
        "id": "AbRzWa9fsvGC",
        "colab_type": "code",
        "outputId": "17fa5e6a-e074-4343-f0d9-580920582ed4",
        "colab": {
          "base_uri": "https://localhost:8080/",
          "height": 72
        }
      },
      "source": [
        "# Load model from file with pickle\n",
        "with open(knn_pickle_h, 'rb') as file:  \n",
        "    pickled_knn_h = pickle.load(file)\n",
        "\n",
        "pickled_knn_h"
      ],
      "execution_count": 0,
      "outputs": [
        {
          "output_type": "execute_result",
          "data": {
            "text/plain": [
              "KNeighborsClassifier(algorithm='auto', leaf_size=30, metric='minkowski',\n",
              "                     metric_params=None, n_jobs=None, n_neighbors=1, p=2,\n",
              "                     weights='uniform')"
            ]
          },
          "metadata": {
            "tags": []
          },
          "execution_count": 45
        }
      ]
    },
    {
      "cell_type": "markdown",
      "metadata": {
        "id": "WWdFWfIczZZD",
        "colab_type": "text"
      },
      "source": [
        "### Logistic Regression"
      ]
    },
    {
      "cell_type": "markdown",
      "metadata": {
        "id": "ZRFDzaZCtTlT",
        "colab_type": "text"
      },
      "source": [
        "##### Without HOG"
      ]
    },
    {
      "cell_type": "code",
      "metadata": {
        "id": "NDtSGjkIzZZD",
        "colab_type": "code",
        "outputId": "a6290f93-ea96-4160-bac7-f5d71a47a7c6",
        "colab": {
          "base_uri": "https://localhost:8080/",
          "height": 35
        }
      },
      "source": [
        "%%timeit\n",
        "logreg = LogisticRegression(C=0.1)\n",
        "logreg.fit(X_train_pca, train_label)"
      ],
      "execution_count": 0,
      "outputs": [
        {
          "output_type": "stream",
          "text": [
            "1 loop, best of 3: 836 ms per loop\n"
          ],
          "name": "stdout"
        }
      ]
    },
    {
      "cell_type": "code",
      "metadata": {
        "id": "Vr6vu-PdzZZG",
        "colab_type": "code",
        "outputId": "44e26299-7974-4784-c425-ebb52d06754e",
        "colab": {
          "base_uri": "https://localhost:8080/",
          "height": 54
        }
      },
      "source": [
        "logreg = LogisticRegression(C=0.1)\n",
        "logreg.fit(X_train_pca, train_label)\n",
        "print(f\"Train accuracy: {logreg.score(X_train_pca, train_label)}\") # 0.40489411764705885\n",
        "print(f\"Test accuracy:  {logreg.score(X_val_pca, val_label):.4f}\") # 0.3965"
      ],
      "execution_count": 0,
      "outputs": [
        {
          "output_type": "stream",
          "text": [
            "Train accuracy: 0.37185714285714283\n",
            "Test accuracy:  0.3715\n"
          ],
          "name": "stdout"
        }
      ]
    },
    {
      "cell_type": "code",
      "metadata": {
        "id": "jfpKrIOIzZZJ",
        "colab_type": "code",
        "colab": {}
      },
      "source": [
        "# Save model file with pickle\n",
        "logreg_pickle = \"Pickle_LR.pkl\"  \n",
        "\n",
        "with open(logreg_pickle, 'wb') as file:  \n",
        "    pickle.dump(logreg, file)"
      ],
      "execution_count": 0,
      "outputs": []
    },
    {
      "cell_type": "code",
      "metadata": {
        "id": "3gO4kqPhzZZM",
        "colab_type": "code",
        "outputId": "fea76fde-5e07-44dc-cc21-67b70d438838",
        "colab": {
          "base_uri": "https://localhost:8080/",
          "height": 108
        }
      },
      "source": [
        "# Load model from file with pickle\n",
        "with open(logreg_pickle, 'rb') as file:  \n",
        "    pickled_logreg = pickle.load(file)\n",
        "\n",
        "pickled_logreg"
      ],
      "execution_count": 0,
      "outputs": [
        {
          "output_type": "execute_result",
          "data": {
            "text/plain": [
              "LogisticRegression(C=0.1, class_weight=None, dual=False, fit_intercept=True,\n",
              "                   intercept_scaling=1, l1_ratio=None, max_iter=100,\n",
              "                   multi_class='auto', n_jobs=None, penalty='l2',\n",
              "                   random_state=None, solver='lbfgs', tol=0.0001, verbose=0,\n",
              "                   warm_start=False)"
            ]
          },
          "metadata": {
            "tags": []
          },
          "execution_count": 49
        }
      ]
    },
    {
      "cell_type": "markdown",
      "metadata": {
        "id": "i61YfqNLtXUH",
        "colab_type": "text"
      },
      "source": [
        "##### With HOG"
      ]
    },
    {
      "cell_type": "code",
      "metadata": {
        "id": "k01kN8JQzZZP",
        "colab_type": "code",
        "outputId": "af240ee5-58c5-4117-8f20-573e2f814f4d",
        "colab": {
          "base_uri": "https://localhost:8080/",
          "height": 35
        }
      },
      "source": [
        "%%timeit\n",
        "logreg_h = LogisticRegression(C=0.1, solver='sag')\n",
        "logreg_h.fit(X_train_hg, train_label)"
      ],
      "execution_count": 0,
      "outputs": [
        {
          "output_type": "stream",
          "text": [
            "1 loop, best of 3: 31.9 s per loop\n"
          ],
          "name": "stdout"
        }
      ]
    },
    {
      "cell_type": "code",
      "metadata": {
        "id": "2JpxPbsotbCY",
        "colab_type": "code",
        "outputId": "c840253a-cf31-48b5-b852-27b9d88ba22e",
        "colab": {
          "base_uri": "https://localhost:8080/",
          "height": 54
        }
      },
      "source": [
        "logreg_h = LogisticRegression(C=0.1, solver='sag')\n",
        "logreg_h.fit(X_train_hg, train_label)\n",
        "print(f\"Train accuracy: {logreg_h.score(X_train_hg, train_label)}\") # 0.2256\n",
        "print(f\"Test accuracy:  {logreg_h.score(X_val_hg, val_label):.4f}\") # 0.2272"
      ],
      "execution_count": 0,
      "outputs": [
        {
          "output_type": "stream",
          "text": [
            "Train accuracy: 0.5832571428571428\n",
            "Test accuracy:  0.5430\n"
          ],
          "name": "stdout"
        }
      ]
    },
    {
      "cell_type": "code",
      "metadata": {
        "id": "GACXQtGotbF7",
        "colab_type": "code",
        "colab": {}
      },
      "source": [
        "# Save model file with pickle\n",
        "logreg_pickle_h = \"Pickle_LR_h.pkl\"  \n",
        "\n",
        "with open(logreg_pickle_h, 'wb') as file:  \n",
        "    pickle.dump(logreg_h, file)"
      ],
      "execution_count": 0,
      "outputs": []
    },
    {
      "cell_type": "code",
      "metadata": {
        "id": "lvQqCTZ-tbaM",
        "colab_type": "code",
        "outputId": "41dbf069-4f55-4ea6-eaf2-ce62dd6f736f",
        "colab": {
          "base_uri": "https://localhost:8080/",
          "height": 108
        }
      },
      "source": [
        "# Load model from file with pickle\n",
        "with open(logreg_pickle_h, 'rb') as file:  \n",
        "    pickled_logreg_h = pickle.load(file)\n",
        "\n",
        "pickled_logreg_h"
      ],
      "execution_count": 0,
      "outputs": [
        {
          "output_type": "execute_result",
          "data": {
            "text/plain": [
              "LogisticRegression(C=0.1, class_weight=None, dual=False, fit_intercept=True,\n",
              "                   intercept_scaling=1, l1_ratio=None, max_iter=100,\n",
              "                   multi_class='auto', n_jobs=None, penalty='l2',\n",
              "                   random_state=None, solver='sag', tol=0.0001, verbose=0,\n",
              "                   warm_start=False)"
            ]
          },
          "metadata": {
            "tags": []
          },
          "execution_count": 53
        }
      ]
    },
    {
      "cell_type": "markdown",
      "metadata": {
        "colab_type": "text",
        "id": "eFng-Mo1igD7"
      },
      "source": [
        "### Random Forest"
      ]
    },
    {
      "cell_type": "markdown",
      "metadata": {
        "colab_type": "text",
        "id": "ZcKuhojHigEI"
      },
      "source": [
        "##### Without HOG"
      ]
    },
    {
      "cell_type": "code",
      "metadata": {
        "colab_type": "code",
        "outputId": "1bb2cff4-499d-4a28-dcd8-c3d6e66efa68",
        "id": "FFYTVur8igEL",
        "colab": {
          "base_uri": "https://localhost:8080/",
          "height": 35
        }
      },
      "source": [
        "%%timeit\n",
        "rf = RandomForestClassifier()\n",
        "rf.fit(X_train_pca, train_label)"
      ],
      "execution_count": 0,
      "outputs": [
        {
          "output_type": "stream",
          "text": [
            "1 loop, best of 3: 26 s per loop\n"
          ],
          "name": "stdout"
        }
      ]
    },
    {
      "cell_type": "code",
      "metadata": {
        "colab_type": "code",
        "outputId": "a3c41fd9-fe78-490f-faeb-a891555f2359",
        "id": "RNVLv5z5igET",
        "colab": {
          "base_uri": "https://localhost:8080/",
          "height": 54
        }
      },
      "source": [
        "rf = RandomForestClassifier()\n",
        "rf.fit(X_train_pca, train_label)\n",
        "print(f\"Train accuracy: {rf.score(X_train_pca, train_label)}\") # 1.0\n",
        "print(f\"Test accuracy:  {rf.score(X_val_pca, val_label):.4f}\") # 0.4647"
      ],
      "execution_count": 0,
      "outputs": [
        {
          "output_type": "stream",
          "text": [
            "Train accuracy: 1.0\n",
            "Test accuracy:  0.4647\n"
          ],
          "name": "stdout"
        }
      ]
    },
    {
      "cell_type": "code",
      "metadata": {
        "colab_type": "code",
        "id": "pF4aFKN9igEX",
        "colab": {}
      },
      "source": [
        "# Save model file with pickle\n",
        "rf_pickle = \"Pickle_RF.pkl\"  \n",
        "\n",
        "with open(rf_pickle, 'wb') as file:  \n",
        "    pickle.dump(rf, file)"
      ],
      "execution_count": 0,
      "outputs": []
    },
    {
      "cell_type": "code",
      "metadata": {
        "colab_type": "code",
        "outputId": "fea76fde-5e07-44dc-cc21-67b70d438838",
        "id": "WgIdSXLaigEb",
        "colab": {
          "base_uri": "https://localhost:8080/",
          "height": 108
        }
      },
      "source": [
        "# Load model from file with pickle\n",
        "with open(rf_pickle, 'rb') as file:  \n",
        "    pickled_rf = pickle.load(file)\n",
        "\n",
        "pickled_rf"
      ],
      "execution_count": 0,
      "outputs": [
        {
          "output_type": "execute_result",
          "data": {
            "text/plain": [
              "LogisticRegression(C=0.1, class_weight=None, dual=False, fit_intercept=True,\n",
              "                   intercept_scaling=1, l1_ratio=None, max_iter=100,\n",
              "                   multi_class='auto', n_jobs=None, penalty='l2',\n",
              "                   random_state=None, solver='lbfgs', tol=0.0001, verbose=0,\n",
              "                   warm_start=False)"
            ]
          },
          "metadata": {
            "tags": []
          },
          "execution_count": 49
        }
      ]
    },
    {
      "cell_type": "markdown",
      "metadata": {
        "colab_type": "text",
        "id": "uHKsLzasigEf"
      },
      "source": [
        "##### With HOG"
      ]
    },
    {
      "cell_type": "code",
      "metadata": {
        "colab_type": "code",
        "outputId": "5f008c4f-6b2e-4c18-9587-c85b52671df8",
        "id": "rB701MQLigEf",
        "colab": {
          "base_uri": "https://localhost:8080/",
          "height": 35
        }
      },
      "source": [
        "%%timeit\n",
        "rf_h = RandomForestClassifier()\n",
        "rf_h.fit(X_train_hg, train_label)"
      ],
      "execution_count": 0,
      "outputs": [
        {
          "output_type": "stream",
          "text": [
            "1 loop, best of 3: 1min 50s per loop\n"
          ],
          "name": "stdout"
        }
      ]
    },
    {
      "cell_type": "code",
      "metadata": {
        "colab_type": "code",
        "outputId": "0e586c46-8279-4639-8c11-b5f91e80a948",
        "id": "hfkjsuwBigEl",
        "colab": {
          "base_uri": "https://localhost:8080/",
          "height": 54
        }
      },
      "source": [
        "rf_h = RandomForestClassifier()\n",
        "rf_h.fit(X_train_hg, train_label)\n",
        "print(f\"Train accuracy: {rf_h.score(X_train_hg, train_label)}\") # 1.0\n",
        "print(f\"Test accuracy:  {rf_h.score(X_val_hg, val_label):.4f}\") # 0.4339"
      ],
      "execution_count": 0,
      "outputs": [
        {
          "output_type": "stream",
          "text": [
            "Train accuracy: 1.0\n",
            "Test accuracy:  0.4339\n"
          ],
          "name": "stdout"
        }
      ]
    },
    {
      "cell_type": "code",
      "metadata": {
        "colab_type": "code",
        "id": "LJgVXg9-igEq",
        "colab": {}
      },
      "source": [
        "# Save model file with pickle\n",
        "rf_pickle_h = \"Pickle_RF_h.pkl\"  \n",
        "\n",
        "with open(rf_pickle_h, 'wb') as file:  \n",
        "    pickle.dump(rf_h, file)"
      ],
      "execution_count": 0,
      "outputs": []
    },
    {
      "cell_type": "code",
      "metadata": {
        "colab_type": "code",
        "outputId": "41dbf069-4f55-4ea6-eaf2-ce62dd6f736f",
        "id": "QRpFArzZigEv",
        "colab": {
          "base_uri": "https://localhost:8080/",
          "height": 108
        }
      },
      "source": [
        "# Load model from file with pickle\n",
        "with open(rf_pickle_h, 'rb') as file:  \n",
        "    pickled_rf_h = pickle.load(file)\n",
        "\n",
        "pickled_rf_h"
      ],
      "execution_count": 0,
      "outputs": [
        {
          "output_type": "execute_result",
          "data": {
            "text/plain": [
              "LogisticRegression(C=0.1, class_weight=None, dual=False, fit_intercept=True,\n",
              "                   intercept_scaling=1, l1_ratio=None, max_iter=100,\n",
              "                   multi_class='auto', n_jobs=None, penalty='l2',\n",
              "                   random_state=None, solver='sag', tol=0.0001, verbose=0,\n",
              "                   warm_start=False)"
            ]
          },
          "metadata": {
            "tags": []
          },
          "execution_count": 53
        }
      ]
    },
    {
      "cell_type": "markdown",
      "metadata": {
        "colab_type": "text",
        "id": "J-YJR49FqGKD"
      },
      "source": [
        "### Gradient Boosting"
      ]
    },
    {
      "cell_type": "markdown",
      "metadata": {
        "colab_type": "text",
        "id": "M1Qso7mxqGKN"
      },
      "source": [
        "##### Without HOG"
      ]
    },
    {
      "cell_type": "code",
      "metadata": {
        "colab_type": "code",
        "outputId": "31137dad-51e1-4a34-b6bd-c51d1161cded",
        "id": "YacYoigfqGKO",
        "colab": {
          "base_uri": "https://localhost:8080/",
          "height": 35
        }
      },
      "source": [
        "%%timeit\n",
        "xgb = HistGradientBoostingClassifier()\n",
        "xgb.fit(X_train_pca, train_label)"
      ],
      "execution_count": 0,
      "outputs": [
        {
          "output_type": "stream",
          "text": [
            "1 loop, best of 3: 11.3 s per loop\n"
          ],
          "name": "stdout"
        }
      ]
    },
    {
      "cell_type": "code",
      "metadata": {
        "colab_type": "code",
        "outputId": "06812478-b6c6-44a0-a946-733a57cea87b",
        "id": "3BZ-kGvxqGKV",
        "colab": {
          "base_uri": "https://localhost:8080/",
          "height": 54
        }
      },
      "source": [
        "xgb = HistGradientBoostingClassifier()\n",
        "xgb.fit(X_train_pca, train_label)\n",
        "print(f\"Train accuracy: {xgb.score(X_train_pca, train_label)}\") # 0.8060\n",
        "print(f\"Test accuracy:  {xgb.score(X_val_pca, val_label):.4f}\") # 0.4803"
      ],
      "execution_count": 0,
      "outputs": [
        {
          "output_type": "stream",
          "text": [
            "Train accuracy: 0.8060285714285714\n",
            "Test accuracy:  0.4803\n"
          ],
          "name": "stdout"
        }
      ]
    },
    {
      "cell_type": "code",
      "metadata": {
        "colab_type": "code",
        "id": "342RsKKTqGKY",
        "colab": {}
      },
      "source": [
        "# Save model file with pickle\n",
        "xgb_pickle = \"Pickle_XGB.pkl\"  \n",
        "\n",
        "with open(xgb_pickle, 'wb') as file:  \n",
        "    pickle.dump(xgb, file)"
      ],
      "execution_count": 0,
      "outputs": []
    },
    {
      "cell_type": "code",
      "metadata": {
        "colab_type": "code",
        "outputId": "fea76fde-5e07-44dc-cc21-67b70d438838",
        "id": "UDMacv6QqGKc",
        "colab": {
          "base_uri": "https://localhost:8080/",
          "height": 108
        }
      },
      "source": [
        "# Load model from file with pickle\n",
        "with open(xgb_pickle, 'rb') as file:  \n",
        "    pickled_xgb = pickle.load(file)\n",
        "\n",
        "pickled_xgb"
      ],
      "execution_count": 0,
      "outputs": [
        {
          "output_type": "execute_result",
          "data": {
            "text/plain": [
              "LogisticRegression(C=0.1, class_weight=None, dual=False, fit_intercept=True,\n",
              "                   intercept_scaling=1, l1_ratio=None, max_iter=100,\n",
              "                   multi_class='auto', n_jobs=None, penalty='l2',\n",
              "                   random_state=None, solver='lbfgs', tol=0.0001, verbose=0,\n",
              "                   warm_start=False)"
            ]
          },
          "metadata": {
            "tags": []
          },
          "execution_count": 49
        }
      ]
    },
    {
      "cell_type": "markdown",
      "metadata": {
        "colab_type": "text",
        "id": "zl0t3w7vqGKf"
      },
      "source": [
        "##### With HOG (Crashes due to too many features)"
      ]
    },
    {
      "cell_type": "code",
      "metadata": {
        "colab_type": "code",
        "id": "fc1GMlakqGKf",
        "colab": {}
      },
      "source": [
        "%%timeit\n",
        "xgb_h = HistGradientBoostingClassifier()\n",
        "xgb_h.fit(X_train_hg, train_label)"
      ],
      "execution_count": 0,
      "outputs": []
    },
    {
      "cell_type": "code",
      "metadata": {
        "colab_type": "code",
        "id": "n-cMyNjmqGKj",
        "colab": {}
      },
      "source": [
        "xgb_h = HistGradientBoostingClassifier()\n",
        "xgb_h.fit(X_train_hg, train_label)\n",
        "print(f\"Train accuracy: {xgb_h.score(X_train_hg, train_label)}\") # 0.2256\n",
        "print(f\"Test accuracy:  {xgb_h.score(X_val_hg, val_label):.4f}\") # 0.2272"
      ],
      "execution_count": 0,
      "outputs": []
    },
    {
      "cell_type": "code",
      "metadata": {
        "colab_type": "code",
        "id": "uUuOaAZnqGKo",
        "colab": {}
      },
      "source": [
        "# Save model file with pickle\n",
        "xgb_pickle_h = \"Pickle_XGB_h.pkl\"  \n",
        "\n",
        "with open(xgb_pickle_h, 'wb') as file:  \n",
        "    pickle.dump(xgb_h, file)"
      ],
      "execution_count": 0,
      "outputs": []
    },
    {
      "cell_type": "code",
      "metadata": {
        "colab_type": "code",
        "id": "uGbDjiN0qGKr",
        "colab": {}
      },
      "source": [
        "# Load model from file with pickle\n",
        "with open(xgb_pickle_h, 'rb') as file:  \n",
        "    pickled_xgb_h = pickle.load(file)\n",
        "\n",
        "pickled_xgb_h"
      ],
      "execution_count": 0,
      "outputs": []
    },
    {
      "cell_type": "markdown",
      "metadata": {
        "colab_type": "text",
        "id": "iXgb5tX8wtM0"
      },
      "source": [
        "### SVM"
      ]
    },
    {
      "cell_type": "markdown",
      "metadata": {
        "colab_type": "text",
        "id": "4MW-L6U1wtM4"
      },
      "source": [
        "##### Without HOG"
      ]
    },
    {
      "cell_type": "code",
      "metadata": {
        "colab_type": "code",
        "outputId": "fdcc2bea-8826-48d9-cb67-18fd8469d808",
        "id": "FZZ_TgucwtM5",
        "colab": {
          "base_uri": "https://localhost:8080/",
          "height": 35
        }
      },
      "source": [
        "%%timeit\n",
        "svm = SVC(C=10)\n",
        "svm.fit(X_train_pca, train_label)"
      ],
      "execution_count": 0,
      "outputs": [
        {
          "output_type": "stream",
          "text": [
            "1 loop, best of 3: 2min 43s per loop\n"
          ],
          "name": "stdout"
        }
      ]
    },
    {
      "cell_type": "code",
      "metadata": {
        "colab_type": "code",
        "outputId": "ad4ae307-6e35-475a-9c3f-9b1e11002883",
        "id": "ITl895J6wtM_",
        "colab": {
          "base_uri": "https://localhost:8080/",
          "height": 54
        }
      },
      "source": [
        "svm = SVC(C=10)\n",
        "svm.fit(X_train_pca, train_label)\n",
        "print(f\"Train accuracy: {svm.score(X_train_pca, train_label)}\") # 0.9298\n",
        "print(f\"Test accuracy:  {svm.score(X_val_pca, val_label):.4f}\") # 0.5183"
      ],
      "execution_count": 0,
      "outputs": [
        {
          "output_type": "stream",
          "text": [
            "Train accuracy: 0.9298\n",
            "Test accuracy:  0.5183\n"
          ],
          "name": "stdout"
        }
      ]
    },
    {
      "cell_type": "code",
      "metadata": {
        "colab_type": "code",
        "id": "ZtxegE65wtND",
        "colab": {}
      },
      "source": [
        "# Save model file with pickle\n",
        "svm_pickle = \"Pickle_SVM.pkl\"  \n",
        "\n",
        "with open(svm_pickle, 'wb') as file:  \n",
        "    pickle.dump(svm, file)"
      ],
      "execution_count": 0,
      "outputs": []
    },
    {
      "cell_type": "code",
      "metadata": {
        "colab_type": "code",
        "outputId": "fea76fde-5e07-44dc-cc21-67b70d438838",
        "id": "yhrExF2dwtNG",
        "colab": {
          "base_uri": "https://localhost:8080/",
          "height": 108
        }
      },
      "source": [
        "# Load model from file with pickle\n",
        "with open(svm_pickle, 'rb') as file:  \n",
        "    pickled_svm = pickle.load(file)\n",
        "\n",
        "pickled_svm"
      ],
      "execution_count": 0,
      "outputs": [
        {
          "output_type": "execute_result",
          "data": {
            "text/plain": [
              "LogisticRegression(C=0.1, class_weight=None, dual=False, fit_intercept=True,\n",
              "                   intercept_scaling=1, l1_ratio=None, max_iter=100,\n",
              "                   multi_class='auto', n_jobs=None, penalty='l2',\n",
              "                   random_state=None, solver='lbfgs', tol=0.0001, verbose=0,\n",
              "                   warm_start=False)"
            ]
          },
          "metadata": {
            "tags": []
          },
          "execution_count": 49
        }
      ]
    },
    {
      "cell_type": "markdown",
      "metadata": {
        "colab_type": "text",
        "id": "fllxdHcIwtNK"
      },
      "source": [
        "##### With HOG (Crashes due to too many features)"
      ]
    },
    {
      "cell_type": "code",
      "metadata": {
        "colab_type": "code",
        "outputId": "652d2cf0-3c51-48c5-aaed-a143629333b5",
        "id": "1c5Ixz-wwtNK",
        "colab": {
          "base_uri": "https://localhost:8080/",
          "height": 35
        }
      },
      "source": [
        "%%timeit\n",
        "svm_h = SVC(C=10)\n",
        "svm_h.fit(X_train_hg, train_label)"
      ],
      "execution_count": 0,
      "outputs": [
        {
          "output_type": "stream",
          "text": [
            "1 loop, best of 3: 1min 50s per loop\n"
          ],
          "name": "stdout"
        }
      ]
    },
    {
      "cell_type": "code",
      "metadata": {
        "colab_type": "code",
        "outputId": "418ff1a3-dcd4-4dcf-faba-79219a64d008",
        "id": "ax_2lXzawtNP",
        "colab": {
          "base_uri": "https://localhost:8080/",
          "height": 54
        }
      },
      "source": [
        "svm_h = SVC(C=10)\n",
        "svm_h.fit(X_train_hg, train_label)\n",
        "print(f\"Train accuracy: {svm_h.score(X_train_hg, train_label)}\") # 0.2256\n",
        "print(f\"Test accuracy:  {svm_h.score(X_val_hg, val_label):.4f}\") # 0.2272"
      ],
      "execution_count": 0,
      "outputs": [
        {
          "output_type": "stream",
          "text": [
            "Train accuracy: 1.0\n",
            "Test accuracy:  0.4350\n"
          ],
          "name": "stdout"
        }
      ]
    },
    {
      "cell_type": "code",
      "metadata": {
        "colab_type": "code",
        "id": "z48odBkSwtNT",
        "colab": {}
      },
      "source": [
        "# Save model file with pickle\n",
        "svm_pickle_h = \"Pickle_RF_h.pkl\"  \n",
        "\n",
        "with open(svm_pickle_h, 'wb') as file:  \n",
        "    pickle.dump(svm_h, file)"
      ],
      "execution_count": 0,
      "outputs": []
    },
    {
      "cell_type": "code",
      "metadata": {
        "colab_type": "code",
        "outputId": "41dbf069-4f55-4ea6-eaf2-ce62dd6f736f",
        "id": "-aRW-KEwwtNW",
        "colab": {
          "base_uri": "https://localhost:8080/",
          "height": 108
        }
      },
      "source": [
        "# Load model from file with pickle\n",
        "with open(svm_pickle_h, 'rb') as file:  \n",
        "    pickled_svm_h = pickle.load(file)\n",
        "\n",
        "pickled_svm_h"
      ],
      "execution_count": 0,
      "outputs": [
        {
          "output_type": "execute_result",
          "data": {
            "text/plain": [
              "LogisticRegression(C=0.1, class_weight=None, dual=False, fit_intercept=True,\n",
              "                   intercept_scaling=1, l1_ratio=None, max_iter=100,\n",
              "                   multi_class='auto', n_jobs=None, penalty='l2',\n",
              "                   random_state=None, solver='sag', tol=0.0001, verbose=0,\n",
              "                   warm_start=False)"
            ]
          },
          "metadata": {
            "tags": []
          },
          "execution_count": 53
        }
      ]
    },
    {
      "cell_type": "markdown",
      "metadata": {
        "id": "9B_IQWni0DQh",
        "colab_type": "text"
      },
      "source": [
        "# Metrics"
      ]
    },
    {
      "cell_type": "code",
      "metadata": {
        "id": "mjaHnVF40GYC",
        "colab_type": "code",
        "colab": {}
      },
      "source": [
        "# Model predictions\n",
        "pred01 = gnb.predict(X_val_pca)        # Naive Bayes without HOG\n",
        "pred02 = gnb_h.predict(X_val_hg)       # Naive Bayes with HOG\n",
        "pred03 = knn_mod.predict(X_val_pca)    # KNN without HOG\n",
        "pred04 = knn_mod_h.predict(X_val_hg)   # KNN Bayes with HOG\n",
        "pred05 = logreg.predict(X_val_pca)     # Logistic Regression without HOG\n",
        "pred06 = logreg_h.predict(X_val_hg)    # Logistic Regression with HOG\n",
        "pred07 = rf.predict(X_val_pca)         # Random Forest without HOG\n",
        "pred08 = rf_h.predict(X_val_hg)        # Random Forest Regression with HOG\n",
        "pred09 = xgb.predict(X_val_pca)        # SVM without HOG\n",
        "pred10 = svm.predict(X_val_pca)        # SVM without HOG"
      ],
      "execution_count": 0,
      "outputs": []
    },
    {
      "cell_type": "code",
      "metadata": {
        "id": "lJ_r99ko0G0Z",
        "colab_type": "code",
        "outputId": "9c06f93e-7574-427c-c005-32a2d742241f",
        "colab": {
          "base_uri": "https://localhost:8080/",
          "height": 1000
        }
      },
      "source": [
        "# Classification report\n",
        "for pred in [pred01, pred02, pred03, pred04, pred05, \n",
        "             pred06, pred07, pred08, pred09, pred10]:\n",
        "    print(classification_report(val_label, pred))"
      ],
      "execution_count": 0,
      "outputs": [
        {
          "output_type": "stream",
          "text": [
            "              precision    recall  f1-score   support\n",
            "\n",
            "           0       0.44      0.39      0.41      1500\n",
            "           1       0.40      0.38      0.39      1500\n",
            "           2       0.26      0.14      0.18      1500\n",
            "           3       0.29      0.23      0.26      1500\n",
            "           4       0.29      0.42      0.34      1500\n",
            "           5       0.38      0.30      0.34      1500\n",
            "           6       0.34      0.58      0.43      1500\n",
            "           7       0.42      0.31      0.36      1500\n",
            "           8       0.48      0.46      0.47      1500\n",
            "           9       0.41      0.49      0.45      1500\n",
            "\n",
            "    accuracy                           0.37     15000\n",
            "   macro avg       0.37      0.37      0.36     15000\n",
            "weighted avg       0.37      0.37      0.36     15000\n",
            "\n",
            "              precision    recall  f1-score   support\n",
            "\n",
            "           0       0.46      0.62      0.53      1500\n",
            "           1       0.67      0.62      0.64      1500\n",
            "           2       0.37      0.27      0.31      1500\n",
            "           3       0.34      0.23      0.27      1500\n",
            "           4       0.38      0.42      0.40      1500\n",
            "           5       0.43      0.38      0.40      1500\n",
            "           6       0.45      0.70      0.55      1500\n",
            "           7       0.67      0.52      0.58      1500\n",
            "           8       0.47      0.51      0.49      1500\n",
            "           9       0.61      0.56      0.59      1500\n",
            "\n",
            "    accuracy                           0.48     15000\n",
            "   macro avg       0.49      0.48      0.48     15000\n",
            "weighted avg       0.49      0.48      0.48     15000\n",
            "\n",
            "              precision    recall  f1-score   support\n",
            "\n",
            "           0       0.44      0.52      0.48      1500\n",
            "           1       0.55      0.36      0.43      1500\n",
            "           2       0.27      0.38      0.32      1500\n",
            "           3       0.31      0.24      0.27      1500\n",
            "           4       0.30      0.42      0.35      1500\n",
            "           5       0.35      0.27      0.30      1500\n",
            "           6       0.33      0.45      0.38      1500\n",
            "           7       0.51      0.40      0.45      1500\n",
            "           8       0.47      0.54      0.50      1500\n",
            "           9       0.52      0.31      0.39      1500\n",
            "\n",
            "    accuracy                           0.39     15000\n",
            "   macro avg       0.41      0.39      0.39     15000\n",
            "weighted avg       0.41      0.39      0.39     15000\n",
            "\n",
            "              precision    recall  f1-score   support\n",
            "\n",
            "           0       0.99      0.09      0.17      1500\n",
            "           1       0.97      0.09      0.17      1500\n",
            "           2       0.11      0.55      0.19      1500\n",
            "           3       0.38      0.04      0.08      1500\n",
            "           4       0.11      0.40      0.17      1500\n",
            "           5       0.45      0.04      0.07      1500\n",
            "           6       0.22      0.21      0.22      1500\n",
            "           7       0.81      0.06      0.11      1500\n",
            "           8       1.00      0.03      0.07      1500\n",
            "           9       1.00      0.03      0.06      1500\n",
            "\n",
            "    accuracy                           0.16     15000\n",
            "   macro avg       0.60      0.16      0.13     15000\n",
            "weighted avg       0.60      0.16      0.13     15000\n",
            "\n",
            "              precision    recall  f1-score   support\n",
            "\n",
            "           0       0.42      0.45      0.43      1500\n",
            "           1       0.37      0.40      0.39      1500\n",
            "           2       0.28      0.22      0.25      1500\n",
            "           3       0.28      0.24      0.26      1500\n",
            "           4       0.36      0.29      0.32      1500\n",
            "           5       0.34      0.33      0.33      1500\n",
            "           6       0.37      0.46      0.41      1500\n",
            "           7       0.37      0.35      0.36      1500\n",
            "           8       0.45      0.50      0.47      1500\n",
            "           9       0.43      0.49      0.46      1500\n",
            "\n",
            "    accuracy                           0.37     15000\n",
            "   macro avg       0.37      0.37      0.37     15000\n",
            "weighted avg       0.37      0.37      0.37     15000\n",
            "\n",
            "              precision    recall  f1-score   support\n",
            "\n",
            "           0       0.60      0.56      0.58      1500\n",
            "           1       0.69      0.69      0.69      1500\n",
            "           2       0.43      0.39      0.41      1500\n",
            "           3       0.39      0.32      0.35      1500\n",
            "           4       0.47      0.50      0.48      1500\n",
            "           5       0.44      0.41      0.43      1500\n",
            "           6       0.58      0.67      0.62      1500\n",
            "           7       0.59      0.63      0.61      1500\n",
            "           8       0.54      0.56      0.55      1500\n",
            "           9       0.67      0.69      0.68      1500\n",
            "\n",
            "    accuracy                           0.54     15000\n",
            "   macro avg       0.54      0.54      0.54     15000\n",
            "weighted avg       0.54      0.54      0.54     15000\n",
            "\n",
            "              precision    recall  f1-score   support\n",
            "\n",
            "           0       0.54      0.54      0.54      1500\n",
            "           1       0.50      0.57      0.53      1500\n",
            "           2       0.38      0.31      0.34      1500\n",
            "           3       0.34      0.29      0.31      1500\n",
            "           4       0.43      0.39      0.41      1500\n",
            "           5       0.41      0.39      0.40      1500\n",
            "           6       0.46      0.53      0.49      1500\n",
            "           7       0.53      0.48      0.50      1500\n",
            "           8       0.56      0.62      0.58      1500\n",
            "           9       0.46      0.53      0.50      1500\n",
            "\n",
            "    accuracy                           0.46     15000\n",
            "   macro avg       0.46      0.46      0.46     15000\n",
            "weighted avg       0.46      0.46      0.46     15000\n",
            "\n",
            "              precision    recall  f1-score   support\n",
            "\n",
            "           0       0.43      0.40      0.42      1500\n",
            "           1       0.54      0.69      0.61      1500\n",
            "           2       0.33      0.22      0.27      1500\n",
            "           3       0.28      0.23      0.25      1500\n",
            "           4       0.35      0.39      0.37      1500\n",
            "           5       0.37      0.41      0.38      1500\n",
            "           6       0.49      0.62      0.54      1500\n",
            "           7       0.54      0.49      0.51      1500\n",
            "           8       0.44      0.50      0.47      1500\n",
            "           9       0.49      0.39      0.44      1500\n",
            "\n",
            "    accuracy                           0.43     15000\n",
            "   macro avg       0.43      0.43      0.43     15000\n",
            "weighted avg       0.43      0.43      0.43     15000\n",
            "\n",
            "              precision    recall  f1-score   support\n",
            "\n",
            "           0       0.53      0.54      0.54      1500\n",
            "           1       0.55      0.56      0.55      1500\n",
            "           2       0.40      0.33      0.36      1500\n",
            "           3       0.35      0.33      0.34      1500\n",
            "           4       0.43      0.41      0.42      1500\n",
            "           5       0.41      0.38      0.40      1500\n",
            "           6       0.48      0.55      0.51      1500\n",
            "           7       0.53      0.50      0.51      1500\n",
            "           8       0.59      0.62      0.61      1500\n",
            "           9       0.50      0.57      0.53      1500\n",
            "\n",
            "    accuracy                           0.48     15000\n",
            "   macro avg       0.48      0.48      0.48     15000\n",
            "weighted avg       0.48      0.48      0.48     15000\n",
            "\n",
            "              precision    recall  f1-score   support\n",
            "\n",
            "           0       0.57      0.62      0.59      1500\n",
            "           1       0.57      0.63      0.60      1500\n",
            "           2       0.40      0.40      0.40      1500\n",
            "           3       0.36      0.37      0.37      1500\n",
            "           4       0.47      0.46      0.47      1500\n",
            "           5       0.44      0.40      0.42      1500\n",
            "           6       0.54      0.56      0.55      1500\n",
            "           7       0.61      0.55      0.58      1500\n",
            "           8       0.65      0.63      0.64      1500\n",
            "           9       0.57      0.55      0.56      1500\n",
            "\n",
            "    accuracy                           0.52     15000\n",
            "   macro avg       0.52      0.52      0.52     15000\n",
            "weighted avg       0.52      0.52      0.52     15000\n",
            "\n"
          ],
          "name": "stdout"
        }
      ]
    },
    {
      "cell_type": "code",
      "metadata": {
        "id": "n3Z6dtz70HCJ",
        "colab_type": "code",
        "colab": {}
      },
      "source": [
        ""
      ],
      "execution_count": 0,
      "outputs": []
    }
  ]
}