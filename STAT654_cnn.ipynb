{
  "nbformat": 4,
  "nbformat_minor": 0,
  "metadata": {
    "colab": {
      "name": "STAT654",
      "provenance": [],
      "collapsed_sections": []
    },
    "kernelspec": {
      "name": "python3",
      "display_name": "Python 3"
    },
    "accelerator": "GPU"
  },
  "cells": [
    {
      "cell_type": "code",
      "metadata": {
        "id": "ipXKtvhLZY2-",
        "colab_type": "code",
        "outputId": "652d760c-6946-4a68-f254-00432a3c7a77",
        "colab": {
          "base_uri": "https://localhost:8080/",
          "height": 35
        }
      },
      "source": [
        "#importing libraries\n",
        "import numpy as np\n",
        "import pandas as pd\n",
        "from imageio import imread \n",
        "from skimage.transform import resize\n",
        "import os\n",
        "import keras\n",
        "import matplotlib.pyplot as plt"
      ],
      "execution_count": 1,
      "outputs": [
        {
          "output_type": "stream",
          "text": [
            "Using TensorFlow backend.\n"
          ],
          "name": "stderr"
        }
      ]
    },
    {
      "cell_type": "code",
      "metadata": {
        "id": "b_Xipd1jZvdy",
        "colab_type": "code",
        "outputId": "356afda6-9d45-44b1-85d4-fb8e8938a9eb",
        "colab": {
          "base_uri": "https://localhost:8080/",
          "height": 52
        }
      },
      "source": [
        "#importing dataset\n",
        "from keras.datasets import cifar10\n",
        "(train_images,train_labels),(test_images,test_labels) = cifar10.load_data()"
      ],
      "execution_count": 2,
      "outputs": [
        {
          "output_type": "stream",
          "text": [
            "Downloading data from https://www.cs.toronto.edu/~kriz/cifar-10-python.tar.gz\n",
            "170500096/170498071 [==============================] - 6s 0us/step\n"
          ],
          "name": "stdout"
        }
      ]
    },
    {
      "cell_type": "code",
      "metadata": {
        "id": "aIs5qBG-9byl",
        "colab_type": "code",
        "colab": {}
      },
      "source": [
        "#train test split\n",
        "x_train = train_images[:35000]\n",
        "y_train = train_labels[:35000]\n",
        "\n",
        "x_valid = train_images[35000:]\n",
        "y_valid = train_labels[35000:]\n",
        "\n",
        "x_test = test_images\n",
        "y_test = test_labels"
      ],
      "execution_count": 0,
      "outputs": []
    },
    {
      "cell_type": "code",
      "metadata": {
        "id": "p6O5VfYYZxyL",
        "colab_type": "code",
        "outputId": "ed8ee94c-230f-4eaa-abd7-5b4c22687bf3",
        "colab": {
          "base_uri": "https://localhost:8080/",
          "height": 70
        }
      },
      "source": [
        "#images shape\n",
        "print(\"Train samples:\", x_train.shape, y_train.shape)\n",
        "print(\"Validation samples:\", x_valid.shape, y_valid.shape)\n",
        "print(\"Test samples:\", x_test.shape, y_test.shape)"
      ],
      "execution_count": 4,
      "outputs": [
        {
          "output_type": "stream",
          "text": [
            "Train samples: (35000, 32, 32, 3) (35000, 1)\n",
            "Validation samples: (15000, 32, 32, 3) (15000, 1)\n",
            "Test samples: (10000, 32, 32, 3) (10000, 1)\n"
          ],
          "name": "stdout"
        }
      ]
    },
    {
      "cell_type": "code",
      "metadata": {
        "id": "KEFJyB3WZ1VV",
        "colab_type": "code",
        "colab": {}
      },
      "source": [
        "NUM_CLASSES = 10\n",
        "cifar10_classes = [\"airplane\", \"automobile\", \"bird\", \"cat\", \"deer\", \n",
        "                   \"dog\", \"frog\", \"horse\", \"ship\", \"truck\"]"
      ],
      "execution_count": 0,
      "outputs": []
    },
    {
      "cell_type": "code",
      "metadata": {
        "id": "utap8XxfZ32g",
        "colab_type": "code",
        "colab": {}
      },
      "source": [
        "#normalizing \n",
        "x_train2 = (x_train/255) - 0.5\n",
        "x_valid2 = (x_valid/255) - 0.5\n",
        "x_test2 = (x_test/255) - 0.5\n",
        "y_train2 = keras.utils.to_categorical(y_train,NUM_CLASSES)\n",
        "y_valid2 = keras.utils.to_categorical(y_valid,NUM_CLASSES)\n",
        "y_test2 = keras.utils.to_categorical(y_test,NUM_CLASSES)"
      ],
      "execution_count": 0,
      "outputs": []
    },
    {
      "cell_type": "code",
      "metadata": {
        "id": "X90G0oNrZ51h",
        "colab_type": "code",
        "colab": {}
      },
      "source": [
        "#importing libraries for CNN model\n",
        "from keras.models import Sequential\n",
        "from keras.layers import Conv2D, MaxPooling2D, Flatten , Dense, Activation,Dropout\n",
        "from keras.layers.advanced_activations import LeakyReLU"
      ],
      "execution_count": 0,
      "outputs": []
    },
    {
      "cell_type": "code",
      "metadata": {
        "id": "2VKLEiTGZ8ad",
        "colab_type": "code",
        "colab": {}
      },
      "source": [
        "#model\n",
        "model = Sequential()\n",
        "model.add(Conv2D(32, (3, 3), padding='same',\n",
        "                 input_shape=x_train.shape[1:]))\n",
        "model.add(Activation('relu'))\n",
        "model.add(Conv2D(32, (3, 3)))\n",
        "model.add(Activation('relu'))\n",
        "model.add(MaxPooling2D(pool_size=(2, 2)))\n",
        "model.add(Dropout(0.25))\n",
        "\n",
        "model.add(Conv2D(64, (3, 3), padding='same'))\n",
        "model.add(Activation('relu'))\n",
        "model.add(Conv2D(64, (3, 3)))\n",
        "model.add(Activation('relu'))\n",
        "model.add(MaxPooling2D(pool_size=(2, 2)))\n",
        "model.add(Dropout(0.25))\n",
        "\n",
        "model.add(Conv2D(128, (3, 3), padding='same'))\n",
        "model.add(Activation('relu'))\n",
        "model.add(Conv2D(128, (3, 3)))\n",
        "model.add(Activation('relu'))\n",
        "model.add(MaxPooling2D(pool_size=(2, 2)))\n",
        "model.add(Dropout(0.25))\n",
        "\n",
        "model.add(Flatten())\n",
        "model.add(Dense(512))\n",
        "model.add(Activation('relu'))\n",
        "model.add(Dropout(0.5))\n",
        "model.add(Dense(NUM_CLASSES))\n",
        "model.add(Activation('softmax'))"
      ],
      "execution_count": 0,
      "outputs": []
    },
    {
      "cell_type": "code",
      "metadata": {
        "id": "1gh0hiBzZ-tz",
        "colab_type": "code",
        "colab": {}
      },
      "source": [
        "model.compile(loss='categorical_crossentropy', optimizer='adam', metrics = ['accuracy'])"
      ],
      "execution_count": 0,
      "outputs": []
    },
    {
      "cell_type": "code",
      "metadata": {
        "id": "1-OCFUuXaBZj",
        "colab_type": "code",
        "outputId": "d002388d-1440-4367-8f87-abf641f6217c",
        "colab": {
          "base_uri": "https://localhost:8080/",
          "height": 746
        }
      },
      "source": [
        "#checking how many epochs to use\n",
        "\n",
        "epoch = 20\n",
        "batch_size = 128\n",
        "\n",
        "import time\n",
        "\n",
        "a = time.time()\n",
        "history = model.fit(x=x_train2, y=y_train2, batch_size=batch_size,\n",
        "         epochs=epoch, validation_data=(x_valid2,y_valid2))\n",
        "b = time.time()\n",
        "  \n",
        "time_taken = (b-a)"
      ],
      "execution_count": 10,
      "outputs": [
        {
          "output_type": "stream",
          "text": [
            "Train on 35000 samples, validate on 15000 samples\n",
            "Epoch 1/20\n",
            "35000/35000 [==============================] - 13s 364us/step - loss: 1.7574 - accuracy: 0.3387 - val_loss: 1.4187 - val_accuracy: 0.4732\n",
            "Epoch 2/20\n",
            "35000/35000 [==============================] - 6s 170us/step - loss: 1.3438 - accuracy: 0.5087 - val_loss: 1.2482 - val_accuracy: 0.5551\n",
            "Epoch 3/20\n",
            "35000/35000 [==============================] - 6s 169us/step - loss: 1.1683 - accuracy: 0.5831 - val_loss: 1.1393 - val_accuracy: 0.5960\n",
            "Epoch 4/20\n",
            "35000/35000 [==============================] - 6s 170us/step - loss: 1.0488 - accuracy: 0.6273 - val_loss: 0.9355 - val_accuracy: 0.6658\n",
            "Epoch 5/20\n",
            "35000/35000 [==============================] - 6s 169us/step - loss: 0.9598 - accuracy: 0.6593 - val_loss: 0.8700 - val_accuracy: 0.6942\n",
            "Epoch 6/20\n",
            "35000/35000 [==============================] - 6s 170us/step - loss: 0.8717 - accuracy: 0.6933 - val_loss: 0.8131 - val_accuracy: 0.7158\n",
            "Epoch 7/20\n",
            "35000/35000 [==============================] - 6s 167us/step - loss: 0.8102 - accuracy: 0.7156 - val_loss: 0.7777 - val_accuracy: 0.7275\n",
            "Epoch 8/20\n",
            "35000/35000 [==============================] - 6s 169us/step - loss: 0.7670 - accuracy: 0.7333 - val_loss: 0.7479 - val_accuracy: 0.7390\n",
            "Epoch 9/20\n",
            "35000/35000 [==============================] - 6s 168us/step - loss: 0.7150 - accuracy: 0.7487 - val_loss: 0.7549 - val_accuracy: 0.7380\n",
            "Epoch 10/20\n",
            "35000/35000 [==============================] - 6s 169us/step - loss: 0.6718 - accuracy: 0.7679 - val_loss: 0.6691 - val_accuracy: 0.7719\n",
            "Epoch 11/20\n",
            "35000/35000 [==============================] - 6s 169us/step - loss: 0.6432 - accuracy: 0.7739 - val_loss: 0.6682 - val_accuracy: 0.7730\n",
            "Epoch 12/20\n",
            "35000/35000 [==============================] - 6s 169us/step - loss: 0.6170 - accuracy: 0.7833 - val_loss: 0.6455 - val_accuracy: 0.7793\n",
            "Epoch 13/20\n",
            "35000/35000 [==============================] - 6s 169us/step - loss: 0.5974 - accuracy: 0.7885 - val_loss: 0.6434 - val_accuracy: 0.7849\n",
            "Epoch 14/20\n",
            "35000/35000 [==============================] - 6s 168us/step - loss: 0.5635 - accuracy: 0.8010 - val_loss: 0.6466 - val_accuracy: 0.7803\n",
            "Epoch 15/20\n",
            "35000/35000 [==============================] - 6s 167us/step - loss: 0.5453 - accuracy: 0.8089 - val_loss: 0.6611 - val_accuracy: 0.7791\n",
            "Epoch 16/20\n",
            "35000/35000 [==============================] - 6s 167us/step - loss: 0.5188 - accuracy: 0.8188 - val_loss: 0.6068 - val_accuracy: 0.7951\n",
            "Epoch 17/20\n",
            "35000/35000 [==============================] - 6s 167us/step - loss: 0.5080 - accuracy: 0.8200 - val_loss: 0.6255 - val_accuracy: 0.7909\n",
            "Epoch 18/20\n",
            "35000/35000 [==============================] - 6s 166us/step - loss: 0.4962 - accuracy: 0.8221 - val_loss: 0.6167 - val_accuracy: 0.7920\n",
            "Epoch 19/20\n",
            "35000/35000 [==============================] - 6s 166us/step - loss: 0.4664 - accuracy: 0.8362 - val_loss: 0.6169 - val_accuracy: 0.7939\n",
            "Epoch 20/20\n",
            "35000/35000 [==============================] - 6s 166us/step - loss: 0.4611 - accuracy: 0.8369 - val_loss: 0.6201 - val_accuracy: 0.7940\n"
          ],
          "name": "stdout"
        }
      ]
    },
    {
      "cell_type": "code",
      "metadata": {
        "id": "RrjnOq8r6wHJ",
        "colab_type": "code",
        "outputId": "f39be535-01be-4ab4-8929-79d5bbde7fec",
        "colab": {
          "base_uri": "https://localhost:8080/",
          "height": 295
        }
      },
      "source": [
        "# Plot training & validation accuracy values\n",
        "import matplotlib.pyplot as plt\n",
        "\n",
        "plt.plot(history.history['accuracy'])\n",
        "plt.plot(history.history['val_accuracy'])\n",
        "plt.title('Model accuracy')\n",
        "plt.ylabel('Accuracy')\n",
        "plt.xlabel('Epoch')\n",
        "plt.legend(['Train', 'Validation'], loc='upper left')\n",
        "plt.show()"
      ],
      "execution_count": 11,
      "outputs": [
        {
          "output_type": "display_data",
          "data": {
            "image/png": "[encoded data removed]",
            "text/plain": [
              "<Figure size 432x288 with 1 Axes>"
            ]
          },
          "metadata": {
            "tags": [],
            "needs_background": "light"
          }
        }
      ]
    },
    {
      "cell_type": "code",
      "metadata": {
        "id": "EksNLN9ufNMD",
        "colab_type": "code",
        "outputId": "68ac11c7-21ce-420f-e906-fbd33e8633ea",
        "colab": {
          "base_uri": "https://localhost:8080/",
          "height": 295
        }
      },
      "source": [
        "#training and validation loss curves\n",
        "plt.plot(history.history['loss'])\n",
        "plt.plot(history.history['val_accuracy'])\n",
        "plt.title('Model loss')\n",
        "plt.ylabel('Loss')\n",
        "plt.xlabel('Epoch')\n",
        "plt.legend(['Train', 'Validation'], loc='upper left')\n",
        "plt.show()"
      ],
      "execution_count": 12,
      "outputs": [
        {
          "output_type": "display_data",
          "data": {
            "image/png": "[encoded data removed]",
            "text/plain": [
              "<Figure size 432x288 with 1 Axes>"
            ]
          },
          "metadata": {
            "tags": [],
            "needs_background": "light"
          }
        }
      ]
    },
    {
      "cell_type": "code",
      "metadata": {
        "id": "6tcpQKfnW609",
        "colab_type": "code",
        "colab": {}
      },
      "source": [
        "#We can see in the above figure how the validation accuracy plateaus after 12 epochs whereas the training accuracy keeps increasing due to overfitting on the training data. hence we will stop our model at 8 epochs."
      ],
      "execution_count": 0,
      "outputs": []
    },
    {
      "cell_type": "code",
      "metadata": {
        "id": "UCjloJtMXqT2",
        "colab_type": "code",
        "colab": {}
      },
      "source": [
        "#setting epochs and batch size\n",
        "epoch_new = 12\n",
        "batch_size = 128"
      ],
      "execution_count": 0,
      "outputs": []
    },
    {
      "cell_type": "code",
      "metadata": {
        "id": "Sy9yjF1nXWYg",
        "colab_type": "code",
        "outputId": "586f378e-76fb-459b-e3e6-d3cc04a14c58",
        "colab": {
          "base_uri": "https://localhost:8080/",
          "height": 461
        }
      },
      "source": [
        "#retraining model on new number of epochs\n",
        "import time\n",
        "\n",
        "a_new = time.time()\n",
        "history = model.fit(x=x_train2, y=y_train2, batch_size=batch_size,\n",
        "         epochs=epoch_new, validation_data=(x_valid2,y_valid2))\n",
        "b_new = time.time()\n",
        "  \n",
        "time_taken = (b_new-a_new)"
      ],
      "execution_count": 15,
      "outputs": [
        {
          "output_type": "stream",
          "text": [
            "Train on 35000 samples, validate on 15000 samples\n",
            "Epoch 1/12\n",
            "35000/35000 [==============================] - 6s 169us/step - loss: 0.4486 - accuracy: 0.8420 - val_loss: 0.6031 - val_accuracy: 0.8004\n",
            "Epoch 2/12\n",
            "35000/35000 [==============================] - 6s 167us/step - loss: 0.4456 - accuracy: 0.8443 - val_loss: 0.6372 - val_accuracy: 0.7939\n",
            "Epoch 3/12\n",
            "35000/35000 [==============================] - 6s 166us/step - loss: 0.4232 - accuracy: 0.8532 - val_loss: 0.5957 - val_accuracy: 0.8051\n",
            "Epoch 4/12\n",
            "35000/35000 [==============================] - 6s 166us/step - loss: 0.4203 - accuracy: 0.8523 - val_loss: 0.6234 - val_accuracy: 0.8011\n",
            "Epoch 5/12\n",
            "35000/35000 [==============================] - 6s 166us/step - loss: 0.4064 - accuracy: 0.8560 - val_loss: 0.6083 - val_accuracy: 0.8080\n",
            "Epoch 6/12\n",
            "35000/35000 [==============================] - 6s 167us/step - loss: 0.4006 - accuracy: 0.8595 - val_loss: 0.6053 - val_accuracy: 0.8057\n",
            "Epoch 7/12\n",
            "35000/35000 [==============================] - 6s 166us/step - loss: 0.3995 - accuracy: 0.8594 - val_loss: 0.6747 - val_accuracy: 0.7938\n",
            "Epoch 8/12\n",
            "35000/35000 [==============================] - 6s 166us/step - loss: 0.3842 - accuracy: 0.8647 - val_loss: 0.6356 - val_accuracy: 0.8003\n",
            "Epoch 9/12\n",
            "35000/35000 [==============================] - 6s 165us/step - loss: 0.3763 - accuracy: 0.8654 - val_loss: 0.6230 - val_accuracy: 0.8045\n",
            "Epoch 10/12\n",
            "35000/35000 [==============================] - 6s 166us/step - loss: 0.3689 - accuracy: 0.8681 - val_loss: 0.6352 - val_accuracy: 0.8043\n",
            "Epoch 11/12\n",
            "35000/35000 [==============================] - 6s 166us/step - loss: 0.3559 - accuracy: 0.8745 - val_loss: 0.6300 - val_accuracy: 0.8086\n",
            "Epoch 12/12\n",
            "35000/35000 [==============================] - 6s 166us/step - loss: 0.3571 - accuracy: 0.8750 - val_loss: 0.6395 - val_accuracy: 0.7991\n"
          ],
          "name": "stdout"
        }
      ]
    },
    {
      "cell_type": "code",
      "metadata": {
        "id": "Ol1TSAmFynWs",
        "colab_type": "code",
        "colab": {
          "base_uri": "https://localhost:8080/",
          "height": 295
        },
        "outputId": "f221a271-43f4-47e4-87f6-1903d5a33f3a"
      },
      "source": [
        "# Plot training & validation accuracy values\n",
        "import matplotlib.pyplot as plt\n",
        "\n",
        "plt.plot(history.history['accuracy'])\n",
        "plt.plot(history.history['val_accuracy'])\n",
        "plt.title('Model accuracy')\n",
        "plt.ylabel('Accuracy')\n",
        "plt.xlabel('Epoch')\n",
        "plt.legend(['Train', 'Validation'], loc='upper left')\n",
        "plt.show()"
      ],
      "execution_count": 16,
      "outputs": [
        {
          "output_type": "display_data",
          "data": {
            "image/png": "[encoded data removed]",
            "text/plain": [
              "<Figure size 432x288 with 1 Axes>"
            ]
          },
          "metadata": {
            "tags": [],
            "needs_background": "light"
          }
        }
      ]
    },
    {
      "cell_type": "code",
      "metadata": {
        "id": "Xy88ybZMytA-",
        "colab_type": "code",
        "colab": {
          "base_uri": "https://localhost:8080/",
          "height": 295
        },
        "outputId": "2cab1e3f-3815-424f-df80-4382c489e439"
      },
      "source": [
        "#training and validation loss curves\n",
        "plt.plot(history.history['loss'])\n",
        "plt.plot(history.history['val_accuracy'])\n",
        "plt.title('Model loss')\n",
        "plt.ylabel('Loss')\n",
        "plt.xlabel('Epoch')\n",
        "plt.legend(['Train', 'Validation'], loc='upper left')\n",
        "plt.show()"
      ],
      "execution_count": 17,
      "outputs": [
        {
          "output_type": "display_data",
          "data": {
            "image/png": "[encoded data removed]",
            "text/plain": [
              "<Figure size 432x288 with 1 Axes>"
            ]
          },
          "metadata": {
            "tags": [],
            "needs_background": "light"
          }
        }
      ]
    },
    {
      "cell_type": "code",
      "metadata": {
        "id": "XWlSShA2t5Xq",
        "colab_type": "code",
        "outputId": "62ba740e-7585-4ddf-a49a-3f4a4d5e5074",
        "colab": {
          "base_uri": "https://localhost:8080/",
          "height": 1000
        }
      },
      "source": [
        "model.summary()"
      ],
      "execution_count": 18,
      "outputs": [
        {
          "output_type": "stream",
          "text": [
            "Model: \"sequential_1\"\n",
            "_________________________________________________________________\n",
            "Layer (type)                 Output Shape              Param #   \n",
            "=================================================================\n",
            "conv2d_1 (Conv2D)            (None, 32, 32, 32)        896       \n",
            "_________________________________________________________________\n",
            "activation_1 (Activation)    (None, 32, 32, 32)        0         \n",
            "_________________________________________________________________\n",
            "conv2d_2 (Conv2D)            (None, 30, 30, 32)        9248      \n",
            "_________________________________________________________________\n",
            "activation_2 (Activation)    (None, 30, 30, 32)        0         \n",
            "_________________________________________________________________\n",
            "max_pooling2d_1 (MaxPooling2 (None, 15, 15, 32)        0         \n",
            "_________________________________________________________________\n",
            "dropout_1 (Dropout)          (None, 15, 15, 32)        0         \n",
            "_________________________________________________________________\n",
            "conv2d_3 (Conv2D)            (None, 15, 15, 64)        18496     \n",
            "_________________________________________________________________\n",
            "activation_3 (Activation)    (None, 15, 15, 64)        0         \n",
            "_________________________________________________________________\n",
            "conv2d_4 (Conv2D)            (None, 13, 13, 64)        36928     \n",
            "_________________________________________________________________\n",
            "activation_4 (Activation)    (None, 13, 13, 64)        0         \n",
            "_________________________________________________________________\n",
            "max_pooling2d_2 (MaxPooling2 (None, 6, 6, 64)          0         \n",
            "_________________________________________________________________\n",
            "dropout_2 (Dropout)          (None, 6, 6, 64)          0         \n",
            "_________________________________________________________________\n",
            "conv2d_5 (Conv2D)            (None, 6, 6, 128)         73856     \n",
            "_________________________________________________________________\n",
            "activation_5 (Activation)    (None, 6, 6, 128)         0         \n",
            "_________________________________________________________________\n",
            "conv2d_6 (Conv2D)            (None, 4, 4, 128)         147584    \n",
            "_________________________________________________________________\n",
            "activation_6 (Activation)    (None, 4, 4, 128)         0         \n",
            "_________________________________________________________________\n",
            "max_pooling2d_3 (MaxPooling2 (None, 2, 2, 128)         0         \n",
            "_________________________________________________________________\n",
            "dropout_3 (Dropout)          (None, 2, 2, 128)         0         \n",
            "_________________________________________________________________\n",
            "flatten_1 (Flatten)          (None, 512)               0         \n",
            "_________________________________________________________________\n",
            "dense_1 (Dense)              (None, 512)               262656    \n",
            "_________________________________________________________________\n",
            "activation_7 (Activation)    (None, 512)               0         \n",
            "_________________________________________________________________\n",
            "dropout_4 (Dropout)          (None, 512)               0         \n",
            "_________________________________________________________________\n",
            "dense_2 (Dense)              (None, 10)                5130      \n",
            "_________________________________________________________________\n",
            "activation_8 (Activation)    (None, 10)                0         \n",
            "=================================================================\n",
            "Total params: 554,794\n",
            "Trainable params: 554,794\n",
            "Non-trainable params: 0\n",
            "_________________________________________________________________\n"
          ],
          "name": "stdout"
        }
      ]
    },
    {
      "cell_type": "code",
      "metadata": {
        "id": "lC9jrzMgYkjZ",
        "colab_type": "code",
        "outputId": "4956c0a2-6174-43c3-9ba5-2329d183404f",
        "colab": {
          "base_uri": "https://localhost:8080/",
          "height": 35
        }
      },
      "source": [
        "#to calculate time taken\n",
        "time_taken = (b_new-a_new)\n",
        "print(time_taken)"
      ],
      "execution_count": 19,
      "outputs": [
        {
          "output_type": "stream",
          "text": [
            "69.89376282691956\n"
          ],
          "name": "stdout"
        }
      ]
    },
    {
      "cell_type": "code",
      "metadata": {
        "id": "JA0-0_H0XWcd",
        "colab_type": "code",
        "colab": {}
      },
      "source": [
        "#save model and weights\n",
        "model.save(\"model.h5\")\n",
        "model.save_weights(\"weights\")"
      ],
      "execution_count": 0,
      "outputs": []
    },
    {
      "cell_type": "code",
      "metadata": {
        "id": "SJcJnEob8G2I",
        "colab_type": "code",
        "colab": {}
      },
      "source": [
        "#to load saved model\n",
        "from keras.models import load_model\n",
        "model=load_model('model.h5')"
      ],
      "execution_count": 0,
      "outputs": []
    },
    {
      "cell_type": "code",
      "metadata": {
        "id": "0JESjQJe_LKY",
        "colab_type": "code",
        "colab": {}
      },
      "source": [
        "#predictions\n",
        "predictions = model.predict(x_test2)\n",
        "predicted_classes = model.predict_classes(x_test2)"
      ],
      "execution_count": 0,
      "outputs": []
    },
    {
      "cell_type": "code",
      "metadata": {
        "id": "dvmXtVDVoiGr",
        "colab_type": "code",
        "outputId": "f75fc742-ac0e-4f13-bd70-709712d5236a",
        "colab": {
          "base_uri": "https://localhost:8080/",
          "height": 35
        }
      },
      "source": [
        "#to check shape of predictions\n",
        "predicted_classes.shape"
      ],
      "execution_count": 22,
      "outputs": [
        {
          "output_type": "execute_result",
          "data": {
            "text/plain": [
              "(10000,)"
            ]
          },
          "metadata": {
            "tags": []
          },
          "execution_count": 22
        }
      ]
    },
    {
      "cell_type": "code",
      "metadata": {
        "id": "A5iF8DTTm61l",
        "colab_type": "code",
        "colab": {}
      },
      "source": [
        "#converting to 1D array\n",
        "predictions=predictions[:, 0]"
      ],
      "execution_count": 0,
      "outputs": []
    },
    {
      "cell_type": "code",
      "metadata": {
        "id": "nNHvXrsUnMKO",
        "colab_type": "code",
        "outputId": "59439595-3f8e-49b2-f8d1-3b871487fe1d",
        "colab": {
          "base_uri": "https://localhost:8080/",
          "height": 497
        }
      },
      "source": [
        "#metrics and confusion matrix\n",
        "from sklearn import metrics\n",
        "\n",
        "# Print the confusion matrix\n",
        "print(metrics.confusion_matrix(predicted_classes, y_test))\n",
        "\n",
        "# Print the precision and recall, among other metrics\n",
        "print(metrics.classification_report(y_test, predicted_classes, digits=10))"
      ],
      "execution_count": 24,
      "outputs": [
        {
          "output_type": "stream",
          "text": [
            "[[807  12  57  11   7   4   6   9  37  21]\n",
            " [ 12 907   5   3   0   0   1   1  35  72]\n",
            " [ 25   2 617  34  23  11  27  10   4   1]\n",
            " [ 19   8  59 643  56 108  74  38  16  34]\n",
            " [ 19   1  92  51 804  35  38  40   2   4]\n",
            " [ 13   4  98 197  35 806  34  59   4  12]\n",
            " [  8   6  38  32  17   1 813   5   5   8]\n",
            " [ 11   7  26  19  55  30   6 836   7   8]\n",
            " [ 60  11   6   5   3   3   1   1 874  13]\n",
            " [ 26  42   2   5   0   2   0   1  16 827]]\n",
            "              precision    recall  f1-score   support\n",
            "\n",
            "           0  0.8311019567 0.8070000000 0.8188736682      1000\n",
            "           1  0.8754826255 0.9070000000 0.8909626719      1000\n",
            "           2  0.8183023873 0.6170000000 0.7035347777      1000\n",
            "           3  0.6094786730 0.6430000000 0.6257907543      1000\n",
            "           4  0.7403314917 0.8040000000 0.7708533078      1000\n",
            "           5  0.6386687797 0.8060000000 0.7126436782      1000\n",
            "           6  0.8713826367 0.8130000000 0.8411795137      1000\n",
            "           7  0.8318407960 0.8360000000 0.8339152120      1000\n",
            "           8  0.8945752303 0.8740000000 0.8841679312      1000\n",
            "           9  0.8979370250 0.8270000000 0.8610098907      1000\n",
            "\n",
            "    accuracy                      0.7934000000     10000\n",
            "   macro avg  0.8009101602 0.7934000000 0.7942931406     10000\n",
            "weighted avg  0.8009101602 0.7934000000 0.7942931406     10000\n",
            "\n"
          ],
          "name": "stdout"
        }
      ]
    },
    {
      "cell_type": "code",
      "metadata": {
        "id": "k1QxdCIoigHs",
        "colab_type": "code",
        "outputId": "82f5006d-4741-4123-d36e-3f31d6f5ba63",
        "colab": {
          "base_uri": "https://localhost:8080/",
          "height": 35
        }
      },
      "source": [
        "#precision, recall, F1 score\n",
        "metrics.precision_score(y_test, predicted_classes, average='weighted')\n",
        "metrics.recall_score(y_test, predicted_classes, average='weighted')\n",
        "metrics.f1_score(y_test, predicted_classes, average='weighted')"
      ],
      "execution_count": 25,
      "outputs": [
        {
          "output_type": "execute_result",
          "data": {
            "text/plain": [
              "0.7942931405500578"
            ]
          },
          "metadata": {
            "tags": []
          },
          "execution_count": 25
        }
      ]
    },
    {
      "cell_type": "code",
      "metadata": {
        "id": "LVtPI_n1cgLz",
        "colab_type": "code",
        "outputId": "1f103460-7130-4835-e5fc-5001d426f8d2",
        "colab": {
          "base_uri": "https://localhost:8080/",
          "height": 472
        }
      },
      "source": [
        "#confusion matrix\n",
        "import matplotlib.pyplot as plt\n",
        "plt.rcParams[\"figure.figsize\"] = (8,8)\n",
        "metrics.ConfusionMatrixDisplay(metrics.confusion_matrix(predicted_classes, y_test), display_labels=['0', '1', '2', '3', '4', '5', '6', '7', '8', '9']).plot(cmap=plt.cm.Blues, values_format='.0f')\n",
        "plt.savefig(\"confusion_rf.png\")"
      ],
      "execution_count": 26,
      "outputs": [
        {
          "output_type": "display_data",
          "data": {
            "image/png": "[encoded data removed]",
            "text/plain": [
              "<Figure size 576x576 with 2 Axes>"
            ]
          },
          "metadata": {
            "tags": [],
            "needs_background": "light"
          }
        }
      ]
    },
    {
      "cell_type": "code",
      "metadata": {
        "id": "W02pQT9Jdq6L",
        "colab_type": "code",
        "colab": {}
      },
      "source": [
        ""
      ],
      "execution_count": 0,
      "outputs": []
    }
  ]
}